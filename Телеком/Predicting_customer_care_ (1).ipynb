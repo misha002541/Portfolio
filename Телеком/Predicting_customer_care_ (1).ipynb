{
 "cells": [
  {
   "cell_type": "markdown",
   "id": "f14d5dae",
   "metadata": {},
   "source": [
    "# Проект Телеком"
   ]
  },
  {
   "cell_type": "markdown",
   "id": "bc4cce0e",
   "metadata": {},
   "source": [
    "# Описание проекта"
   ]
  },
  {
   "cell_type": "markdown",
   "id": "f94d6522",
   "metadata": {},
   "source": [
    "В данном проекте нам необходимо на основе полученных данных построить модель машинного обучения, которая будет прогназировать отток клиетов. \n",
    "\n",
    "Построить несколько моделей и выбрать лучшю из них\n",
    "\n",
    "Добиться значений метрики *AUC-ROC* равной 0.89"
   ]
  },
  {
   "cell_type": "markdown",
   "id": "4bdf32e5",
   "metadata": {},
   "source": [
    "# Загрузка данных"
   ]
  },
  {
   "cell_type": "code",
   "execution_count": 2,
   "id": "1081cce2",
   "metadata": {},
   "outputs": [],
   "source": [
    "import pandas as pd\n",
    "from sklearn.model_selection import train_test_split\n",
    "from catboost import CatBoostClassifier\n",
    "from catboost import Pool, cv\n",
    "from sklearn.metrics import roc_auc_score\n",
    "from sklearn.ensemble import IsolationForest\n",
    "from sklearn.model_selection import RepeatedKFold\n",
    "from sklearn.model_selection import cross_val_score\n",
    "from sklearn.ensemble import RandomForestRegressor\n",
    "from sklearn.preprocessing import OrdinalEncoder\n",
    "from sklearn.linear_model import LogisticRegressionCV\n",
    "from sklearn.preprocessing import StandardScaler \n",
    "from sklearn.metrics import confusion_matrix\n",
    "import seaborn as sns\n",
    "import matplotlib.pyplot as plt\n",
    "from sklearn.preprocessing import OneHotEncoder\n",
    "from sklearn.model_selection import (\n",
    "    \n",
    "    RandomizedSearchCV,\n",
    "    train_test_split\n",
    ")\n",
    "from sklearn.pipeline import make_pipeline\n",
    "\n",
    "import warnings\n",
    "\n",
    "warnings.filterwarnings(\"ignore\")\n",
    "from sklearn.preprocessing import OneHotEncoder\n",
    "from sklearn.compose import make_column_transformer"
   ]
  },
  {
   "cell_type": "code",
   "execution_count": 3,
   "id": "6f7e1425",
   "metadata": {},
   "outputs": [],
   "source": [
    "contract = pd.read_csv('/datasets/final_provider/contract.csv')\n",
    "personal = pd.read_csv('/datasets/final_provider/personal.csv')\n",
    "internet = pd.read_csv('/datasets/final_provider/internet.csv')\n",
    "phone = pd.read_csv('/datasets/final_provider/phone.csv')"
   ]
  },
  {
   "cell_type": "code",
   "execution_count": 4,
   "id": "212df748",
   "metadata": {},
   "outputs": [
    {
     "data": {
      "text/html": [
       "<div>\n",
       "<style scoped>\n",
       "    .dataframe tbody tr th:only-of-type {\n",
       "        vertical-align: middle;\n",
       "    }\n",
       "\n",
       "    .dataframe tbody tr th {\n",
       "        vertical-align: top;\n",
       "    }\n",
       "\n",
       "    .dataframe thead th {\n",
       "        text-align: right;\n",
       "    }\n",
       "</style>\n",
       "<table border=\"1\" class=\"dataframe\">\n",
       "  <thead>\n",
       "    <tr style=\"text-align: right;\">\n",
       "      <th></th>\n",
       "      <th>customerID</th>\n",
       "      <th>BeginDate</th>\n",
       "      <th>EndDate</th>\n",
       "      <th>Type</th>\n",
       "      <th>PaperlessBilling</th>\n",
       "      <th>PaymentMethod</th>\n",
       "      <th>MonthlyCharges</th>\n",
       "      <th>TotalCharges</th>\n",
       "    </tr>\n",
       "  </thead>\n",
       "  <tbody>\n",
       "    <tr>\n",
       "      <th>0</th>\n",
       "      <td>7590-VHVEG</td>\n",
       "      <td>2020-01-01</td>\n",
       "      <td>No</td>\n",
       "      <td>Month-to-month</td>\n",
       "      <td>Yes</td>\n",
       "      <td>Electronic check</td>\n",
       "      <td>29.85</td>\n",
       "      <td>29.85</td>\n",
       "    </tr>\n",
       "    <tr>\n",
       "      <th>1</th>\n",
       "      <td>5575-GNVDE</td>\n",
       "      <td>2017-04-01</td>\n",
       "      <td>No</td>\n",
       "      <td>One year</td>\n",
       "      <td>No</td>\n",
       "      <td>Mailed check</td>\n",
       "      <td>56.95</td>\n",
       "      <td>1889.5</td>\n",
       "    </tr>\n",
       "    <tr>\n",
       "      <th>2</th>\n",
       "      <td>3668-QPYBK</td>\n",
       "      <td>2019-10-01</td>\n",
       "      <td>2019-12-01 00:00:00</td>\n",
       "      <td>Month-to-month</td>\n",
       "      <td>Yes</td>\n",
       "      <td>Mailed check</td>\n",
       "      <td>53.85</td>\n",
       "      <td>108.15</td>\n",
       "    </tr>\n",
       "    <tr>\n",
       "      <th>3</th>\n",
       "      <td>7795-CFOCW</td>\n",
       "      <td>2016-05-01</td>\n",
       "      <td>No</td>\n",
       "      <td>One year</td>\n",
       "      <td>No</td>\n",
       "      <td>Bank transfer (automatic)</td>\n",
       "      <td>42.30</td>\n",
       "      <td>1840.75</td>\n",
       "    </tr>\n",
       "    <tr>\n",
       "      <th>4</th>\n",
       "      <td>9237-HQITU</td>\n",
       "      <td>2019-09-01</td>\n",
       "      <td>2019-11-01 00:00:00</td>\n",
       "      <td>Month-to-month</td>\n",
       "      <td>Yes</td>\n",
       "      <td>Electronic check</td>\n",
       "      <td>70.70</td>\n",
       "      <td>151.65</td>\n",
       "    </tr>\n",
       "  </tbody>\n",
       "</table>\n",
       "</div>"
      ],
      "text/plain": [
       "   customerID   BeginDate              EndDate            Type  \\\n",
       "0  7590-VHVEG  2020-01-01                   No  Month-to-month   \n",
       "1  5575-GNVDE  2017-04-01                   No        One year   \n",
       "2  3668-QPYBK  2019-10-01  2019-12-01 00:00:00  Month-to-month   \n",
       "3  7795-CFOCW  2016-05-01                   No        One year   \n",
       "4  9237-HQITU  2019-09-01  2019-11-01 00:00:00  Month-to-month   \n",
       "\n",
       "  PaperlessBilling              PaymentMethod  MonthlyCharges TotalCharges  \n",
       "0              Yes           Electronic check           29.85        29.85  \n",
       "1               No               Mailed check           56.95       1889.5  \n",
       "2              Yes               Mailed check           53.85       108.15  \n",
       "3               No  Bank transfer (automatic)           42.30      1840.75  \n",
       "4              Yes           Electronic check           70.70       151.65  "
      ]
     },
     "execution_count": 4,
     "metadata": {},
     "output_type": "execute_result"
    }
   ],
   "source": [
    "contract.head()"
   ]
  },
  {
   "cell_type": "code",
   "execution_count": 5,
   "id": "cdb9874b",
   "metadata": {},
   "outputs": [
    {
     "data": {
      "text/plain": [
       "<AxesSubplot:>"
      ]
     },
     "execution_count": 5,
     "metadata": {},
     "output_type": "execute_result"
    },
    {
     "data": {
      "image/png": "[encoded data removed]",
      "text/plain": [
       "<Figure size 432x288 with 1 Axes>"
      ]
     },
     "metadata": {
      "needs_background": "light"
     },
     "output_type": "display_data"
    }
   ],
   "source": [
    "c_non = contract.loc[contract['EndDate'] != 'No','EndDate'].index\n",
    "c_non\n",
    "contract['MonthlyCharges'][c_non].hist()"
   ]
  },
  {
   "cell_type": "code",
   "execution_count": 6,
   "id": "01c36aed",
   "metadata": {},
   "outputs": [
    {
     "data": {
      "text/plain": [
       "<AxesSubplot:>"
      ]
     },
     "execution_count": 6,
     "metadata": {},
     "output_type": "execute_result"
    },
    {
     "data": {
      "image/png": "[encoded data removed]",
      "text/plain": [
       "<Figure size 432x288 with 1 Axes>"
      ]
     },
     "metadata": {
      "needs_background": "light"
     },
     "output_type": "display_data"
    }
   ],
   "source": [
    "contract['MonthlyCharges'].hist()"
   ]
  },
  {
   "cell_type": "code",
   "execution_count": 7,
   "id": "039a8841",
   "metadata": {},
   "outputs": [
    {
     "data": {
      "text/plain": [
       "<AxesSubplot:>"
      ]
     },
     "execution_count": 7,
     "metadata": {},
     "output_type": "execute_result"
    },
    {
     "data": {
      "image/png": "[encoded data removed]",
      "text/plain": [
       "<Figure size 432x288 with 1 Axes>"
      ]
     },
     "metadata": {
      "needs_background": "light"
     },
     "output_type": "display_data"
    }
   ],
   "source": [
    "contract['TotalCharges'][c_non].hist()"
   ]
  },
  {
   "cell_type": "code",
   "execution_count": 8,
   "id": "d6b31a98",
   "metadata": {},
   "outputs": [
    {
     "name": "stdout",
     "output_type": "stream",
     "text": [
      "<class 'pandas.core.frame.DataFrame'>\n",
      "RangeIndex: 7043 entries, 0 to 7042\n",
      "Data columns (total 8 columns):\n",
      " #   Column            Non-Null Count  Dtype  \n",
      "---  ------            --------------  -----  \n",
      " 0   customerID        7043 non-null   object \n",
      " 1   BeginDate         7043 non-null   object \n",
      " 2   EndDate           7043 non-null   object \n",
      " 3   Type              7043 non-null   object \n",
      " 4   PaperlessBilling  7043 non-null   object \n",
      " 5   PaymentMethod     7043 non-null   object \n",
      " 6   MonthlyCharges    7043 non-null   float64\n",
      " 7   TotalCharges      7043 non-null   object \n",
      "dtypes: float64(1), object(7)\n",
      "memory usage: 440.3+ KB\n"
     ]
    }
   ],
   "source": [
    "contract.info()"
   ]
  },
  {
   "cell_type": "code",
   "execution_count": 9,
   "id": "ab76d2f8",
   "metadata": {},
   "outputs": [
    {
     "data": {
      "text/html": [
       "<div>\n",
       "<style scoped>\n",
       "    .dataframe tbody tr th:only-of-type {\n",
       "        vertical-align: middle;\n",
       "    }\n",
       "\n",
       "    .dataframe tbody tr th {\n",
       "        vertical-align: top;\n",
       "    }\n",
       "\n",
       "    .dataframe thead th {\n",
       "        text-align: right;\n",
       "    }\n",
       "</style>\n",
       "<table border=\"1\" class=\"dataframe\">\n",
       "  <thead>\n",
       "    <tr style=\"text-align: right;\">\n",
       "      <th></th>\n",
       "      <th>MonthlyCharges</th>\n",
       "      <th>TotalCharges</th>\n",
       "    </tr>\n",
       "  </thead>\n",
       "  <tbody>\n",
       "    <tr>\n",
       "      <th>count</th>\n",
       "      <td>7043.000000</td>\n",
       "      <td>7032.000000</td>\n",
       "    </tr>\n",
       "    <tr>\n",
       "      <th>mean</th>\n",
       "      <td>64.761692</td>\n",
       "      <td>2283.300441</td>\n",
       "    </tr>\n",
       "    <tr>\n",
       "      <th>std</th>\n",
       "      <td>30.090047</td>\n",
       "      <td>2266.771362</td>\n",
       "    </tr>\n",
       "    <tr>\n",
       "      <th>min</th>\n",
       "      <td>18.250000</td>\n",
       "      <td>18.800000</td>\n",
       "    </tr>\n",
       "    <tr>\n",
       "      <th>25%</th>\n",
       "      <td>35.500000</td>\n",
       "      <td>401.450000</td>\n",
       "    </tr>\n",
       "    <tr>\n",
       "      <th>50%</th>\n",
       "      <td>70.350000</td>\n",
       "      <td>1397.475000</td>\n",
       "    </tr>\n",
       "    <tr>\n",
       "      <th>75%</th>\n",
       "      <td>89.850000</td>\n",
       "      <td>3794.737500</td>\n",
       "    </tr>\n",
       "    <tr>\n",
       "      <th>max</th>\n",
       "      <td>118.750000</td>\n",
       "      <td>8684.800000</td>\n",
       "    </tr>\n",
       "  </tbody>\n",
       "</table>\n",
       "</div>"
      ],
      "text/plain": [
       "       MonthlyCharges  TotalCharges\n",
       "count     7043.000000   7032.000000\n",
       "mean        64.761692   2283.300441\n",
       "std         30.090047   2266.771362\n",
       "min         18.250000     18.800000\n",
       "25%         35.500000    401.450000\n",
       "50%         70.350000   1397.475000\n",
       "75%         89.850000   3794.737500\n",
       "max        118.750000   8684.800000"
      ]
     },
     "execution_count": 9,
     "metadata": {},
     "output_type": "execute_result"
    }
   ],
   "source": [
    "contract['TotalCharges'] = pd.to_numeric(contract['TotalCharges'], errors='coerce') \n",
    "contract.describe()\n"
   ]
  },
  {
   "cell_type": "code",
   "execution_count": 10,
   "id": "9b5dc4fa",
   "metadata": {},
   "outputs": [
    {
     "data": {
      "text/html": [
       "<div>\n",
       "<style scoped>\n",
       "    .dataframe tbody tr th:only-of-type {\n",
       "        vertical-align: middle;\n",
       "    }\n",
       "\n",
       "    .dataframe tbody tr th {\n",
       "        vertical-align: top;\n",
       "    }\n",
       "\n",
       "    .dataframe thead th {\n",
       "        text-align: right;\n",
       "    }\n",
       "</style>\n",
       "<table border=\"1\" class=\"dataframe\">\n",
       "  <thead>\n",
       "    <tr style=\"text-align: right;\">\n",
       "      <th></th>\n",
       "      <th>customerID</th>\n",
       "      <th>BeginDate</th>\n",
       "      <th>EndDate</th>\n",
       "      <th>Type</th>\n",
       "      <th>PaperlessBilling</th>\n",
       "      <th>PaymentMethod</th>\n",
       "      <th>MonthlyCharges</th>\n",
       "      <th>TotalCharges</th>\n",
       "    </tr>\n",
       "  </thead>\n",
       "  <tbody>\n",
       "    <tr>\n",
       "      <th>488</th>\n",
       "      <td>4472-LVYGI</td>\n",
       "      <td>2020-02-01</td>\n",
       "      <td>No</td>\n",
       "      <td>Two year</td>\n",
       "      <td>Yes</td>\n",
       "      <td>Bank transfer (automatic)</td>\n",
       "      <td>52.55</td>\n",
       "      <td>NaN</td>\n",
       "    </tr>\n",
       "    <tr>\n",
       "      <th>753</th>\n",
       "      <td>3115-CZMZD</td>\n",
       "      <td>2020-02-01</td>\n",
       "      <td>No</td>\n",
       "      <td>Two year</td>\n",
       "      <td>No</td>\n",
       "      <td>Mailed check</td>\n",
       "      <td>20.25</td>\n",
       "      <td>NaN</td>\n",
       "    </tr>\n",
       "    <tr>\n",
       "      <th>936</th>\n",
       "      <td>5709-LVOEQ</td>\n",
       "      <td>2020-02-01</td>\n",
       "      <td>No</td>\n",
       "      <td>Two year</td>\n",
       "      <td>No</td>\n",
       "      <td>Mailed check</td>\n",
       "      <td>80.85</td>\n",
       "      <td>NaN</td>\n",
       "    </tr>\n",
       "    <tr>\n",
       "      <th>1082</th>\n",
       "      <td>4367-NUYAO</td>\n",
       "      <td>2020-02-01</td>\n",
       "      <td>No</td>\n",
       "      <td>Two year</td>\n",
       "      <td>No</td>\n",
       "      <td>Mailed check</td>\n",
       "      <td>25.75</td>\n",
       "      <td>NaN</td>\n",
       "    </tr>\n",
       "    <tr>\n",
       "      <th>1340</th>\n",
       "      <td>1371-DWPAZ</td>\n",
       "      <td>2020-02-01</td>\n",
       "      <td>No</td>\n",
       "      <td>Two year</td>\n",
       "      <td>No</td>\n",
       "      <td>Credit card (automatic)</td>\n",
       "      <td>56.05</td>\n",
       "      <td>NaN</td>\n",
       "    </tr>\n",
       "    <tr>\n",
       "      <th>3331</th>\n",
       "      <td>7644-OMVMY</td>\n",
       "      <td>2020-02-01</td>\n",
       "      <td>No</td>\n",
       "      <td>Two year</td>\n",
       "      <td>No</td>\n",
       "      <td>Mailed check</td>\n",
       "      <td>19.85</td>\n",
       "      <td>NaN</td>\n",
       "    </tr>\n",
       "    <tr>\n",
       "      <th>3826</th>\n",
       "      <td>3213-VVOLG</td>\n",
       "      <td>2020-02-01</td>\n",
       "      <td>No</td>\n",
       "      <td>Two year</td>\n",
       "      <td>No</td>\n",
       "      <td>Mailed check</td>\n",
       "      <td>25.35</td>\n",
       "      <td>NaN</td>\n",
       "    </tr>\n",
       "    <tr>\n",
       "      <th>4380</th>\n",
       "      <td>2520-SGTTA</td>\n",
       "      <td>2020-02-01</td>\n",
       "      <td>No</td>\n",
       "      <td>Two year</td>\n",
       "      <td>No</td>\n",
       "      <td>Mailed check</td>\n",
       "      <td>20.00</td>\n",
       "      <td>NaN</td>\n",
       "    </tr>\n",
       "    <tr>\n",
       "      <th>5218</th>\n",
       "      <td>2923-ARZLG</td>\n",
       "      <td>2020-02-01</td>\n",
       "      <td>No</td>\n",
       "      <td>One year</td>\n",
       "      <td>Yes</td>\n",
       "      <td>Mailed check</td>\n",
       "      <td>19.70</td>\n",
       "      <td>NaN</td>\n",
       "    </tr>\n",
       "    <tr>\n",
       "      <th>6670</th>\n",
       "      <td>4075-WKNIU</td>\n",
       "      <td>2020-02-01</td>\n",
       "      <td>No</td>\n",
       "      <td>Two year</td>\n",
       "      <td>No</td>\n",
       "      <td>Mailed check</td>\n",
       "      <td>73.35</td>\n",
       "      <td>NaN</td>\n",
       "    </tr>\n",
       "    <tr>\n",
       "      <th>6754</th>\n",
       "      <td>2775-SEFEE</td>\n",
       "      <td>2020-02-01</td>\n",
       "      <td>No</td>\n",
       "      <td>Two year</td>\n",
       "      <td>Yes</td>\n",
       "      <td>Bank transfer (automatic)</td>\n",
       "      <td>61.90</td>\n",
       "      <td>NaN</td>\n",
       "    </tr>\n",
       "  </tbody>\n",
       "</table>\n",
       "</div>"
      ],
      "text/plain": [
       "      customerID   BeginDate EndDate      Type PaperlessBilling  \\\n",
       "488   4472-LVYGI  2020-02-01      No  Two year              Yes   \n",
       "753   3115-CZMZD  2020-02-01      No  Two year               No   \n",
       "936   5709-LVOEQ  2020-02-01      No  Two year               No   \n",
       "1082  4367-NUYAO  2020-02-01      No  Two year               No   \n",
       "1340  1371-DWPAZ  2020-02-01      No  Two year               No   \n",
       "3331  7644-OMVMY  2020-02-01      No  Two year               No   \n",
       "3826  3213-VVOLG  2020-02-01      No  Two year               No   \n",
       "4380  2520-SGTTA  2020-02-01      No  Two year               No   \n",
       "5218  2923-ARZLG  2020-02-01      No  One year              Yes   \n",
       "6670  4075-WKNIU  2020-02-01      No  Two year               No   \n",
       "6754  2775-SEFEE  2020-02-01      No  Two year              Yes   \n",
       "\n",
       "                  PaymentMethod  MonthlyCharges  TotalCharges  \n",
       "488   Bank transfer (automatic)           52.55           NaN  \n",
       "753                Mailed check           20.25           NaN  \n",
       "936                Mailed check           80.85           NaN  \n",
       "1082               Mailed check           25.75           NaN  \n",
       "1340    Credit card (automatic)           56.05           NaN  \n",
       "3331               Mailed check           19.85           NaN  \n",
       "3826               Mailed check           25.35           NaN  \n",
       "4380               Mailed check           20.00           NaN  \n",
       "5218               Mailed check           19.70           NaN  \n",
       "6670               Mailed check           73.35           NaN  \n",
       "6754  Bank transfer (automatic)           61.90           NaN  "
      ]
     },
     "execution_count": 10,
     "metadata": {},
     "output_type": "execute_result"
    }
   ],
   "source": [
    "contract[contract['TotalCharges'].isna()]\n"
   ]
  },
  {
   "cell_type": "code",
   "execution_count": 11,
   "id": "cbb6590d",
   "metadata": {},
   "outputs": [],
   "source": [
    "contract['TotalCharges'][5218] = contract['MonthlyCharges'][5218]\n",
    "b = contract[contract['TotalCharges'].isna()].index\n",
    "for ss in b:\n",
    "    contract['TotalCharges'][ss] = contract['MonthlyCharges'][ss]\n"
   ]
  },
  {
   "cell_type": "code",
   "execution_count": 12,
   "id": "0a43c3ee",
   "metadata": {},
   "outputs": [
    {
     "data": {
      "text/plain": [
       "customerID          0\n",
       "BeginDate           0\n",
       "EndDate             0\n",
       "Type                0\n",
       "PaperlessBilling    0\n",
       "PaymentMethod       0\n",
       "MonthlyCharges      0\n",
       "TotalCharges        0\n",
       "dtype: int64"
      ]
     },
     "execution_count": 12,
     "metadata": {},
     "output_type": "execute_result"
    }
   ],
   "source": [
    "contract[contract['TotalCharges'].isna()].count()"
   ]
  },
  {
   "cell_type": "code",
   "execution_count": 13,
   "id": "b707176d",
   "metadata": {},
   "outputs": [
    {
     "name": "stdout",
     "output_type": "stream",
     "text": [
      "<class 'pandas.core.frame.DataFrame'>\n",
      "RangeIndex: 7043 entries, 0 to 7042\n",
      "Data columns (total 8 columns):\n",
      " #   Column            Non-Null Count  Dtype  \n",
      "---  ------            --------------  -----  \n",
      " 0   customerID        7043 non-null   object \n",
      " 1   BeginDate         7043 non-null   object \n",
      " 2   EndDate           7043 non-null   object \n",
      " 3   Type              7043 non-null   object \n",
      " 4   PaperlessBilling  7043 non-null   object \n",
      " 5   PaymentMethod     7043 non-null   object \n",
      " 6   MonthlyCharges    7043 non-null   float64\n",
      " 7   TotalCharges      7043 non-null   float64\n",
      "dtypes: float64(2), object(6)\n",
      "memory usage: 440.3+ KB\n"
     ]
    }
   ],
   "source": [
    "contract.info()"
   ]
  },
  {
   "cell_type": "code",
   "execution_count": 14,
   "id": "a51599df",
   "metadata": {
    "scrolled": true
   },
   "outputs": [
    {
     "data": {
      "text/plain": [
       "'2020-02-01'"
      ]
     },
     "execution_count": 14,
     "metadata": {},
     "output_type": "execute_result"
    }
   ],
   "source": [
    "contract['BeginDate'].max()"
   ]
  },
  {
   "cell_type": "code",
   "execution_count": 15,
   "id": "258150eb",
   "metadata": {},
   "outputs": [
    {
     "data": {
      "text/html": [
       "<div>\n",
       "<style scoped>\n",
       "    .dataframe tbody tr th:only-of-type {\n",
       "        vertical-align: middle;\n",
       "    }\n",
       "\n",
       "    .dataframe tbody tr th {\n",
       "        vertical-align: top;\n",
       "    }\n",
       "\n",
       "    .dataframe thead th {\n",
       "        text-align: right;\n",
       "    }\n",
       "</style>\n",
       "<table border=\"1\" class=\"dataframe\">\n",
       "  <thead>\n",
       "    <tr style=\"text-align: right;\">\n",
       "      <th></th>\n",
       "      <th>customerID</th>\n",
       "      <th>gender</th>\n",
       "      <th>SeniorCitizen</th>\n",
       "      <th>Partner</th>\n",
       "      <th>Dependents</th>\n",
       "    </tr>\n",
       "  </thead>\n",
       "  <tbody>\n",
       "    <tr>\n",
       "      <th>0</th>\n",
       "      <td>7590-VHVEG</td>\n",
       "      <td>Female</td>\n",
       "      <td>0</td>\n",
       "      <td>Yes</td>\n",
       "      <td>No</td>\n",
       "    </tr>\n",
       "    <tr>\n",
       "      <th>1</th>\n",
       "      <td>5575-GNVDE</td>\n",
       "      <td>Male</td>\n",
       "      <td>0</td>\n",
       "      <td>No</td>\n",
       "      <td>No</td>\n",
       "    </tr>\n",
       "    <tr>\n",
       "      <th>2</th>\n",
       "      <td>3668-QPYBK</td>\n",
       "      <td>Male</td>\n",
       "      <td>0</td>\n",
       "      <td>No</td>\n",
       "      <td>No</td>\n",
       "    </tr>\n",
       "    <tr>\n",
       "      <th>3</th>\n",
       "      <td>7795-CFOCW</td>\n",
       "      <td>Male</td>\n",
       "      <td>0</td>\n",
       "      <td>No</td>\n",
       "      <td>No</td>\n",
       "    </tr>\n",
       "    <tr>\n",
       "      <th>4</th>\n",
       "      <td>9237-HQITU</td>\n",
       "      <td>Female</td>\n",
       "      <td>0</td>\n",
       "      <td>No</td>\n",
       "      <td>No</td>\n",
       "    </tr>\n",
       "  </tbody>\n",
       "</table>\n",
       "</div>"
      ],
      "text/plain": [
       "   customerID  gender  SeniorCitizen Partner Dependents\n",
       "0  7590-VHVEG  Female              0     Yes         No\n",
       "1  5575-GNVDE    Male              0      No         No\n",
       "2  3668-QPYBK    Male              0      No         No\n",
       "3  7795-CFOCW    Male              0      No         No\n",
       "4  9237-HQITU  Female              0      No         No"
      ]
     },
     "execution_count": 15,
     "metadata": {},
     "output_type": "execute_result"
    }
   ],
   "source": [
    "personal.head()"
   ]
  },
  {
   "cell_type": "code",
   "execution_count": 16,
   "id": "c563c463",
   "metadata": {},
   "outputs": [
    {
     "data": {
      "text/plain": [
       "<AxesSubplot:>"
      ]
     },
     "execution_count": 16,
     "metadata": {},
     "output_type": "execute_result"
    },
    {
     "data": {
      "image/png": "[encoded data removed]",
      "text/plain": [
       "<Figure size 432x288 with 1 Axes>"
      ]
     },
     "metadata": {
      "needs_background": "light"
     },
     "output_type": "display_data"
    }
   ],
   "source": [
    "personal['gender'][c_non].hist()"
   ]
  },
  {
   "cell_type": "code",
   "execution_count": 17,
   "id": "3da268ba",
   "metadata": {},
   "outputs": [
    {
     "name": "stdout",
     "output_type": "stream",
     "text": [
      "<class 'pandas.core.frame.DataFrame'>\n",
      "RangeIndex: 7043 entries, 0 to 7042\n",
      "Data columns (total 5 columns):\n",
      " #   Column         Non-Null Count  Dtype \n",
      "---  ------         --------------  ----- \n",
      " 0   customerID     7043 non-null   object\n",
      " 1   gender         7043 non-null   object\n",
      " 2   SeniorCitizen  7043 non-null   int64 \n",
      " 3   Partner        7043 non-null   object\n",
      " 4   Dependents     7043 non-null   object\n",
      "dtypes: int64(1), object(4)\n",
      "memory usage: 275.2+ KB\n"
     ]
    }
   ],
   "source": [
    "personal.info()"
   ]
  },
  {
   "cell_type": "code",
   "execution_count": 18,
   "id": "a36daf4e",
   "metadata": {},
   "outputs": [
    {
     "data": {
      "text/plain": [
       "array([0, 1])"
      ]
     },
     "execution_count": 18,
     "metadata": {},
     "output_type": "execute_result"
    }
   ],
   "source": [
    "personal['SeniorCitizen'].unique()"
   ]
  },
  {
   "cell_type": "code",
   "execution_count": 19,
   "id": "eb6298f6",
   "metadata": {},
   "outputs": [
    {
     "data": {
      "text/html": [
       "<div>\n",
       "<style scoped>\n",
       "    .dataframe tbody tr th:only-of-type {\n",
       "        vertical-align: middle;\n",
       "    }\n",
       "\n",
       "    .dataframe tbody tr th {\n",
       "        vertical-align: top;\n",
       "    }\n",
       "\n",
       "    .dataframe thead th {\n",
       "        text-align: right;\n",
       "    }\n",
       "</style>\n",
       "<table border=\"1\" class=\"dataframe\">\n",
       "  <thead>\n",
       "    <tr style=\"text-align: right;\">\n",
       "      <th></th>\n",
       "      <th>customerID</th>\n",
       "      <th>InternetService</th>\n",
       "      <th>OnlineSecurity</th>\n",
       "      <th>OnlineBackup</th>\n",
       "      <th>DeviceProtection</th>\n",
       "      <th>TechSupport</th>\n",
       "      <th>StreamingTV</th>\n",
       "      <th>StreamingMovies</th>\n",
       "    </tr>\n",
       "  </thead>\n",
       "  <tbody>\n",
       "    <tr>\n",
       "      <th>0</th>\n",
       "      <td>7590-VHVEG</td>\n",
       "      <td>DSL</td>\n",
       "      <td>No</td>\n",
       "      <td>Yes</td>\n",
       "      <td>No</td>\n",
       "      <td>No</td>\n",
       "      <td>No</td>\n",
       "      <td>No</td>\n",
       "    </tr>\n",
       "    <tr>\n",
       "      <th>1</th>\n",
       "      <td>5575-GNVDE</td>\n",
       "      <td>DSL</td>\n",
       "      <td>Yes</td>\n",
       "      <td>No</td>\n",
       "      <td>Yes</td>\n",
       "      <td>No</td>\n",
       "      <td>No</td>\n",
       "      <td>No</td>\n",
       "    </tr>\n",
       "    <tr>\n",
       "      <th>2</th>\n",
       "      <td>3668-QPYBK</td>\n",
       "      <td>DSL</td>\n",
       "      <td>Yes</td>\n",
       "      <td>Yes</td>\n",
       "      <td>No</td>\n",
       "      <td>No</td>\n",
       "      <td>No</td>\n",
       "      <td>No</td>\n",
       "    </tr>\n",
       "    <tr>\n",
       "      <th>3</th>\n",
       "      <td>7795-CFOCW</td>\n",
       "      <td>DSL</td>\n",
       "      <td>Yes</td>\n",
       "      <td>No</td>\n",
       "      <td>Yes</td>\n",
       "      <td>Yes</td>\n",
       "      <td>No</td>\n",
       "      <td>No</td>\n",
       "    </tr>\n",
       "    <tr>\n",
       "      <th>4</th>\n",
       "      <td>9237-HQITU</td>\n",
       "      <td>Fiber optic</td>\n",
       "      <td>No</td>\n",
       "      <td>No</td>\n",
       "      <td>No</td>\n",
       "      <td>No</td>\n",
       "      <td>No</td>\n",
       "      <td>No</td>\n",
       "    </tr>\n",
       "  </tbody>\n",
       "</table>\n",
       "</div>"
      ],
      "text/plain": [
       "   customerID InternetService OnlineSecurity OnlineBackup DeviceProtection  \\\n",
       "0  7590-VHVEG             DSL             No          Yes               No   \n",
       "1  5575-GNVDE             DSL            Yes           No              Yes   \n",
       "2  3668-QPYBK             DSL            Yes          Yes               No   \n",
       "3  7795-CFOCW             DSL            Yes           No              Yes   \n",
       "4  9237-HQITU     Fiber optic             No           No               No   \n",
       "\n",
       "  TechSupport StreamingTV StreamingMovies  \n",
       "0          No          No              No  \n",
       "1          No          No              No  \n",
       "2          No          No              No  \n",
       "3         Yes          No              No  \n",
       "4          No          No              No  "
      ]
     },
     "execution_count": 19,
     "metadata": {},
     "output_type": "execute_result"
    }
   ],
   "source": [
    "internet.head()"
   ]
  },
  {
   "cell_type": "code",
   "execution_count": 20,
   "id": "23847e44",
   "metadata": {},
   "outputs": [
    {
     "name": "stdout",
     "output_type": "stream",
     "text": [
      "<class 'pandas.core.frame.DataFrame'>\n",
      "RangeIndex: 5517 entries, 0 to 5516\n",
      "Data columns (total 8 columns):\n",
      " #   Column            Non-Null Count  Dtype \n",
      "---  ------            --------------  ----- \n",
      " 0   customerID        5517 non-null   object\n",
      " 1   InternetService   5517 non-null   object\n",
      " 2   OnlineSecurity    5517 non-null   object\n",
      " 3   OnlineBackup      5517 non-null   object\n",
      " 4   DeviceProtection  5517 non-null   object\n",
      " 5   TechSupport       5517 non-null   object\n",
      " 6   StreamingTV       5517 non-null   object\n",
      " 7   StreamingMovies   5517 non-null   object\n",
      "dtypes: object(8)\n",
      "memory usage: 344.9+ KB\n"
     ]
    }
   ],
   "source": [
    "internet.info()"
   ]
  },
  {
   "cell_type": "code",
   "execution_count": 21,
   "id": "fa8815c9",
   "metadata": {},
   "outputs": [
    {
     "data": {
      "text/html": [
       "<div>\n",
       "<style scoped>\n",
       "    .dataframe tbody tr th:only-of-type {\n",
       "        vertical-align: middle;\n",
       "    }\n",
       "\n",
       "    .dataframe tbody tr th {\n",
       "        vertical-align: top;\n",
       "    }\n",
       "\n",
       "    .dataframe thead th {\n",
       "        text-align: right;\n",
       "    }\n",
       "</style>\n",
       "<table border=\"1\" class=\"dataframe\">\n",
       "  <thead>\n",
       "    <tr style=\"text-align: right;\">\n",
       "      <th></th>\n",
       "      <th>customerID</th>\n",
       "      <th>InternetService</th>\n",
       "      <th>OnlineSecurity</th>\n",
       "      <th>OnlineBackup</th>\n",
       "      <th>DeviceProtection</th>\n",
       "      <th>TechSupport</th>\n",
       "      <th>StreamingTV</th>\n",
       "      <th>StreamingMovies</th>\n",
       "    </tr>\n",
       "  </thead>\n",
       "  <tbody>\n",
       "    <tr>\n",
       "      <th>count</th>\n",
       "      <td>5517</td>\n",
       "      <td>5517</td>\n",
       "      <td>5517</td>\n",
       "      <td>5517</td>\n",
       "      <td>5517</td>\n",
       "      <td>5517</td>\n",
       "      <td>5517</td>\n",
       "      <td>5517</td>\n",
       "    </tr>\n",
       "    <tr>\n",
       "      <th>unique</th>\n",
       "      <td>5517</td>\n",
       "      <td>2</td>\n",
       "      <td>2</td>\n",
       "      <td>2</td>\n",
       "      <td>2</td>\n",
       "      <td>2</td>\n",
       "      <td>2</td>\n",
       "      <td>2</td>\n",
       "    </tr>\n",
       "    <tr>\n",
       "      <th>top</th>\n",
       "      <td>4910-AQFFX</td>\n",
       "      <td>Fiber optic</td>\n",
       "      <td>No</td>\n",
       "      <td>No</td>\n",
       "      <td>No</td>\n",
       "      <td>No</td>\n",
       "      <td>No</td>\n",
       "      <td>No</td>\n",
       "    </tr>\n",
       "    <tr>\n",
       "      <th>freq</th>\n",
       "      <td>1</td>\n",
       "      <td>3096</td>\n",
       "      <td>3498</td>\n",
       "      <td>3088</td>\n",
       "      <td>3095</td>\n",
       "      <td>3473</td>\n",
       "      <td>2810</td>\n",
       "      <td>2785</td>\n",
       "    </tr>\n",
       "  </tbody>\n",
       "</table>\n",
       "</div>"
      ],
      "text/plain": [
       "        customerID InternetService OnlineSecurity OnlineBackup  \\\n",
       "count         5517            5517           5517         5517   \n",
       "unique        5517               2              2            2   \n",
       "top     4910-AQFFX     Fiber optic             No           No   \n",
       "freq             1            3096           3498         3088   \n",
       "\n",
       "       DeviceProtection TechSupport StreamingTV StreamingMovies  \n",
       "count              5517        5517        5517            5517  \n",
       "unique                2           2           2               2  \n",
       "top                  No          No          No              No  \n",
       "freq               3095        3473        2810            2785  "
      ]
     },
     "execution_count": 21,
     "metadata": {},
     "output_type": "execute_result"
    }
   ],
   "source": [
    "internet.describe()"
   ]
  },
  {
   "cell_type": "code",
   "execution_count": 22,
   "id": "1f243e4a",
   "metadata": {},
   "outputs": [
    {
     "data": {
      "text/html": [
       "<div>\n",
       "<style scoped>\n",
       "    .dataframe tbody tr th:only-of-type {\n",
       "        vertical-align: middle;\n",
       "    }\n",
       "\n",
       "    .dataframe tbody tr th {\n",
       "        vertical-align: top;\n",
       "    }\n",
       "\n",
       "    .dataframe thead th {\n",
       "        text-align: right;\n",
       "    }\n",
       "</style>\n",
       "<table border=\"1\" class=\"dataframe\">\n",
       "  <thead>\n",
       "    <tr style=\"text-align: right;\">\n",
       "      <th></th>\n",
       "      <th>customerID</th>\n",
       "      <th>MultipleLines</th>\n",
       "    </tr>\n",
       "  </thead>\n",
       "  <tbody>\n",
       "    <tr>\n",
       "      <th>0</th>\n",
       "      <td>5575-GNVDE</td>\n",
       "      <td>No</td>\n",
       "    </tr>\n",
       "    <tr>\n",
       "      <th>1</th>\n",
       "      <td>3668-QPYBK</td>\n",
       "      <td>No</td>\n",
       "    </tr>\n",
       "    <tr>\n",
       "      <th>2</th>\n",
       "      <td>9237-HQITU</td>\n",
       "      <td>No</td>\n",
       "    </tr>\n",
       "    <tr>\n",
       "      <th>3</th>\n",
       "      <td>9305-CDSKC</td>\n",
       "      <td>Yes</td>\n",
       "    </tr>\n",
       "    <tr>\n",
       "      <th>4</th>\n",
       "      <td>1452-KIOVK</td>\n",
       "      <td>Yes</td>\n",
       "    </tr>\n",
       "  </tbody>\n",
       "</table>\n",
       "</div>"
      ],
      "text/plain": [
       "   customerID MultipleLines\n",
       "0  5575-GNVDE            No\n",
       "1  3668-QPYBK            No\n",
       "2  9237-HQITU            No\n",
       "3  9305-CDSKC           Yes\n",
       "4  1452-KIOVK           Yes"
      ]
     },
     "execution_count": 22,
     "metadata": {},
     "output_type": "execute_result"
    }
   ],
   "source": [
    "phone.head()"
   ]
  },
  {
   "cell_type": "code",
   "execution_count": 23,
   "id": "cb94fc81",
   "metadata": {},
   "outputs": [
    {
     "name": "stdout",
     "output_type": "stream",
     "text": [
      "<class 'pandas.core.frame.DataFrame'>\n",
      "RangeIndex: 6361 entries, 0 to 6360\n",
      "Data columns (total 2 columns):\n",
      " #   Column         Non-Null Count  Dtype \n",
      "---  ------         --------------  ----- \n",
      " 0   customerID     6361 non-null   object\n",
      " 1   MultipleLines  6361 non-null   object\n",
      "dtypes: object(2)\n",
      "memory usage: 99.5+ KB\n"
     ]
    }
   ],
   "source": [
    "phone.info()"
   ]
  },
  {
   "cell_type": "code",
   "execution_count": 24,
   "id": "4878819e",
   "metadata": {},
   "outputs": [
    {
     "data": {
      "text/plain": [
       "count     6361\n",
       "unique       2\n",
       "top         No\n",
       "freq      3390\n",
       "Name: MultipleLines, dtype: object"
      ]
     },
     "execution_count": 24,
     "metadata": {},
     "output_type": "execute_result"
    }
   ],
   "source": [
    "phone['MultipleLines'].describe()"
   ]
  },
  {
   "cell_type": "markdown",
   "id": "00ef80d8",
   "metadata": {},
   "source": [
    "**Вывод**\n",
    "\n",
    "На основе полученных данных можно сделать несколько выводов:\n",
    "\n",
    "- Гендер никак не влияет на отток клиентов\n",
    "- Большинство клиентов , которые рассторгнули контракт платили в месяц от 70 до 120 в месяц и по итогу общая выручка не превышала 1000, возможно данная цена не удовлетворяла покупателей и спектром услуг , которые им были доступны. \n"
   ]
  },
  {
   "cell_type": "markdown",
   "id": "78172758",
   "metadata": {},
   "source": [
    "# План работы \n",
    "\n",
    "- Проверка данных на дубликаты , аномалии и их решение\n",
    "- Подгоитовка данных к работе с машинным обучением\n",
    "- Необходимо добавить дополнителный стиолбец с количеством дней \n",
    "- Объединить первые две таблицы , удалить ненужные для обучения столбцы\n",
    "- Обучение нескеольких моделей Линейная регрессия, Случайный лес и CatBoost\n",
    "- Тестирование и написание выводов по проектыу"
   ]
  },
  {
   "cell_type": "markdown",
   "id": "816b782f",
   "metadata": {},
   "source": [
    "# Предобработка данных"
   ]
  },
  {
   "cell_type": "markdown",
   "id": "d2e79772",
   "metadata": {},
   "source": [
    "Добавление дополнительной таблицы с количеством дней пользователя, проверка на дубликаты и аномалии "
   ]
  },
  {
   "cell_type": "code",
   "execution_count": 25,
   "id": "41aa8013",
   "metadata": {},
   "outputs": [],
   "source": [
    "r = 26122"
   ]
  },
  {
   "cell_type": "code",
   "execution_count": 26,
   "id": "0bf2c98b",
   "metadata": {},
   "outputs": [
    {
     "name": "stdout",
     "output_type": "stream",
     "text": [
      "Количество аномалий:  0\n"
     ]
    }
   ],
   "source": [
    "data = contract[['MonthlyCharges', 'TotalCharges']]\n",
    "\n",
    "isolation_forest = IsolationForest(n_estimators=100)\n",
    "isolation_forest.fit(data)\n",
    "anomaly_scores = isolation_forest.decision_function(data)\n",
    "\n",
    "outliers = []\n",
    "for i in range(len(anomaly_scores)):\n",
    "    if anomaly_scores[i] == -1:\n",
    "        outliers.append(i)\n",
    "\n",
    "print(\"Количество аномалий: \", len(outliers))"
   ]
  },
  {
   "cell_type": "code",
   "execution_count": 27,
   "id": "b83bb919",
   "metadata": {},
   "outputs": [
    {
     "name": "stdout",
     "output_type": "stream",
     "text": [
      "Количество дубликатов:  0\n"
     ]
    }
   ],
   "source": [
    "print(\"Количество дубликатов: \",contract.duplicated().sum())"
   ]
  },
  {
   "cell_type": "code",
   "execution_count": 28,
   "id": "3b5b611e",
   "metadata": {},
   "outputs": [],
   "source": [
    "contract['BDate'] = pd.to_datetime(\n",
    "    contract['BeginDate'], format='%Y-%m-%d'\n",
    ")\n",
    "\n",
    "contract['EDate'] = contract['EndDate']\n",
    "contract.loc[contract['EDate'] == 'No','EDate'] = contract['BeginDate'].max()\n",
    "contract['EDate'] = pd.to_datetime(\n",
    "    contract['EDate'], format='%Y-%m-%d'\n",
    ")\n",
    "contract['leave'] = contract['EndDate']\n",
    "contract.loc[contract['leave'] != 'No','leave'] = 1\n",
    "contract.loc[contract['leave'] == 'No','leave'] = 0\n"
   ]
  },
  {
   "cell_type": "code",
   "execution_count": 29,
   "id": "ec5e1621",
   "metadata": {},
   "outputs": [],
   "source": [
    "contract['Day'] = contract['EDate'] -contract['BDate']"
   ]
  },
  {
   "cell_type": "code",
   "execution_count": 30,
   "id": "58687eef",
   "metadata": {},
   "outputs": [
    {
     "data": {
      "text/html": [
       "<div>\n",
       "<style scoped>\n",
       "    .dataframe tbody tr th:only-of-type {\n",
       "        vertical-align: middle;\n",
       "    }\n",
       "\n",
       "    .dataframe tbody tr th {\n",
       "        vertical-align: top;\n",
       "    }\n",
       "\n",
       "    .dataframe thead th {\n",
       "        text-align: right;\n",
       "    }\n",
       "</style>\n",
       "<table border=\"1\" class=\"dataframe\">\n",
       "  <thead>\n",
       "    <tr style=\"text-align: right;\">\n",
       "      <th></th>\n",
       "      <th>customerID</th>\n",
       "      <th>BeginDate</th>\n",
       "      <th>EndDate</th>\n",
       "      <th>Type</th>\n",
       "      <th>PaperlessBilling</th>\n",
       "      <th>PaymentMethod</th>\n",
       "      <th>MonthlyCharges</th>\n",
       "      <th>TotalCharges</th>\n",
       "      <th>BDate</th>\n",
       "      <th>EDate</th>\n",
       "      <th>leave</th>\n",
       "      <th>Day</th>\n",
       "    </tr>\n",
       "  </thead>\n",
       "  <tbody>\n",
       "    <tr>\n",
       "      <th>0</th>\n",
       "      <td>7590-VHVEG</td>\n",
       "      <td>2020-01-01</td>\n",
       "      <td>No</td>\n",
       "      <td>Month-to-month</td>\n",
       "      <td>Yes</td>\n",
       "      <td>Electronic check</td>\n",
       "      <td>29.85</td>\n",
       "      <td>29.85</td>\n",
       "      <td>2020-01-01</td>\n",
       "      <td>2020-02-01</td>\n",
       "      <td>0</td>\n",
       "      <td>31 days</td>\n",
       "    </tr>\n",
       "    <tr>\n",
       "      <th>1</th>\n",
       "      <td>5575-GNVDE</td>\n",
       "      <td>2017-04-01</td>\n",
       "      <td>No</td>\n",
       "      <td>One year</td>\n",
       "      <td>No</td>\n",
       "      <td>Mailed check</td>\n",
       "      <td>56.95</td>\n",
       "      <td>1889.50</td>\n",
       "      <td>2017-04-01</td>\n",
       "      <td>2020-02-01</td>\n",
       "      <td>0</td>\n",
       "      <td>1036 days</td>\n",
       "    </tr>\n",
       "    <tr>\n",
       "      <th>2</th>\n",
       "      <td>3668-QPYBK</td>\n",
       "      <td>2019-10-01</td>\n",
       "      <td>2019-12-01 00:00:00</td>\n",
       "      <td>Month-to-month</td>\n",
       "      <td>Yes</td>\n",
       "      <td>Mailed check</td>\n",
       "      <td>53.85</td>\n",
       "      <td>108.15</td>\n",
       "      <td>2019-10-01</td>\n",
       "      <td>2019-12-01</td>\n",
       "      <td>1</td>\n",
       "      <td>61 days</td>\n",
       "    </tr>\n",
       "    <tr>\n",
       "      <th>3</th>\n",
       "      <td>7795-CFOCW</td>\n",
       "      <td>2016-05-01</td>\n",
       "      <td>No</td>\n",
       "      <td>One year</td>\n",
       "      <td>No</td>\n",
       "      <td>Bank transfer (automatic)</td>\n",
       "      <td>42.30</td>\n",
       "      <td>1840.75</td>\n",
       "      <td>2016-05-01</td>\n",
       "      <td>2020-02-01</td>\n",
       "      <td>0</td>\n",
       "      <td>1371 days</td>\n",
       "    </tr>\n",
       "    <tr>\n",
       "      <th>4</th>\n",
       "      <td>9237-HQITU</td>\n",
       "      <td>2019-09-01</td>\n",
       "      <td>2019-11-01 00:00:00</td>\n",
       "      <td>Month-to-month</td>\n",
       "      <td>Yes</td>\n",
       "      <td>Electronic check</td>\n",
       "      <td>70.70</td>\n",
       "      <td>151.65</td>\n",
       "      <td>2019-09-01</td>\n",
       "      <td>2019-11-01</td>\n",
       "      <td>1</td>\n",
       "      <td>61 days</td>\n",
       "    </tr>\n",
       "  </tbody>\n",
       "</table>\n",
       "</div>"
      ],
      "text/plain": [
       "   customerID   BeginDate              EndDate            Type  \\\n",
       "0  7590-VHVEG  2020-01-01                   No  Month-to-month   \n",
       "1  5575-GNVDE  2017-04-01                   No        One year   \n",
       "2  3668-QPYBK  2019-10-01  2019-12-01 00:00:00  Month-to-month   \n",
       "3  7795-CFOCW  2016-05-01                   No        One year   \n",
       "4  9237-HQITU  2019-09-01  2019-11-01 00:00:00  Month-to-month   \n",
       "\n",
       "  PaperlessBilling              PaymentMethod  MonthlyCharges  TotalCharges  \\\n",
       "0              Yes           Electronic check           29.85         29.85   \n",
       "1               No               Mailed check           56.95       1889.50   \n",
       "2              Yes               Mailed check           53.85        108.15   \n",
       "3               No  Bank transfer (automatic)           42.30       1840.75   \n",
       "4              Yes           Electronic check           70.70        151.65   \n",
       "\n",
       "       BDate      EDate leave       Day  \n",
       "0 2020-01-01 2020-02-01     0   31 days  \n",
       "1 2017-04-01 2020-02-01     0 1036 days  \n",
       "2 2019-10-01 2019-12-01     1   61 days  \n",
       "3 2016-05-01 2020-02-01     0 1371 days  \n",
       "4 2019-09-01 2019-11-01     1   61 days  "
      ]
     },
     "execution_count": 30,
     "metadata": {},
     "output_type": "execute_result"
    }
   ],
   "source": [
    "contract.head()"
   ]
  },
  {
   "cell_type": "markdown",
   "id": "ca38f28c",
   "metadata": {},
   "source": [
    "# Объеденение таблиц "
   ]
  },
  {
   "cell_type": "code",
   "execution_count": 31,
   "id": "9de4e4f5",
   "metadata": {},
   "outputs": [
    {
     "data": {
      "text/html": [
       "<div>\n",
       "<style scoped>\n",
       "    .dataframe tbody tr th:only-of-type {\n",
       "        vertical-align: middle;\n",
       "    }\n",
       "\n",
       "    .dataframe tbody tr th {\n",
       "        vertical-align: top;\n",
       "    }\n",
       "\n",
       "    .dataframe thead th {\n",
       "        text-align: right;\n",
       "    }\n",
       "</style>\n",
       "<table border=\"1\" class=\"dataframe\">\n",
       "  <thead>\n",
       "    <tr style=\"text-align: right;\">\n",
       "      <th></th>\n",
       "      <th>customerID</th>\n",
       "      <th>BeginDate</th>\n",
       "      <th>EndDate</th>\n",
       "      <th>Type</th>\n",
       "      <th>PaperlessBilling</th>\n",
       "      <th>PaymentMethod</th>\n",
       "      <th>MonthlyCharges</th>\n",
       "      <th>TotalCharges</th>\n",
       "      <th>BDate</th>\n",
       "      <th>EDate</th>\n",
       "      <th>leave</th>\n",
       "      <th>Day</th>\n",
       "      <th>gender</th>\n",
       "      <th>SeniorCitizen</th>\n",
       "      <th>Partner</th>\n",
       "      <th>Dependents</th>\n",
       "    </tr>\n",
       "  </thead>\n",
       "  <tbody>\n",
       "    <tr>\n",
       "      <th>0</th>\n",
       "      <td>7590-VHVEG</td>\n",
       "      <td>2020-01-01</td>\n",
       "      <td>No</td>\n",
       "      <td>Month-to-month</td>\n",
       "      <td>Yes</td>\n",
       "      <td>Electronic check</td>\n",
       "      <td>29.85</td>\n",
       "      <td>29.85</td>\n",
       "      <td>2020-01-01</td>\n",
       "      <td>2020-02-01</td>\n",
       "      <td>0</td>\n",
       "      <td>31 days</td>\n",
       "      <td>Female</td>\n",
       "      <td>0</td>\n",
       "      <td>Yes</td>\n",
       "      <td>No</td>\n",
       "    </tr>\n",
       "    <tr>\n",
       "      <th>1</th>\n",
       "      <td>5575-GNVDE</td>\n",
       "      <td>2017-04-01</td>\n",
       "      <td>No</td>\n",
       "      <td>One year</td>\n",
       "      <td>No</td>\n",
       "      <td>Mailed check</td>\n",
       "      <td>56.95</td>\n",
       "      <td>1889.50</td>\n",
       "      <td>2017-04-01</td>\n",
       "      <td>2020-02-01</td>\n",
       "      <td>0</td>\n",
       "      <td>1036 days</td>\n",
       "      <td>Male</td>\n",
       "      <td>0</td>\n",
       "      <td>No</td>\n",
       "      <td>No</td>\n",
       "    </tr>\n",
       "    <tr>\n",
       "      <th>2</th>\n",
       "      <td>3668-QPYBK</td>\n",
       "      <td>2019-10-01</td>\n",
       "      <td>2019-12-01 00:00:00</td>\n",
       "      <td>Month-to-month</td>\n",
       "      <td>Yes</td>\n",
       "      <td>Mailed check</td>\n",
       "      <td>53.85</td>\n",
       "      <td>108.15</td>\n",
       "      <td>2019-10-01</td>\n",
       "      <td>2019-12-01</td>\n",
       "      <td>1</td>\n",
       "      <td>61 days</td>\n",
       "      <td>Male</td>\n",
       "      <td>0</td>\n",
       "      <td>No</td>\n",
       "      <td>No</td>\n",
       "    </tr>\n",
       "    <tr>\n",
       "      <th>3</th>\n",
       "      <td>7795-CFOCW</td>\n",
       "      <td>2016-05-01</td>\n",
       "      <td>No</td>\n",
       "      <td>One year</td>\n",
       "      <td>No</td>\n",
       "      <td>Bank transfer (automatic)</td>\n",
       "      <td>42.30</td>\n",
       "      <td>1840.75</td>\n",
       "      <td>2016-05-01</td>\n",
       "      <td>2020-02-01</td>\n",
       "      <td>0</td>\n",
       "      <td>1371 days</td>\n",
       "      <td>Male</td>\n",
       "      <td>0</td>\n",
       "      <td>No</td>\n",
       "      <td>No</td>\n",
       "    </tr>\n",
       "    <tr>\n",
       "      <th>4</th>\n",
       "      <td>9237-HQITU</td>\n",
       "      <td>2019-09-01</td>\n",
       "      <td>2019-11-01 00:00:00</td>\n",
       "      <td>Month-to-month</td>\n",
       "      <td>Yes</td>\n",
       "      <td>Electronic check</td>\n",
       "      <td>70.70</td>\n",
       "      <td>151.65</td>\n",
       "      <td>2019-09-01</td>\n",
       "      <td>2019-11-01</td>\n",
       "      <td>1</td>\n",
       "      <td>61 days</td>\n",
       "      <td>Female</td>\n",
       "      <td>0</td>\n",
       "      <td>No</td>\n",
       "      <td>No</td>\n",
       "    </tr>\n",
       "    <tr>\n",
       "      <th>...</th>\n",
       "      <td>...</td>\n",
       "      <td>...</td>\n",
       "      <td>...</td>\n",
       "      <td>...</td>\n",
       "      <td>...</td>\n",
       "      <td>...</td>\n",
       "      <td>...</td>\n",
       "      <td>...</td>\n",
       "      <td>...</td>\n",
       "      <td>...</td>\n",
       "      <td>...</td>\n",
       "      <td>...</td>\n",
       "      <td>...</td>\n",
       "      <td>...</td>\n",
       "      <td>...</td>\n",
       "      <td>...</td>\n",
       "    </tr>\n",
       "    <tr>\n",
       "      <th>7038</th>\n",
       "      <td>6840-RESVB</td>\n",
       "      <td>2018-02-01</td>\n",
       "      <td>No</td>\n",
       "      <td>One year</td>\n",
       "      <td>Yes</td>\n",
       "      <td>Mailed check</td>\n",
       "      <td>84.80</td>\n",
       "      <td>1990.50</td>\n",
       "      <td>2018-02-01</td>\n",
       "      <td>2020-02-01</td>\n",
       "      <td>0</td>\n",
       "      <td>730 days</td>\n",
       "      <td>Male</td>\n",
       "      <td>0</td>\n",
       "      <td>Yes</td>\n",
       "      <td>Yes</td>\n",
       "    </tr>\n",
       "    <tr>\n",
       "      <th>7039</th>\n",
       "      <td>2234-XADUH</td>\n",
       "      <td>2014-02-01</td>\n",
       "      <td>No</td>\n",
       "      <td>One year</td>\n",
       "      <td>Yes</td>\n",
       "      <td>Credit card (automatic)</td>\n",
       "      <td>103.20</td>\n",
       "      <td>7362.90</td>\n",
       "      <td>2014-02-01</td>\n",
       "      <td>2020-02-01</td>\n",
       "      <td>0</td>\n",
       "      <td>2191 days</td>\n",
       "      <td>Female</td>\n",
       "      <td>0</td>\n",
       "      <td>Yes</td>\n",
       "      <td>Yes</td>\n",
       "    </tr>\n",
       "    <tr>\n",
       "      <th>7040</th>\n",
       "      <td>4801-JZAZL</td>\n",
       "      <td>2019-03-01</td>\n",
       "      <td>No</td>\n",
       "      <td>Month-to-month</td>\n",
       "      <td>Yes</td>\n",
       "      <td>Electronic check</td>\n",
       "      <td>29.60</td>\n",
       "      <td>346.45</td>\n",
       "      <td>2019-03-01</td>\n",
       "      <td>2020-02-01</td>\n",
       "      <td>0</td>\n",
       "      <td>337 days</td>\n",
       "      <td>Female</td>\n",
       "      <td>0</td>\n",
       "      <td>Yes</td>\n",
       "      <td>Yes</td>\n",
       "    </tr>\n",
       "    <tr>\n",
       "      <th>7041</th>\n",
       "      <td>8361-LTMKD</td>\n",
       "      <td>2019-07-01</td>\n",
       "      <td>2019-11-01 00:00:00</td>\n",
       "      <td>Month-to-month</td>\n",
       "      <td>Yes</td>\n",
       "      <td>Mailed check</td>\n",
       "      <td>74.40</td>\n",
       "      <td>306.60</td>\n",
       "      <td>2019-07-01</td>\n",
       "      <td>2019-11-01</td>\n",
       "      <td>1</td>\n",
       "      <td>123 days</td>\n",
       "      <td>Male</td>\n",
       "      <td>1</td>\n",
       "      <td>Yes</td>\n",
       "      <td>No</td>\n",
       "    </tr>\n",
       "    <tr>\n",
       "      <th>7042</th>\n",
       "      <td>3186-AJIEK</td>\n",
       "      <td>2014-08-01</td>\n",
       "      <td>No</td>\n",
       "      <td>Two year</td>\n",
       "      <td>Yes</td>\n",
       "      <td>Bank transfer (automatic)</td>\n",
       "      <td>105.65</td>\n",
       "      <td>6844.50</td>\n",
       "      <td>2014-08-01</td>\n",
       "      <td>2020-02-01</td>\n",
       "      <td>0</td>\n",
       "      <td>2010 days</td>\n",
       "      <td>Male</td>\n",
       "      <td>0</td>\n",
       "      <td>No</td>\n",
       "      <td>No</td>\n",
       "    </tr>\n",
       "  </tbody>\n",
       "</table>\n",
       "<p>7043 rows × 16 columns</p>\n",
       "</div>"
      ],
      "text/plain": [
       "      customerID   BeginDate              EndDate            Type  \\\n",
       "0     7590-VHVEG  2020-01-01                   No  Month-to-month   \n",
       "1     5575-GNVDE  2017-04-01                   No        One year   \n",
       "2     3668-QPYBK  2019-10-01  2019-12-01 00:00:00  Month-to-month   \n",
       "3     7795-CFOCW  2016-05-01                   No        One year   \n",
       "4     9237-HQITU  2019-09-01  2019-11-01 00:00:00  Month-to-month   \n",
       "...          ...         ...                  ...             ...   \n",
       "7038  6840-RESVB  2018-02-01                   No        One year   \n",
       "7039  2234-XADUH  2014-02-01                   No        One year   \n",
       "7040  4801-JZAZL  2019-03-01                   No  Month-to-month   \n",
       "7041  8361-LTMKD  2019-07-01  2019-11-01 00:00:00  Month-to-month   \n",
       "7042  3186-AJIEK  2014-08-01                   No        Two year   \n",
       "\n",
       "     PaperlessBilling              PaymentMethod  MonthlyCharges  \\\n",
       "0                 Yes           Electronic check           29.85   \n",
       "1                  No               Mailed check           56.95   \n",
       "2                 Yes               Mailed check           53.85   \n",
       "3                  No  Bank transfer (automatic)           42.30   \n",
       "4                 Yes           Electronic check           70.70   \n",
       "...               ...                        ...             ...   \n",
       "7038              Yes               Mailed check           84.80   \n",
       "7039              Yes    Credit card (automatic)          103.20   \n",
       "7040              Yes           Electronic check           29.60   \n",
       "7041              Yes               Mailed check           74.40   \n",
       "7042              Yes  Bank transfer (automatic)          105.65   \n",
       "\n",
       "      TotalCharges      BDate      EDate leave       Day  gender  \\\n",
       "0            29.85 2020-01-01 2020-02-01     0   31 days  Female   \n",
       "1          1889.50 2017-04-01 2020-02-01     0 1036 days    Male   \n",
       "2           108.15 2019-10-01 2019-12-01     1   61 days    Male   \n",
       "3          1840.75 2016-05-01 2020-02-01     0 1371 days    Male   \n",
       "4           151.65 2019-09-01 2019-11-01     1   61 days  Female   \n",
       "...            ...        ...        ...   ...       ...     ...   \n",
       "7038       1990.50 2018-02-01 2020-02-01     0  730 days    Male   \n",
       "7039       7362.90 2014-02-01 2020-02-01     0 2191 days  Female   \n",
       "7040        346.45 2019-03-01 2020-02-01     0  337 days  Female   \n",
       "7041        306.60 2019-07-01 2019-11-01     1  123 days    Male   \n",
       "7042       6844.50 2014-08-01 2020-02-01     0 2010 days    Male   \n",
       "\n",
       "      SeniorCitizen Partner Dependents  \n",
       "0                 0     Yes         No  \n",
       "1                 0      No         No  \n",
       "2                 0      No         No  \n",
       "3                 0      No         No  \n",
       "4                 0      No         No  \n",
       "...             ...     ...        ...  \n",
       "7038              0     Yes        Yes  \n",
       "7039              0     Yes        Yes  \n",
       "7040              0     Yes        Yes  \n",
       "7041              1     Yes         No  \n",
       "7042              0      No         No  \n",
       "\n",
       "[7043 rows x 16 columns]"
      ]
     },
     "execution_count": 31,
     "metadata": {},
     "output_type": "execute_result"
    }
   ],
   "source": [
    "contract_m = contract.merge(personal, on='customerID')\n",
    "contract_m"
   ]
  },
  {
   "cell_type": "code",
   "execution_count": 32,
   "id": "aee95732",
   "metadata": {},
   "outputs": [
    {
     "name": "stdout",
     "output_type": "stream",
     "text": [
      "<class 'pandas.core.frame.DataFrame'>\n",
      "Int64Index: 7043 entries, 0 to 7042\n",
      "Data columns (total 11 columns):\n",
      " #   Column            Non-Null Count  Dtype          \n",
      "---  ------            --------------  -----          \n",
      " 0   Type              7043 non-null   object         \n",
      " 1   PaperlessBilling  7043 non-null   object         \n",
      " 2   PaymentMethod     7043 non-null   object         \n",
      " 3   MonthlyCharges    7043 non-null   float64        \n",
      " 4   TotalCharges      7043 non-null   float64        \n",
      " 5   leave             7043 non-null   int64          \n",
      " 6   Day               7043 non-null   timedelta64[ns]\n",
      " 7   gender            7043 non-null   object         \n",
      " 8   SeniorCitizen     7043 non-null   int64          \n",
      " 9   Partner           7043 non-null   object         \n",
      " 10  Dependents        7043 non-null   object         \n",
      "dtypes: float64(2), int64(2), object(6), timedelta64[ns](1)\n",
      "memory usage: 660.3+ KB\n"
     ]
    }
   ],
   "source": [
    "contract_1 = contract_m.drop(['customerID','EndDate','BeginDate','BDate','EDate'],axis=1)\n",
    "contract_1['leave'] = contract_1['leave'].astype(int)\n",
    "contract_1.info()"
   ]
  },
  {
   "cell_type": "code",
   "execution_count": 33,
   "id": "e2bfc8f1",
   "metadata": {},
   "outputs": [
    {
     "data": {
      "text/html": [
       "<div>\n",
       "<style scoped>\n",
       "    .dataframe tbody tr th:only-of-type {\n",
       "        vertical-align: middle;\n",
       "    }\n",
       "\n",
       "    .dataframe tbody tr th {\n",
       "        vertical-align: top;\n",
       "    }\n",
       "\n",
       "    .dataframe thead th {\n",
       "        text-align: right;\n",
       "    }\n",
       "</style>\n",
       "<table border=\"1\" class=\"dataframe\">\n",
       "  <thead>\n",
       "    <tr style=\"text-align: right;\">\n",
       "      <th></th>\n",
       "      <th>MonthlyCharges</th>\n",
       "      <th>TotalCharges</th>\n",
       "      <th>leave</th>\n",
       "      <th>SeniorCitizen</th>\n",
       "    </tr>\n",
       "  </thead>\n",
       "  <tbody>\n",
       "    <tr>\n",
       "      <th>MonthlyCharges</th>\n",
       "      <td>1.000000</td>\n",
       "      <td>0.651182</td>\n",
       "      <td>0.193356</td>\n",
       "      <td>0.220173</td>\n",
       "    </tr>\n",
       "    <tr>\n",
       "      <th>TotalCharges</th>\n",
       "      <td>0.651182</td>\n",
       "      <td>1.000000</td>\n",
       "      <td>-0.198347</td>\n",
       "      <td>0.102997</td>\n",
       "    </tr>\n",
       "    <tr>\n",
       "      <th>leave</th>\n",
       "      <td>0.193356</td>\n",
       "      <td>-0.198347</td>\n",
       "      <td>1.000000</td>\n",
       "      <td>0.150889</td>\n",
       "    </tr>\n",
       "    <tr>\n",
       "      <th>SeniorCitizen</th>\n",
       "      <td>0.220173</td>\n",
       "      <td>0.102997</td>\n",
       "      <td>0.150889</td>\n",
       "      <td>1.000000</td>\n",
       "    </tr>\n",
       "  </tbody>\n",
       "</table>\n",
       "</div>"
      ],
      "text/plain": [
       "                MonthlyCharges  TotalCharges     leave  SeniorCitizen\n",
       "MonthlyCharges        1.000000      0.651182  0.193356       0.220173\n",
       "TotalCharges          0.651182      1.000000 -0.198347       0.102997\n",
       "leave                 0.193356     -0.198347  1.000000       0.150889\n",
       "SeniorCitizen         0.220173      0.102997  0.150889       1.000000"
      ]
     },
     "execution_count": 33,
     "metadata": {},
     "output_type": "execute_result"
    }
   ],
   "source": [
    "contract_1.corr()"
   ]
  },
  {
   "cell_type": "markdown",
   "id": "0bb781a2",
   "metadata": {},
   "source": [
    "Разделение на выборки"
   ]
  },
  {
   "cell_type": "code",
   "execution_count": 34,
   "id": "991bcb4b",
   "metadata": {},
   "outputs": [],
   "source": [
    "features_train, features_valid, target_train, target_valid = train_test_split(\n",
    "    contract_1.drop('leave', axis=1), contract_1.leave, test_size=0.25, random_state=r)"
   ]
  },
  {
   "cell_type": "markdown",
   "id": "eb9030f2",
   "metadata": {},
   "source": [
    "**Модель CatBoost**"
   ]
  },
  {
   "cell_type": "code",
   "execution_count": 35,
   "id": "f08617b0",
   "metadata": {},
   "outputs": [
    {
     "data": {
      "application/vnd.jupyter.widget-view+json": {
       "model_id": "ae79136b63d44614a216d3eca2acbba7",
       "version_major": 2,
       "version_minor": 0
      },
      "text/plain": [
       "MetricVisualizer(layout=Layout(align_self='stretch', height='500px'))"
      ]
     },
     "metadata": {},
     "output_type": "display_data"
    },
    {
     "name": "stdout",
     "output_type": "stream",
     "text": [
      "Training on fold [0/3]\n",
      "\n",
      "bestTest = 0.2201798246\n",
      "bestIteration = 158\n",
      "\n",
      "Training on fold [1/3]\n",
      "\n",
      "bestTest = 0.20497187\n",
      "bestIteration = 417\n",
      "\n",
      "Training on fold [2/3]\n",
      "\n",
      "bestTest = 0.2079503442\n",
      "bestIteration = 352\n",
      "\n"
     ]
    }
   ],
   "source": [
    "cat_features = ['Type', 'PaperlessBilling', 'PaymentMethod',\n",
    "                'Day','gender','Partner','Dependents']\n",
    "\n",
    "cv_dataset = Pool(data=features_train,\n",
    "                  label=target_train,\n",
    "                  cat_features=cat_features)\n",
    "\n",
    "params = {\"iterations\": 1500,\n",
    "          'custom_loss': 'AUC',\n",
    "          \"verbose\": False,\n",
    "          'loss_function': 'Logloss',\n",
    "          'random_state' : r\n",
    "          }\n",
    "\n",
    "scores = cv(cv_dataset,\n",
    "            params,\n",
    "            fold_count=3,\n",
    "            \n",
    "           shuffle=True,\n",
    "            plot=\"True\")"
   ]
  },
  {
   "cell_type": "markdown",
   "id": "34caa939",
   "metadata": {},
   "source": [
    "Самая лучшая метрика из графика показана при ззначении иттераций 198"
   ]
  },
  {
   "cell_type": "markdown",
   "id": "02ffe0a8",
   "metadata": {},
   "source": [
    "**Модель RandomForestRegressor**"
   ]
  },
  {
   "cell_type": "markdown",
   "id": "2703c3c0",
   "metadata": {},
   "source": [
    "Применение OrdinalEncoder для модели RandomForestRegressor"
   ]
  },
  {
   "cell_type": "code",
   "execution_count": 36,
   "id": "7ba99ca4",
   "metadata": {},
   "outputs": [],
   "source": [
    "encoder = OrdinalEncoder(handle_unknown='ignore')\n",
    "\n",
    "cat_columns = ['Type', 'PaperlessBilling', 'PaymentMethod',\n",
    "                'Day','gender','Partner','Dependents']\n",
    "\n",
    "features_train_r = features_train.copy()\n",
    "features_valid_r = features_valid.copy()\n",
    "\n",
    "features_train_r[cat_columns] = encoder.fit_transform(features_train[cat_columns])\n",
    "features_valid_r[cat_columns] = encoder.transform(features_valid[cat_columns])"
   ]
  },
  {
   "cell_type": "code",
   "execution_count": 37,
   "id": "f44ab87e",
   "metadata": {},
   "outputs": [
    {
     "name": "stdout",
     "output_type": "stream",
     "text": [
      "7 0.8632316459437475\n"
     ]
    }
   ],
   "source": [
    "best_depth = 0\n",
    "best_result = -100000000\n",
    "\n",
    "for depth in range(1, 16, 1):\n",
    "    \n",
    "    model = RandomForestRegressor(n_estimators=20,max_depth=depth,random_state=r)\n",
    "\n",
    "    scores = cross_val_score(model,features_train_r, target_train, cv=5,scoring= 'roc_auc')\n",
    "    if scores.mean() > best_result:\n",
    "        best_depth = depth\n",
    "        \n",
    "        best_result = scores.mean()\n",
    "            \n",
    "print(best_depth,best_result)"
   ]
  },
  {
   "cell_type": "markdown",
   "id": "8207d4ec",
   "metadata": {},
   "source": [
    "При данной модели получилась хороший результат метрики , но у CatBoost значения лучше"
   ]
  },
  {
   "cell_type": "markdown",
   "id": "e828e061",
   "metadata": {},
   "source": [
    "**Модель LogisticRegression**"
   ]
  },
  {
   "cell_type": "code",
   "execution_count": 38,
   "id": "7ab974b0",
   "metadata": {},
   "outputs": [],
   "source": [
    "features_train_l = pd.get_dummies(features_train)\n",
    "features_train_l['Day'] = features_train_l['Day'].dt.days\n",
    "pd.options.mode.chained_assignment = None\n",
    "scaler = StandardScaler()\n",
    "scaler.fit(features_train_l)\n",
    "features_train_l = scaler.transform(features_train_l)"
   ]
  },
  {
   "cell_type": "code",
   "execution_count": 39,
   "id": "36069231",
   "metadata": {},
   "outputs": [
    {
     "name": "stdout",
     "output_type": "stream",
     "text": [
      "['Type', 'PaperlessBilling', 'PaymentMethod', 'gender', 'Partner', 'Dependents']\n"
     ]
    }
   ],
   "source": [
    "ohe_features_ridge = features_train.select_dtypes(include='object').columns.to_list()\n",
    "print(ohe_features_ridge)"
   ]
  },
  {
   "cell_type": "code",
   "execution_count": 40,
   "id": "2f4b0afd",
   "metadata": {},
   "outputs": [
    {
     "data": {
      "text/plain": [
       "['MonthlyCharges', 'TotalCharges', 'Day', 'SeniorCitizen']"
      ]
     },
     "execution_count": 40,
     "metadata": {},
     "output_type": "execute_result"
    }
   ],
   "source": [
    "num_features = features_train.select_dtypes(exclude='object').columns.to_list()\n",
    "num_features"
   ]
  },
  {
   "cell_type": "code",
   "execution_count": 41,
   "id": "255ab598",
   "metadata": {},
   "outputs": [],
   "source": [
    "features_train_l = features_train.copy()\n",
    "features_train_l['Day'] = features_train_l['Day'].dt.days\n",
    "X_train_ridge = features_train_l.copy()"
   ]
  },
  {
   "cell_type": "code",
   "execution_count": 42,
   "id": "1306e048",
   "metadata": {},
   "outputs": [
    {
     "data": {
      "text/html": [
       "<div>\n",
       "<style scoped>\n",
       "    .dataframe tbody tr th:only-of-type {\n",
       "        vertical-align: middle;\n",
       "    }\n",
       "\n",
       "    .dataframe tbody tr th {\n",
       "        vertical-align: top;\n",
       "    }\n",
       "\n",
       "    .dataframe thead th {\n",
       "        text-align: right;\n",
       "    }\n",
       "</style>\n",
       "<table border=\"1\" class=\"dataframe\">\n",
       "  <thead>\n",
       "    <tr style=\"text-align: right;\">\n",
       "      <th></th>\n",
       "      <th>MonthlyCharges</th>\n",
       "      <th>TotalCharges</th>\n",
       "      <th>Day</th>\n",
       "      <th>SeniorCitizen</th>\n",
       "      <th>x0_One year</th>\n",
       "      <th>x0_Two year</th>\n",
       "      <th>x1_Yes</th>\n",
       "      <th>x2_Credit card (automatic)</th>\n",
       "      <th>x2_Electronic check</th>\n",
       "      <th>x2_Mailed check</th>\n",
       "      <th>x3_Male</th>\n",
       "      <th>x4_Yes</th>\n",
       "      <th>x5_Yes</th>\n",
       "    </tr>\n",
       "  </thead>\n",
       "  <tbody>\n",
       "    <tr>\n",
       "      <th>6462</th>\n",
       "      <td>1.022879</td>\n",
       "      <td>-0.930099</td>\n",
       "      <td>-1.233601</td>\n",
       "      <td>-0.440695</td>\n",
       "      <td>0.0</td>\n",
       "      <td>0.0</td>\n",
       "      <td>0.0</td>\n",
       "      <td>0.0</td>\n",
       "      <td>1.0</td>\n",
       "      <td>0.0</td>\n",
       "      <td>1.0</td>\n",
       "      <td>0.0</td>\n",
       "      <td>0.0</td>\n",
       "    </tr>\n",
       "    <tr>\n",
       "      <th>5635</th>\n",
       "      <td>-0.335408</td>\n",
       "      <td>-0.484709</td>\n",
       "      <td>-0.419101</td>\n",
       "      <td>-0.440695</td>\n",
       "      <td>0.0</td>\n",
       "      <td>0.0</td>\n",
       "      <td>1.0</td>\n",
       "      <td>0.0</td>\n",
       "      <td>0.0</td>\n",
       "      <td>1.0</td>\n",
       "      <td>0.0</td>\n",
       "      <td>1.0</td>\n",
       "      <td>0.0</td>\n",
       "    </tr>\n",
       "    <tr>\n",
       "      <th>5576</th>\n",
       "      <td>-0.373553</td>\n",
       "      <td>-0.980189</td>\n",
       "      <td>-1.274994</td>\n",
       "      <td>-0.440695</td>\n",
       "      <td>0.0</td>\n",
       "      <td>0.0</td>\n",
       "      <td>1.0</td>\n",
       "      <td>0.0</td>\n",
       "      <td>0.0</td>\n",
       "      <td>1.0</td>\n",
       "      <td>0.0</td>\n",
       "      <td>0.0</td>\n",
       "      <td>0.0</td>\n",
       "    </tr>\n",
       "    <tr>\n",
       "      <th>6545</th>\n",
       "      <td>0.326322</td>\n",
       "      <td>-0.693962</td>\n",
       "      <td>-0.947859</td>\n",
       "      <td>-0.440695</td>\n",
       "      <td>0.0</td>\n",
       "      <td>0.0</td>\n",
       "      <td>1.0</td>\n",
       "      <td>0.0</td>\n",
       "      <td>1.0</td>\n",
       "      <td>0.0</td>\n",
       "      <td>0.0</td>\n",
       "      <td>0.0</td>\n",
       "      <td>0.0</td>\n",
       "    </tr>\n",
       "    <tr>\n",
       "      <th>5370</th>\n",
       "      <td>0.862007</td>\n",
       "      <td>-0.368699</td>\n",
       "      <td>-0.663451</td>\n",
       "      <td>-0.440695</td>\n",
       "      <td>0.0</td>\n",
       "      <td>0.0</td>\n",
       "      <td>1.0</td>\n",
       "      <td>0.0</td>\n",
       "      <td>0.0</td>\n",
       "      <td>0.0</td>\n",
       "      <td>1.0</td>\n",
       "      <td>1.0</td>\n",
       "      <td>1.0</td>\n",
       "    </tr>\n",
       "  </tbody>\n",
       "</table>\n",
       "</div>"
      ],
      "text/plain": [
       "      MonthlyCharges  TotalCharges       Day  SeniorCitizen  x0_One year  \\\n",
       "6462        1.022879     -0.930099 -1.233601      -0.440695          0.0   \n",
       "5635       -0.335408     -0.484709 -0.419101      -0.440695          0.0   \n",
       "5576       -0.373553     -0.980189 -1.274994      -0.440695          0.0   \n",
       "6545        0.326322     -0.693962 -0.947859      -0.440695          0.0   \n",
       "5370        0.862007     -0.368699 -0.663451      -0.440695          0.0   \n",
       "\n",
       "      x0_Two year  x1_Yes  x2_Credit card (automatic)  x2_Electronic check  \\\n",
       "6462          0.0     0.0                         0.0                  1.0   \n",
       "5635          0.0     1.0                         0.0                  0.0   \n",
       "5576          0.0     1.0                         0.0                  0.0   \n",
       "6545          0.0     1.0                         0.0                  1.0   \n",
       "5370          0.0     1.0                         0.0                  0.0   \n",
       "\n",
       "      x2_Mailed check  x3_Male  x4_Yes  x5_Yes  \n",
       "6462              0.0      1.0     0.0     0.0  \n",
       "5635              1.0      0.0     1.0     0.0  \n",
       "5576              1.0      0.0     0.0     0.0  \n",
       "6545              0.0      0.0     0.0     0.0  \n",
       "5370              0.0      1.0     1.0     1.0  "
      ]
     },
     "execution_count": 42,
     "metadata": {},
     "output_type": "execute_result"
    }
   ],
   "source": [
    "# drop='first' удаляет первый признак из закодированных:\n",
    "# таким образом обходим dummy-ловушку\n",
    "# задаём handle_unknown='ignore':\n",
    "# игнорируется ранее невстречающиеся значения признака (при transform)\n",
    "encoder_ohe = OneHotEncoder(drop='first', handle_unknown='error', sparse=False)\n",
    "\n",
    "# обучаем энкодер на заданных категориальных признаках тренировочной выборки\n",
    "encoder_ohe.fit(X_train_ridge[ohe_features_ridge])\n",
    "\n",
    "# добавляем закодированные признаки в X_train_ohe\n",
    "# encoder_ohe.get_feature_names_out() позволяет получить названия колонок\n",
    "X_train_ridge[\n",
    "    encoder_ohe.get_feature_names()\n",
    "] = encoder_ohe.transform(X_train_ridge[ohe_features_ridge])\n",
    "\n",
    "# удаляем незакодированные категориальные признаки (изначальные колонки)\n",
    "X_train_ridge = X_train_ridge.drop(ohe_features_ridge, axis=1)\n",
    "\n",
    "# создаём скелер\n",
    "scaler = StandardScaler()\n",
    "\n",
    "# обучаем его на численных признаках тренировочной выборки, трансформируем её же\n",
    "X_train_ridge[num_features] = scaler.fit_transform(X_train_ridge[num_features])\n",
    "\n",
    "# смотрим на результат\n",
    "X_train_ridge.head()"
   ]
  },
  {
   "cell_type": "code",
   "execution_count": 43,
   "id": "bd7f9fc1",
   "metadata": {},
   "outputs": [
    {
     "name": "stdout",
     "output_type": "stream",
     "text": [
      "15 0.8356274830851383\n"
     ]
    }
   ],
   "source": [
    "best_depth = 0\n",
    "best_result = -100000000\n",
    "\n",
    "for it in range(1, 33, 5):\n",
    "    \n",
    "    model = LogisticRegressionCV(random_state=r, solver='liblinear', cv = 5,max_iter = it)\n",
    "      \n",
    "\n",
    "    scores = cross_val_score(model,X_train_ridge, target_train, cv=5,scoring= 'roc_auc')\n",
    "    if scores.mean() > best_result:\n",
    "        best_depth = depth\n",
    "        \n",
    "        best_result = scores.mean()\n",
    "\n",
    "    \n",
    "            \n",
    "print(best_depth,best_result)"
   ]
  },
  {
   "cell_type": "markdown",
   "id": "36325ff7",
   "metadata": {},
   "source": [
    "Данная модель показала хороший результат, но из всех остальных этот результат самый низкий"
   ]
  },
  {
   "cell_type": "markdown",
   "id": "9a5fe1f8",
   "metadata": {},
   "source": [
    "# Проверка модели"
   ]
  },
  {
   "cell_type": "code",
   "execution_count": 44,
   "id": "c3e9c26c",
   "metadata": {},
   "outputs": [
    {
     "data": {
      "text/plain": [
       "0.9414497647090101"
      ]
     },
     "execution_count": 44,
     "metadata": {},
     "output_type": "execute_result"
    }
   ],
   "source": [
    "cat_features = ['Type', 'PaperlessBilling', 'PaymentMethod',\n",
    "                'Day','gender','Partner','Dependents']\n",
    "\n",
    "model = CatBoostClassifier(loss_function=\"Logloss\", iterations=198,random_state = r)\n",
    "\n",
    "model.fit(features_train, target_train, cat_features=cat_features, verbose=False)\n",
    "probabilities_valid = model.predict_proba(features_valid)\n",
    "probabilities_one_valid = probabilities_valid[:, 1]\n",
    "roc_auc_score(target_valid, probabilities_one_valid)"
   ]
  },
  {
   "cell_type": "markdown",
   "id": "98bc3454",
   "metadata": {},
   "source": [
    "# Исследование важности признаков лучшей модели\n"
   ]
  },
  {
   "cell_type": "code",
   "execution_count": 45,
   "id": "7a4f9174",
   "metadata": {},
   "outputs": [
    {
     "name": "stdout",
     "output_type": "stream",
     "text": [
      "[[1257   40]\n",
      " [ 133  331]]\n"
     ]
    }
   ],
   "source": [
    "print(confusion_matrix(target_valid,model.predict(features_valid)))"
   ]
  },
  {
   "cell_type": "code",
   "execution_count": 46,
   "id": "6270ff22",
   "metadata": {},
   "outputs": [
    {
     "data": {
      "image/png": "[encoded data removed]",
      "text/plain": [
       "<Figure size 576x864 with 1 Axes>"
      ]
     },
     "metadata": {
      "needs_background": "light"
     },
     "output_type": "display_data"
    }
   ],
   "source": [
    "cat_iris_imp = pd.Series(model.get_feature_importance(),\n",
    "                         features_train.columns)\n",
    "fig, ax = plt.subplots(figsize=(8,12))\n",
    "cat_iris_imp.plot.bar(ax=ax)\n",
    "ax.set_title(\"Важность признаков\")\n",
    "ax.set_ylabel('Важность, %')\n",
    "fig.tight_layout()"
   ]
  },
  {
   "cell_type": "markdown",
   "id": "aa50d7f8",
   "metadata": {},
   "source": [
    "Лучшею метрику на кросс валидации показала CatBoost , достигнув на тестовой выборке значений ROC-AUC 0.94 выше на грпафике приведена зависимость конкретных признаков на предмсказание моджли , первое место занимает количество дней, на втором месте ежемесячные выплаты и третье место тип договора. Если обратить внимание на матрицу ошибок , то модель чаще ошибалась с клиентами , которые должны били расторгнуть договор , но этого не сделали."
   ]
  },
  {
   "cell_type": "markdown",
   "id": "960dbe9c",
   "metadata": {},
   "source": [
    "# Отчет"
   ]
  },
  {
   "cell_type": "markdown",
   "id": "6c0900b4",
   "metadata": {},
   "source": [
    "- В результате проверки данных не было обнаружено дубликатов и аномалий\n",
    "- Подготовили данные для работы с различными моделями\n",
    "- Добавили дополнительный столбец с количеством дней  действия договора клиента\n",
    "- Произвели объединение первых двух таблиц, произвели удаление столбцов , которые не нужны для обучения моджели\n",
    "- Обучили нескеолько моделей: Линейная регрессия, Случайный лес и CatBoost и получили значение метрик ROC-AUC по каждой из них\n",
    "- Протестировали лучшую модель на тестовой выборки и получили итоговое значение метрики равной 0.94\n",
    "\n"
   ]
  },
  {
   "cell_type": "markdown",
   "id": "a8e4936c",
   "metadata": {},
   "source": [
    "Все данные, с которыми мы работали не имели специфических значений , поэтому особых трудностей при выполнении работы не возникло."
   ]
  },
  {
   "cell_type": "markdown",
   "id": "d64274c5",
   "metadata": {},
   "source": [
    "Ключевыми шагами в написании работы можно выделить следующие этапы:\n",
    "- Обработка данных \n",
    "- Подгатовка признаков для моделей\n",
    "- Обучение моделей"
   ]
  },
  {
   "cell_type": "markdown",
   "id": "38fe7ead",
   "metadata": {},
   "source": [
    "Лучшей моделью является CatBoost , на валлидационной выборке подобрали лучшее значение гиперпараметра количества иттераций равный 198. Для этой модели мы подготовили данные заменив пропуски в с толбце TotalCharges, значениями из столбца MonthlyCharges. Данные для этой модели не кодировались , так как модель использует свои встроенные внутренние методы."
   ]
  },
  {
   "cell_type": "markdown",
   "id": "6badcc66",
   "metadata": {},
   "source": [
    "Список признаков:\n",
    "- Type, использовался без обработки\n",
    "- PaperlessBilling, использовался без обработки\n",
    "- PaymentMethod, использовался без обработки\n",
    "- MonthlyCharges, использовался без обработки\n",
    "- TotalCharges, были заполнены пропуски \n",
    "- Day, новый столбец, он был получен из разности BeginDate и EndDate, значения 'No' в столбце EndDate заменили на '2020-02-01'\n",
    "- gender, использовался без обработки\n",
    "- SeniorCitizen, использовался без обработки\n",
    "- Partner, использовался без обработки\n",
    "- Dependents, использовался без обработки"
   ]
  }
 ],
 "metadata": {
  "ExecuteTimeLog": [
   {
    "duration": 352,
    "start_time": "2023-01-04T15:14:12.230Z"
   },
   {
    "duration": 216,
    "start_time": "2023-01-04T15:15:01.817Z"
   },
   {
    "duration": 20,
    "start_time": "2023-01-04T15:15:06.629Z"
   },
   {
    "duration": 2,
    "start_time": "2023-01-04T15:17:14.415Z"
   },
   {
    "duration": 342,
    "start_time": "2023-01-04T15:17:14.631Z"
   },
   {
    "duration": 12,
    "start_time": "2023-01-04T15:17:31.259Z"
   },
   {
    "duration": 12,
    "start_time": "2023-01-04T15:17:34.559Z"
   },
   {
    "duration": 8,
    "start_time": "2023-01-04T15:17:34.870Z"
   },
   {
    "duration": 13,
    "start_time": "2023-01-04T15:22:50.313Z"
   },
   {
    "duration": 12,
    "start_time": "2023-01-04T15:23:10.292Z"
   },
   {
    "duration": 14,
    "start_time": "2023-01-04T15:23:17.950Z"
   },
   {
    "duration": 18,
    "start_time": "2023-01-04T15:23:27.690Z"
   },
   {
    "duration": 13,
    "start_time": "2023-01-04T15:23:58.155Z"
   },
   {
    "duration": 12,
    "start_time": "2023-01-04T15:24:19.202Z"
   },
   {
    "duration": 13,
    "start_time": "2023-01-04T15:24:37.588Z"
   },
   {
    "duration": 13,
    "start_time": "2023-01-04T15:25:12.238Z"
   },
   {
    "duration": 12,
    "start_time": "2023-01-04T15:25:12.767Z"
   },
   {
    "duration": 8,
    "start_time": "2023-01-04T15:25:25.696Z"
   },
   {
    "duration": 7,
    "start_time": "2023-01-04T15:27:32.063Z"
   },
   {
    "duration": 11,
    "start_time": "2023-01-04T15:27:32.903Z"
   },
   {
    "duration": 29,
    "start_time": "2023-01-04T15:27:33.311Z"
   },
   {
    "duration": 3,
    "start_time": "2023-01-04T15:27:36.896Z"
   },
   {
    "duration": 110,
    "start_time": "2023-01-04T15:27:36.901Z"
   },
   {
    "duration": 10,
    "start_time": "2023-01-04T15:27:37.013Z"
   },
   {
    "duration": 14,
    "start_time": "2023-01-04T15:27:37.024Z"
   },
   {
    "duration": 10,
    "start_time": "2023-01-04T15:27:37.041Z"
   },
   {
    "duration": 8,
    "start_time": "2023-01-04T15:27:37.052Z"
   },
   {
    "duration": 13,
    "start_time": "2023-01-04T15:27:37.061Z"
   },
   {
    "duration": 28,
    "start_time": "2023-01-04T15:27:37.075Z"
   },
   {
    "duration": 9,
    "start_time": "2023-01-04T15:27:37.105Z"
   },
   {
    "duration": 12,
    "start_time": "2023-01-04T15:27:37.115Z"
   },
   {
    "duration": 29,
    "start_time": "2023-01-04T15:27:37.129Z"
   },
   {
    "duration": 6,
    "start_time": "2023-01-04T15:27:37.159Z"
   },
   {
    "duration": 36,
    "start_time": "2023-01-04T15:27:37.166Z"
   },
   {
    "duration": 14,
    "start_time": "2023-01-04T15:27:37.204Z"
   },
   {
    "duration": 6,
    "start_time": "2023-01-04T15:28:35.002Z"
   },
   {
    "duration": 12,
    "start_time": "2023-01-04T17:39:35.738Z"
   },
   {
    "duration": 64,
    "start_time": "2023-01-04T17:40:02.543Z"
   },
   {
    "duration": 12,
    "start_time": "2023-01-04T17:40:06.321Z"
   },
   {
    "duration": 51,
    "start_time": "2023-01-04T17:55:03.263Z"
   },
   {
    "duration": 435,
    "start_time": "2023-01-04T17:55:06.827Z"
   },
   {
    "duration": 420,
    "start_time": "2023-01-04T17:55:07.264Z"
   },
   {
    "duration": 23,
    "start_time": "2023-01-04T17:55:07.686Z"
   },
   {
    "duration": 15,
    "start_time": "2023-01-04T17:55:07.711Z"
   },
   {
    "duration": 38,
    "start_time": "2023-01-04T17:55:07.729Z"
   },
   {
    "duration": 0,
    "start_time": "2023-01-04T17:55:07.769Z"
   },
   {
    "duration": 0,
    "start_time": "2023-01-04T17:55:07.770Z"
   },
   {
    "duration": 0,
    "start_time": "2023-01-04T17:55:07.771Z"
   },
   {
    "duration": 0,
    "start_time": "2023-01-04T17:55:07.772Z"
   },
   {
    "duration": 0,
    "start_time": "2023-01-04T17:55:07.773Z"
   },
   {
    "duration": 0,
    "start_time": "2023-01-04T17:55:07.775Z"
   },
   {
    "duration": 0,
    "start_time": "2023-01-04T17:55:07.776Z"
   },
   {
    "duration": 0,
    "start_time": "2023-01-04T17:55:07.776Z"
   },
   {
    "duration": 0,
    "start_time": "2023-01-04T17:55:07.777Z"
   },
   {
    "duration": 12,
    "start_time": "2023-01-04T17:55:18.373Z"
   },
   {
    "duration": 315,
    "start_time": "2023-01-04T17:57:14.886Z"
   },
   {
    "duration": 17,
    "start_time": "2023-01-04T17:57:51.443Z"
   },
   {
    "duration": 19,
    "start_time": "2023-01-04T17:58:04.747Z"
   },
   {
    "duration": 8,
    "start_time": "2023-01-04T18:02:47.153Z"
   },
   {
    "duration": 5,
    "start_time": "2023-01-04T18:03:00.765Z"
   },
   {
    "duration": 5,
    "start_time": "2023-01-04T18:03:49.139Z"
   },
   {
    "duration": 8,
    "start_time": "2023-01-04T18:04:47.985Z"
   },
   {
    "duration": 610,
    "start_time": "2023-01-04T18:06:14.564Z"
   },
   {
    "duration": 6,
    "start_time": "2023-01-04T18:06:44.675Z"
   },
   {
    "duration": 5,
    "start_time": "2023-01-04T18:06:50.566Z"
   },
   {
    "duration": 1264,
    "start_time": "2023-01-04T18:06:57.365Z"
   },
   {
    "duration": 20,
    "start_time": "2023-01-04T18:07:07.650Z"
   },
   {
    "duration": 8,
    "start_time": "2023-01-04T18:08:13.756Z"
   },
   {
    "duration": 39,
    "start_time": "2023-01-04T18:09:04.633Z"
   },
   {
    "duration": 5,
    "start_time": "2023-01-04T18:09:13.596Z"
   },
   {
    "duration": 6,
    "start_time": "2023-01-04T18:09:52.679Z"
   },
   {
    "duration": 5,
    "start_time": "2023-01-04T18:10:46.586Z"
   },
   {
    "duration": 4,
    "start_time": "2023-01-04T18:10:54.429Z"
   },
   {
    "duration": 7,
    "start_time": "2023-01-04T18:11:01.577Z"
   },
   {
    "duration": 13,
    "start_time": "2023-01-04T18:11:23.926Z"
   },
   {
    "duration": 7,
    "start_time": "2023-01-04T18:13:06.006Z"
   },
   {
    "duration": 8,
    "start_time": "2023-01-04T18:13:07.768Z"
   },
   {
    "duration": 7,
    "start_time": "2023-01-04T18:13:10.992Z"
   },
   {
    "duration": 33,
    "start_time": "2023-01-04T18:13:30.539Z"
   },
   {
    "duration": 12,
    "start_time": "2023-01-04T18:14:23.000Z"
   },
   {
    "duration": 15,
    "start_time": "2023-01-04T18:14:27.748Z"
   },
   {
    "duration": 13,
    "start_time": "2023-01-04T18:14:47.708Z"
   },
   {
    "duration": 17,
    "start_time": "2023-01-04T18:15:08.564Z"
   },
   {
    "duration": 4,
    "start_time": "2023-01-04T18:15:29.615Z"
   },
   {
    "duration": 130,
    "start_time": "2023-01-04T18:15:29.622Z"
   },
   {
    "duration": 22,
    "start_time": "2023-01-04T18:15:29.754Z"
   },
   {
    "duration": 33,
    "start_time": "2023-01-04T18:15:29.778Z"
   },
   {
    "duration": 15,
    "start_time": "2023-01-04T18:15:29.813Z"
   },
   {
    "duration": 18,
    "start_time": "2023-01-04T18:15:29.830Z"
   },
   {
    "duration": 29,
    "start_time": "2023-01-04T18:15:29.850Z"
   },
   {
    "duration": 15,
    "start_time": "2023-01-04T18:15:29.881Z"
   },
   {
    "duration": 11,
    "start_time": "2023-01-04T18:15:29.897Z"
   },
   {
    "duration": 13,
    "start_time": "2023-01-04T18:15:29.910Z"
   },
   {
    "duration": 42,
    "start_time": "2023-01-04T18:15:29.925Z"
   },
   {
    "duration": 10,
    "start_time": "2023-01-04T18:15:29.969Z"
   },
   {
    "duration": 16,
    "start_time": "2023-01-04T18:15:29.981Z"
   },
   {
    "duration": 34,
    "start_time": "2023-01-04T18:15:30.000Z"
   },
   {
    "duration": 28,
    "start_time": "2023-01-04T18:15:30.036Z"
   },
   {
    "duration": 38,
    "start_time": "2023-01-04T18:15:30.066Z"
   },
   {
    "duration": 24,
    "start_time": "2023-01-04T18:15:30.105Z"
   },
   {
    "duration": 10,
    "start_time": "2023-01-04T18:15:50.438Z"
   },
   {
    "duration": 13,
    "start_time": "2023-01-04T18:15:53.390Z"
   },
   {
    "duration": 24,
    "start_time": "2023-01-04T18:18:01.570Z"
   },
   {
    "duration": 22,
    "start_time": "2023-01-04T18:18:18.547Z"
   },
   {
    "duration": 82,
    "start_time": "2023-01-04T18:19:36.935Z"
   },
   {
    "duration": 6,
    "start_time": "2023-01-04T18:19:42.409Z"
   },
   {
    "duration": 6,
    "start_time": "2023-01-04T18:20:33.636Z"
   },
   {
    "duration": 8,
    "start_time": "2023-01-04T18:21:17.666Z"
   },
   {
    "duration": 8,
    "start_time": "2023-01-04T18:21:22.229Z"
   },
   {
    "duration": 10,
    "start_time": "2023-01-04T18:21:32.436Z"
   },
   {
    "duration": 8,
    "start_time": "2023-01-04T18:21:54.188Z"
   },
   {
    "duration": 7,
    "start_time": "2023-01-04T18:21:57.071Z"
   },
   {
    "duration": 6,
    "start_time": "2023-01-04T18:22:47.040Z"
   },
   {
    "duration": 8,
    "start_time": "2023-01-04T18:23:09.979Z"
   },
   {
    "duration": 3,
    "start_time": "2023-01-04T18:23:27.731Z"
   },
   {
    "duration": 6,
    "start_time": "2023-01-04T18:23:41.326Z"
   },
   {
    "duration": 4,
    "start_time": "2023-01-04T18:23:47.027Z"
   },
   {
    "duration": 6,
    "start_time": "2023-01-04T18:23:49.851Z"
   },
   {
    "duration": 5,
    "start_time": "2023-01-04T18:23:58.791Z"
   },
   {
    "duration": 5,
    "start_time": "2023-01-04T18:24:25.524Z"
   },
   {
    "duration": 7,
    "start_time": "2023-01-04T18:24:29.018Z"
   },
   {
    "duration": 13,
    "start_time": "2023-01-04T18:24:59.818Z"
   },
   {
    "duration": 9,
    "start_time": "2023-01-04T18:25:03.069Z"
   },
   {
    "duration": 8,
    "start_time": "2023-01-04T18:25:51.374Z"
   },
   {
    "duration": 12,
    "start_time": "2023-01-04T18:25:54.425Z"
   },
   {
    "duration": 7,
    "start_time": "2023-01-04T18:25:58.808Z"
   },
   {
    "duration": 14,
    "start_time": "2023-01-04T18:26:13.135Z"
   },
   {
    "duration": 15,
    "start_time": "2023-01-04T18:26:29.108Z"
   },
   {
    "duration": 8,
    "start_time": "2023-01-04T18:28:14.007Z"
   },
   {
    "duration": 12,
    "start_time": "2023-01-04T18:28:46.249Z"
   },
   {
    "duration": 486,
    "start_time": "2023-01-04T18:28:58.747Z"
   },
   {
    "duration": 111,
    "start_time": "2023-01-04T18:28:59.235Z"
   },
   {
    "duration": 20,
    "start_time": "2023-01-04T18:28:59.348Z"
   },
   {
    "duration": 16,
    "start_time": "2023-01-04T18:28:59.369Z"
   },
   {
    "duration": 31,
    "start_time": "2023-01-04T18:28:59.388Z"
   },
   {
    "duration": 39,
    "start_time": "2023-01-04T18:28:59.421Z"
   },
   {
    "duration": 20,
    "start_time": "2023-01-04T18:28:59.462Z"
   },
   {
    "duration": 14,
    "start_time": "2023-01-04T18:28:59.484Z"
   },
   {
    "duration": 10,
    "start_time": "2023-01-04T18:28:59.499Z"
   },
   {
    "duration": 50,
    "start_time": "2023-01-04T18:28:59.511Z"
   },
   {
    "duration": 17,
    "start_time": "2023-01-04T18:28:59.564Z"
   },
   {
    "duration": 17,
    "start_time": "2023-01-04T18:28:59.583Z"
   },
   {
    "duration": 27,
    "start_time": "2023-01-04T18:28:59.603Z"
   },
   {
    "duration": 73,
    "start_time": "2023-01-04T18:28:59.633Z"
   },
   {
    "duration": 10,
    "start_time": "2023-01-04T18:28:59.709Z"
   },
   {
    "duration": 30,
    "start_time": "2023-01-04T18:28:59.721Z"
   },
   {
    "duration": 45,
    "start_time": "2023-01-04T18:28:59.756Z"
   },
   {
    "duration": 102,
    "start_time": "2023-01-04T18:30:08.121Z"
   },
   {
    "duration": 7,
    "start_time": "2023-01-04T18:30:11.368Z"
   },
   {
    "duration": 415,
    "start_time": "2023-01-04T18:30:21.609Z"
   },
   {
    "duration": 145,
    "start_time": "2023-01-04T18:30:22.025Z"
   },
   {
    "duration": 25,
    "start_time": "2023-01-04T18:30:22.173Z"
   },
   {
    "duration": 22,
    "start_time": "2023-01-04T18:30:22.202Z"
   },
   {
    "duration": 38,
    "start_time": "2023-01-04T18:30:22.226Z"
   },
   {
    "duration": 14,
    "start_time": "2023-01-04T18:30:22.266Z"
   },
   {
    "duration": 17,
    "start_time": "2023-01-04T18:30:22.282Z"
   },
   {
    "duration": 14,
    "start_time": "2023-01-04T18:30:22.300Z"
   },
   {
    "duration": 37,
    "start_time": "2023-01-04T18:30:22.316Z"
   },
   {
    "duration": 17,
    "start_time": "2023-01-04T18:30:22.358Z"
   },
   {
    "duration": 16,
    "start_time": "2023-01-04T18:30:22.377Z"
   },
   {
    "duration": 15,
    "start_time": "2023-01-04T18:30:22.396Z"
   },
   {
    "duration": 56,
    "start_time": "2023-01-04T18:30:22.414Z"
   },
   {
    "duration": 34,
    "start_time": "2023-01-04T18:30:22.473Z"
   },
   {
    "duration": 7,
    "start_time": "2023-01-04T18:30:22.509Z"
   },
   {
    "duration": 12,
    "start_time": "2023-01-04T18:30:22.518Z"
   },
   {
    "duration": 27,
    "start_time": "2023-01-04T18:30:22.532Z"
   },
   {
    "duration": 439,
    "start_time": "2023-01-04T18:31:43.966Z"
   },
   {
    "duration": 111,
    "start_time": "2023-01-04T18:31:44.407Z"
   },
   {
    "duration": 19,
    "start_time": "2023-01-04T18:31:44.520Z"
   },
   {
    "duration": 14,
    "start_time": "2023-01-04T18:31:44.540Z"
   },
   {
    "duration": 21,
    "start_time": "2023-01-04T18:31:44.561Z"
   },
   {
    "duration": 19,
    "start_time": "2023-01-04T18:31:44.584Z"
   },
   {
    "duration": 15,
    "start_time": "2023-01-04T18:31:44.605Z"
   },
   {
    "duration": 35,
    "start_time": "2023-01-04T18:31:44.621Z"
   },
   {
    "duration": 16,
    "start_time": "2023-01-04T18:31:44.659Z"
   },
   {
    "duration": 15,
    "start_time": "2023-01-04T18:31:44.677Z"
   },
   {
    "duration": 12,
    "start_time": "2023-01-04T18:31:44.694Z"
   },
   {
    "duration": 17,
    "start_time": "2023-01-04T18:31:44.707Z"
   },
   {
    "duration": 41,
    "start_time": "2023-01-04T18:31:44.755Z"
   },
   {
    "duration": 8,
    "start_time": "2023-01-04T18:31:44.799Z"
   },
   {
    "duration": 17,
    "start_time": "2023-01-04T18:31:44.809Z"
   },
   {
    "duration": 29,
    "start_time": "2023-01-04T18:31:44.829Z"
   },
   {
    "duration": 6,
    "start_time": "2023-01-04T18:33:15.378Z"
   },
   {
    "duration": 15,
    "start_time": "2023-01-04T18:33:40.634Z"
   },
   {
    "duration": 84,
    "start_time": "2023-01-04T18:34:29.550Z"
   },
   {
    "duration": 106,
    "start_time": "2023-01-04T18:34:46.415Z"
   },
   {
    "duration": 11,
    "start_time": "2023-01-04T18:34:55.877Z"
   },
   {
    "duration": 10,
    "start_time": "2023-01-04T18:34:58.961Z"
   },
   {
    "duration": 20,
    "start_time": "2023-01-04T18:35:04.885Z"
   },
   {
    "duration": 7,
    "start_time": "2023-01-04T18:35:17.121Z"
   },
   {
    "duration": 7,
    "start_time": "2023-01-04T18:36:39.414Z"
   },
   {
    "duration": 16,
    "start_time": "2023-01-04T18:37:07.414Z"
   },
   {
    "duration": 13,
    "start_time": "2023-01-04T18:37:13.195Z"
   },
   {
    "duration": 15,
    "start_time": "2023-01-04T18:37:43.470Z"
   },
   {
    "duration": 16,
    "start_time": "2023-01-04T18:37:45.477Z"
   },
   {
    "duration": 14,
    "start_time": "2023-01-04T18:37:49.897Z"
   },
   {
    "duration": 12,
    "start_time": "2023-01-04T18:37:59.027Z"
   },
   {
    "duration": 9,
    "start_time": "2023-01-04T18:38:20.693Z"
   },
   {
    "duration": 1254,
    "start_time": "2023-01-04T18:38:28.569Z"
   },
   {
    "duration": 6,
    "start_time": "2023-01-04T18:38:35.989Z"
   },
   {
    "duration": 12,
    "start_time": "2023-01-04T18:38:52.907Z"
   },
   {
    "duration": 12,
    "start_time": "2023-01-04T18:38:58.069Z"
   },
   {
    "duration": 10,
    "start_time": "2023-01-04T18:39:08.173Z"
   },
   {
    "duration": 79,
    "start_time": "2023-01-04T18:39:13.062Z"
   },
   {
    "duration": 11,
    "start_time": "2023-01-04T18:39:17.469Z"
   },
   {
    "duration": 8,
    "start_time": "2023-01-04T18:39:56.648Z"
   },
   {
    "duration": 9,
    "start_time": "2023-01-04T18:40:07.276Z"
   },
   {
    "duration": 8,
    "start_time": "2023-01-04T18:40:18.892Z"
   },
   {
    "duration": 12,
    "start_time": "2023-01-04T18:42:14.272Z"
   },
   {
    "duration": 9,
    "start_time": "2023-01-04T18:42:16.824Z"
   },
   {
    "duration": 11,
    "start_time": "2023-01-04T18:42:18.767Z"
   },
   {
    "duration": 6,
    "start_time": "2023-01-04T18:42:23.079Z"
   },
   {
    "duration": 6,
    "start_time": "2023-01-04T18:42:29.581Z"
   },
   {
    "duration": 8,
    "start_time": "2023-01-04T18:44:06.786Z"
   },
   {
    "duration": 6,
    "start_time": "2023-01-04T18:44:25.420Z"
   },
   {
    "duration": 15,
    "start_time": "2023-01-04T18:46:21.603Z"
   },
   {
    "duration": 11,
    "start_time": "2023-01-04T18:47:25.166Z"
   },
   {
    "duration": 11,
    "start_time": "2023-01-04T18:47:45.486Z"
   },
   {
    "duration": 509,
    "start_time": "2023-01-04T18:48:01.361Z"
   },
   {
    "duration": 123,
    "start_time": "2023-01-04T18:48:01.873Z"
   },
   {
    "duration": 23,
    "start_time": "2023-01-04T18:48:01.998Z"
   },
   {
    "duration": 23,
    "start_time": "2023-01-04T18:48:02.023Z"
   },
   {
    "duration": 20,
    "start_time": "2023-01-04T18:48:02.049Z"
   },
   {
    "duration": 14,
    "start_time": "2023-01-04T18:48:02.071Z"
   },
   {
    "duration": 12,
    "start_time": "2023-01-04T18:48:02.087Z"
   },
   {
    "duration": 11,
    "start_time": "2023-01-04T18:48:02.101Z"
   },
   {
    "duration": 55,
    "start_time": "2023-01-04T18:48:02.114Z"
   },
   {
    "duration": 63,
    "start_time": "2023-01-04T18:48:02.171Z"
   },
   {
    "duration": 10,
    "start_time": "2023-01-04T18:48:02.236Z"
   },
   {
    "duration": 34,
    "start_time": "2023-01-04T18:48:02.248Z"
   },
   {
    "duration": 5,
    "start_time": "2023-01-04T18:48:02.284Z"
   },
   {
    "duration": 12,
    "start_time": "2023-01-04T18:48:02.293Z"
   },
   {
    "duration": 36,
    "start_time": "2023-01-04T18:48:02.307Z"
   },
   {
    "duration": 38,
    "start_time": "2023-01-04T18:48:02.345Z"
   },
   {
    "duration": 10,
    "start_time": "2023-01-04T18:48:02.385Z"
   },
   {
    "duration": 20,
    "start_time": "2023-01-04T18:48:02.398Z"
   },
   {
    "duration": 19,
    "start_time": "2023-01-04T18:48:02.420Z"
   },
   {
    "duration": 5,
    "start_time": "2023-01-04T18:49:48.679Z"
   },
   {
    "duration": 468,
    "start_time": "2023-01-04T18:50:04.037Z"
   },
   {
    "duration": 109,
    "start_time": "2023-01-04T18:50:04.507Z"
   },
   {
    "duration": 21,
    "start_time": "2023-01-04T18:50:04.618Z"
   },
   {
    "duration": 21,
    "start_time": "2023-01-04T18:50:04.641Z"
   },
   {
    "duration": 29,
    "start_time": "2023-01-04T18:50:04.666Z"
   },
   {
    "duration": 15,
    "start_time": "2023-01-04T18:50:04.697Z"
   },
   {
    "duration": 42,
    "start_time": "2023-01-04T18:50:04.714Z"
   },
   {
    "duration": 9,
    "start_time": "2023-01-04T18:50:04.758Z"
   },
   {
    "duration": 16,
    "start_time": "2023-01-04T18:50:04.769Z"
   },
   {
    "duration": 7,
    "start_time": "2023-01-04T18:50:04.787Z"
   },
   {
    "duration": 12,
    "start_time": "2023-01-04T18:50:04.796Z"
   },
   {
    "duration": 15,
    "start_time": "2023-01-04T18:50:04.810Z"
   },
   {
    "duration": 10,
    "start_time": "2023-01-04T18:50:04.852Z"
   },
   {
    "duration": 15,
    "start_time": "2023-01-04T18:50:04.865Z"
   },
   {
    "duration": 16,
    "start_time": "2023-01-04T18:50:04.883Z"
   },
   {
    "duration": 52,
    "start_time": "2023-01-04T18:50:04.901Z"
   },
   {
    "duration": 8,
    "start_time": "2023-01-04T18:50:04.955Z"
   },
   {
    "duration": 19,
    "start_time": "2023-01-04T18:50:04.965Z"
   },
   {
    "duration": 14,
    "start_time": "2023-01-04T18:50:04.985Z"
   },
   {
    "duration": 390,
    "start_time": "2023-01-08T00:03:43.837Z"
   },
   {
    "duration": 309,
    "start_time": "2023-01-08T00:03:44.229Z"
   },
   {
    "duration": 18,
    "start_time": "2023-01-08T00:03:44.539Z"
   },
   {
    "duration": 44,
    "start_time": "2023-01-08T00:03:44.558Z"
   },
   {
    "duration": 39,
    "start_time": "2023-01-08T00:03:44.604Z"
   },
   {
    "duration": 28,
    "start_time": "2023-01-08T00:03:44.645Z"
   },
   {
    "duration": 14,
    "start_time": "2023-01-08T00:03:44.675Z"
   },
   {
    "duration": 39,
    "start_time": "2023-01-08T00:03:44.690Z"
   },
   {
    "duration": 34,
    "start_time": "2023-01-08T00:03:44.730Z"
   },
   {
    "duration": 34,
    "start_time": "2023-01-08T00:03:44.767Z"
   },
   {
    "duration": 33,
    "start_time": "2023-01-08T00:03:44.803Z"
   },
   {
    "duration": 51,
    "start_time": "2023-01-08T00:03:44.837Z"
   },
   {
    "duration": 24,
    "start_time": "2023-01-08T00:03:44.890Z"
   },
   {
    "duration": 40,
    "start_time": "2023-01-08T00:03:44.917Z"
   },
   {
    "duration": 26,
    "start_time": "2023-01-08T00:03:44.959Z"
   },
   {
    "duration": 55,
    "start_time": "2023-01-08T00:03:44.987Z"
   },
   {
    "duration": 28,
    "start_time": "2023-01-08T00:03:45.043Z"
   },
   {
    "duration": 31,
    "start_time": "2023-01-08T00:03:45.072Z"
   },
   {
    "duration": 44,
    "start_time": "2023-01-08T00:03:45.104Z"
   },
   {
    "duration": 81,
    "start_time": "2023-01-08T00:26:42.594Z"
   },
   {
    "duration": 562,
    "start_time": "2023-01-08T00:41:39.489Z"
   },
   {
    "duration": 108,
    "start_time": "2023-01-08T00:43:18.752Z"
   },
   {
    "duration": 1305,
    "start_time": "2023-01-08T00:45:10.379Z"
   },
   {
    "duration": 93,
    "start_time": "2023-01-08T00:45:32.875Z"
   },
   {
    "duration": 10,
    "start_time": "2023-01-08T00:45:38.523Z"
   },
   {
    "duration": 1098,
    "start_time": "2023-01-08T00:45:54.829Z"
   },
   {
    "duration": 9,
    "start_time": "2023-01-08T00:46:01.148Z"
   },
   {
    "duration": 4,
    "start_time": "2023-01-08T00:47:00.827Z"
   },
   {
    "duration": 4,
    "start_time": "2023-01-08T00:47:11.091Z"
   },
   {
    "duration": 1223,
    "start_time": "2023-01-08T00:52:37.717Z"
   },
   {
    "duration": 4,
    "start_time": "2023-01-08T00:52:50.654Z"
   },
   {
    "duration": 6,
    "start_time": "2023-01-08T00:52:53.490Z"
   },
   {
    "duration": 5,
    "start_time": "2023-01-08T00:54:06.023Z"
   },
   {
    "duration": 6,
    "start_time": "2023-01-08T00:54:26.023Z"
   },
   {
    "duration": 10,
    "start_time": "2023-01-08T00:55:31.127Z"
   },
   {
    "duration": 9,
    "start_time": "2023-01-08T00:55:40.001Z"
   },
   {
    "duration": 5,
    "start_time": "2023-01-08T00:55:47.639Z"
   },
   {
    "duration": 13,
    "start_time": "2023-01-08T00:56:07.532Z"
   },
   {
    "duration": 89,
    "start_time": "2023-01-08T00:56:17.484Z"
   },
   {
    "duration": 71,
    "start_time": "2023-01-08T00:56:34.763Z"
   },
   {
    "duration": 7,
    "start_time": "2023-01-08T00:56:41.818Z"
   },
   {
    "duration": 9,
    "start_time": "2023-01-08T00:56:50.649Z"
   },
   {
    "duration": 7,
    "start_time": "2023-01-08T00:56:53.797Z"
   },
   {
    "duration": 8,
    "start_time": "2023-01-08T00:57:32.678Z"
   },
   {
    "duration": 112,
    "start_time": "2023-01-08T00:57:42.373Z"
   },
   {
    "duration": 120,
    "start_time": "2023-01-08T00:57:53.780Z"
   },
   {
    "duration": 193,
    "start_time": "2023-01-08T00:58:14.715Z"
   },
   {
    "duration": 113,
    "start_time": "2023-01-08T00:58:38.593Z"
   },
   {
    "duration": 118,
    "start_time": "2023-01-08T00:58:49.827Z"
   },
   {
    "duration": 6,
    "start_time": "2023-01-08T01:00:51.123Z"
   },
   {
    "duration": 12,
    "start_time": "2023-01-08T01:03:01.301Z"
   },
   {
    "duration": 11,
    "start_time": "2023-01-08T01:03:40.106Z"
   },
   {
    "duration": 12,
    "start_time": "2023-01-08T01:05:04.640Z"
   },
   {
    "duration": 68,
    "start_time": "2023-01-08T01:05:14.556Z"
   },
   {
    "duration": 10,
    "start_time": "2023-01-08T01:05:18.492Z"
   },
   {
    "duration": 11,
    "start_time": "2023-01-08T01:05:41.462Z"
   },
   {
    "duration": 11,
    "start_time": "2023-01-08T01:06:37.895Z"
   },
   {
    "duration": 1097,
    "start_time": "2023-01-08T01:15:38.957Z"
   },
   {
    "duration": 72,
    "start_time": "2023-01-08T01:15:55.204Z"
   },
   {
    "duration": 10,
    "start_time": "2023-01-08T01:15:55.330Z"
   },
   {
    "duration": 11,
    "start_time": "2023-01-08T01:15:58.654Z"
   },
   {
    "duration": 85,
    "start_time": "2023-01-08T01:16:19.438Z"
   },
   {
    "duration": 90,
    "start_time": "2023-01-08T01:16:44.114Z"
   },
   {
    "duration": 112,
    "start_time": "2023-01-08T01:17:02.105Z"
   },
   {
    "duration": 87,
    "start_time": "2023-01-08T01:17:09.361Z"
   },
   {
    "duration": 108,
    "start_time": "2023-01-08T01:21:46.127Z"
   },
   {
    "duration": 109,
    "start_time": "2023-01-08T01:22:04.446Z"
   },
   {
    "duration": 4,
    "start_time": "2023-01-08T01:26:44.413Z"
   },
   {
    "duration": 426,
    "start_time": "2023-01-09T15:46:15.558Z"
   },
   {
    "duration": 105,
    "start_time": "2023-01-09T15:46:18.268Z"
   },
   {
    "duration": 17,
    "start_time": "2023-01-09T15:46:22.234Z"
   },
   {
    "duration": 46,
    "start_time": "2023-01-11T10:34:03.664Z"
   },
   {
    "duration": 444,
    "start_time": "2023-01-11T10:34:06.452Z"
   },
   {
    "duration": 379,
    "start_time": "2023-01-11T10:34:06.899Z"
   },
   {
    "duration": 19,
    "start_time": "2023-01-11T10:34:07.280Z"
   },
   {
    "duration": 590,
    "start_time": "2023-01-11T10:34:07.300Z"
   },
   {
    "duration": 178,
    "start_time": "2023-01-11T10:34:07.893Z"
   },
   {
    "duration": 21209,
    "start_time": "2023-01-11T10:34:08.073Z"
   },
   {
    "duration": 20,
    "start_time": "2023-01-11T10:34:29.284Z"
   },
   {
    "duration": 45,
    "start_time": "2023-01-11T10:34:29.315Z"
   },
   {
    "duration": 13,
    "start_time": "2023-01-11T10:34:29.361Z"
   },
   {
    "duration": 19,
    "start_time": "2023-01-11T10:34:29.376Z"
   },
   {
    "duration": 33,
    "start_time": "2023-01-11T10:34:29.397Z"
   },
   {
    "duration": 24,
    "start_time": "2023-01-11T10:34:29.433Z"
   },
   {
    "duration": 8,
    "start_time": "2023-01-11T10:34:29.459Z"
   },
   {
    "duration": 16,
    "start_time": "2023-01-11T10:34:29.470Z"
   },
   {
    "duration": 103,
    "start_time": "2023-01-11T10:34:29.488Z"
   },
   {
    "duration": 13,
    "start_time": "2023-01-11T10:34:29.592Z"
   },
   {
    "duration": 8,
    "start_time": "2023-01-11T10:34:29.618Z"
   },
   {
    "duration": 14,
    "start_time": "2023-01-11T10:34:29.628Z"
   },
   {
    "duration": 13,
    "start_time": "2023-01-11T10:34:29.644Z"
   },
   {
    "duration": 29,
    "start_time": "2023-01-11T10:34:29.659Z"
   },
   {
    "duration": 24,
    "start_time": "2023-01-11T10:34:29.690Z"
   },
   {
    "duration": 19,
    "start_time": "2023-01-11T10:34:29.721Z"
   },
   {
    "duration": 10,
    "start_time": "2023-01-11T10:34:29.742Z"
   },
   {
    "duration": 18,
    "start_time": "2023-01-11T10:34:29.754Z"
   },
   {
    "duration": 1078,
    "start_time": "2023-01-11T10:37:03.050Z"
   },
   {
    "duration": 737,
    "start_time": "2023-01-11T10:37:10.419Z"
   },
   {
    "duration": 840,
    "start_time": "2023-01-11T10:37:18.984Z"
   },
   {
    "duration": 11,
    "start_time": "2023-01-11T10:37:35.224Z"
   },
   {
    "duration": 14,
    "start_time": "2023-01-11T10:37:46.356Z"
   },
   {
    "duration": 822,
    "start_time": "2023-01-11T10:38:28.050Z"
   },
   {
    "duration": 898,
    "start_time": "2023-01-11T10:38:32.798Z"
   },
   {
    "duration": 424,
    "start_time": "2023-01-11T10:38:55.088Z"
   },
   {
    "duration": 114,
    "start_time": "2023-01-11T10:38:55.514Z"
   },
   {
    "duration": 20,
    "start_time": "2023-01-11T10:38:55.629Z"
   },
   {
    "duration": 372,
    "start_time": "2023-01-11T10:38:55.650Z"
   },
   {
    "duration": 179,
    "start_time": "2023-01-11T10:38:56.025Z"
   },
   {
    "duration": 20918,
    "start_time": "2023-01-11T10:38:56.206Z"
   },
   {
    "duration": 13,
    "start_time": "2023-01-11T10:39:17.125Z"
   },
   {
    "duration": 31,
    "start_time": "2023-01-11T10:39:17.140Z"
   },
   {
    "duration": 13,
    "start_time": "2023-01-11T10:39:17.172Z"
   },
   {
    "duration": 28,
    "start_time": "2023-01-11T10:39:17.186Z"
   },
   {
    "duration": 6,
    "start_time": "2023-01-11T10:39:17.215Z"
   },
   {
    "duration": 16,
    "start_time": "2023-01-11T10:39:17.222Z"
   },
   {
    "duration": 5,
    "start_time": "2023-01-11T10:39:17.239Z"
   },
   {
    "duration": 13,
    "start_time": "2023-01-11T10:39:17.247Z"
   },
   {
    "duration": 120,
    "start_time": "2023-01-11T10:39:17.261Z"
   },
   {
    "duration": 12,
    "start_time": "2023-01-11T10:39:17.383Z"
   },
   {
    "duration": 5,
    "start_time": "2023-01-11T10:39:17.413Z"
   },
   {
    "duration": 12,
    "start_time": "2023-01-11T10:39:17.420Z"
   },
   {
    "duration": 14,
    "start_time": "2023-01-11T10:39:17.434Z"
   },
   {
    "duration": 31,
    "start_time": "2023-01-11T10:39:17.450Z"
   },
   {
    "duration": 32,
    "start_time": "2023-01-11T10:39:17.483Z"
   },
   {
    "duration": 12,
    "start_time": "2023-01-11T10:39:17.517Z"
   },
   {
    "duration": 13,
    "start_time": "2023-01-11T10:39:17.531Z"
   },
   {
    "duration": 29,
    "start_time": "2023-01-11T10:39:17.546Z"
   },
   {
    "duration": 7,
    "start_time": "2023-01-11T10:39:17.577Z"
   },
   {
    "duration": 25,
    "start_time": "2023-01-11T10:39:17.586Z"
   },
   {
    "duration": 496,
    "start_time": "2023-01-11T10:39:26.187Z"
   },
   {
    "duration": 118,
    "start_time": "2023-01-11T10:39:26.686Z"
   },
   {
    "duration": 23,
    "start_time": "2023-01-11T10:39:26.810Z"
   },
   {
    "duration": 399,
    "start_time": "2023-01-11T10:39:26.836Z"
   },
   {
    "duration": 166,
    "start_time": "2023-01-11T10:39:27.239Z"
   },
   {
    "duration": 20511,
    "start_time": "2023-01-11T10:39:27.407Z"
   },
   {
    "duration": 14,
    "start_time": "2023-01-11T10:39:47.920Z"
   },
   {
    "duration": 23,
    "start_time": "2023-01-11T10:39:47.935Z"
   },
   {
    "duration": 13,
    "start_time": "2023-01-11T10:39:47.960Z"
   },
   {
    "duration": 21,
    "start_time": "2023-01-11T10:39:47.975Z"
   },
   {
    "duration": 6,
    "start_time": "2023-01-11T10:39:48.013Z"
   },
   {
    "duration": 14,
    "start_time": "2023-01-11T10:39:48.021Z"
   },
   {
    "duration": 5,
    "start_time": "2023-01-11T10:39:48.037Z"
   },
   {
    "duration": 10,
    "start_time": "2023-01-11T10:39:48.044Z"
   },
   {
    "duration": 127,
    "start_time": "2023-01-11T10:39:48.056Z"
   },
   {
    "duration": 11,
    "start_time": "2023-01-11T10:39:48.185Z"
   },
   {
    "duration": 18,
    "start_time": "2023-01-11T10:39:48.197Z"
   },
   {
    "duration": 13,
    "start_time": "2023-01-11T10:39:48.216Z"
   },
   {
    "duration": 17,
    "start_time": "2023-01-11T10:39:48.231Z"
   },
   {
    "duration": 248,
    "start_time": "2023-01-11T10:39:48.249Z"
   },
   {
    "duration": 6,
    "start_time": "2023-01-11T10:39:48.499Z"
   },
   {
    "duration": 14,
    "start_time": "2023-01-11T10:39:48.507Z"
   },
   {
    "duration": 9,
    "start_time": "2023-01-11T10:39:48.523Z"
   },
   {
    "duration": 18,
    "start_time": "2023-01-11T10:39:48.533Z"
   },
   {
    "duration": 8,
    "start_time": "2023-01-11T10:39:48.553Z"
   },
   {
    "duration": 16,
    "start_time": "2023-01-11T10:39:48.562Z"
   },
   {
    "duration": 135,
    "start_time": "2023-01-11T10:40:40.497Z"
   },
   {
    "duration": 15,
    "start_time": "2023-01-11T10:40:56.943Z"
   },
   {
    "duration": 786,
    "start_time": "2023-01-11T10:42:48.500Z"
   },
   {
    "duration": 9,
    "start_time": "2023-01-11T10:44:55.816Z"
   },
   {
    "duration": 16,
    "start_time": "2023-01-11T10:44:58.592Z"
   },
   {
    "duration": 10,
    "start_time": "2023-01-11T10:45:26.557Z"
   },
   {
    "duration": 51,
    "start_time": "2023-01-11T10:46:13.156Z"
   },
   {
    "duration": 15,
    "start_time": "2023-01-11T10:46:14.304Z"
   },
   {
    "duration": 10,
    "start_time": "2023-01-11T10:46:18.011Z"
   },
   {
    "duration": 14,
    "start_time": "2023-01-11T10:46:18.848Z"
   },
   {
    "duration": 390,
    "start_time": "2023-01-11T10:46:47.037Z"
   },
   {
    "duration": 112,
    "start_time": "2023-01-11T10:46:47.429Z"
   },
   {
    "duration": 23,
    "start_time": "2023-01-11T10:46:47.543Z"
   },
   {
    "duration": 379,
    "start_time": "2023-01-11T10:46:47.569Z"
   },
   {
    "duration": 151,
    "start_time": "2023-01-11T10:46:47.950Z"
   },
   {
    "duration": 30,
    "start_time": "2023-01-11T10:47:09.399Z"
   },
   {
    "duration": 21,
    "start_time": "2023-01-11T10:47:09.431Z"
   },
   {
    "duration": 13,
    "start_time": "2023-01-11T10:47:09.454Z"
   },
   {
    "duration": 11,
    "start_time": "2023-01-11T10:47:09.471Z"
   },
   {
    "duration": 42,
    "start_time": "2023-01-11T10:47:09.484Z"
   },
   {
    "duration": 16,
    "start_time": "2023-01-11T10:47:09.528Z"
   },
   {
    "duration": 6,
    "start_time": "2023-01-11T10:47:09.546Z"
   },
   {
    "duration": 10,
    "start_time": "2023-01-11T10:47:09.554Z"
   },
   {
    "duration": 114,
    "start_time": "2023-01-11T10:47:09.566Z"
   },
   {
    "duration": 12,
    "start_time": "2023-01-11T10:47:09.682Z"
   },
   {
    "duration": 22,
    "start_time": "2023-01-11T10:47:09.696Z"
   },
   {
    "duration": 29,
    "start_time": "2023-01-11T10:47:09.719Z"
   },
   {
    "duration": 18,
    "start_time": "2023-01-11T10:47:09.750Z"
   },
   {
    "duration": 62,
    "start_time": "2023-01-11T10:47:09.769Z"
   },
   {
    "duration": 10,
    "start_time": "2023-01-11T10:47:09.833Z"
   },
   {
    "duration": 36,
    "start_time": "2023-01-11T10:47:09.845Z"
   },
   {
    "duration": 23,
    "start_time": "2023-01-11T10:47:09.883Z"
   },
   {
    "duration": 36,
    "start_time": "2023-01-11T10:47:09.908Z"
   },
   {
    "duration": 19,
    "start_time": "2023-01-11T10:47:09.946Z"
   },
   {
    "duration": 24,
    "start_time": "2023-01-11T10:47:09.967Z"
   },
   {
    "duration": 32,
    "start_time": "2023-01-11T10:47:09.993Z"
   },
   {
    "duration": 169,
    "start_time": "2023-01-11T10:47:10.028Z"
   },
   {
    "duration": 12,
    "start_time": "2023-01-11T10:47:47.675Z"
   },
   {
    "duration": 14,
    "start_time": "2023-01-11T10:47:49.564Z"
   },
   {
    "duration": 14,
    "start_time": "2023-01-11T10:47:50.695Z"
   },
   {
    "duration": 6,
    "start_time": "2023-01-11T10:48:10.156Z"
   },
   {
    "duration": 55,
    "start_time": "2023-01-11T10:48:38.842Z"
   },
   {
    "duration": 6,
    "start_time": "2023-01-11T10:48:42.027Z"
   },
   {
    "duration": 5,
    "start_time": "2023-01-11T10:48:59.106Z"
   },
   {
    "duration": 18,
    "start_time": "2023-01-11T10:49:01.549Z"
   },
   {
    "duration": 16,
    "start_time": "2023-01-11T10:49:12.555Z"
   },
   {
    "duration": 13,
    "start_time": "2023-01-11T10:52:25.746Z"
   },
   {
    "duration": 4,
    "start_time": "2023-01-11T10:52:27.495Z"
   },
   {
    "duration": 12,
    "start_time": "2023-01-11T10:52:27.717Z"
   },
   {
    "duration": 13,
    "start_time": "2023-01-11T10:52:29.918Z"
   },
   {
    "duration": 16,
    "start_time": "2023-01-11T10:52:33.696Z"
   },
   {
    "duration": 14,
    "start_time": "2023-01-11T10:52:40.984Z"
   },
   {
    "duration": 4,
    "start_time": "2023-01-11T10:52:41.150Z"
   },
   {
    "duration": 14,
    "start_time": "2023-01-11T10:52:42.740Z"
   },
   {
    "duration": 12,
    "start_time": "2023-01-11T10:53:44.079Z"
   },
   {
    "duration": 16,
    "start_time": "2023-01-11T10:53:59.111Z"
   },
   {
    "duration": 14,
    "start_time": "2023-01-11T10:54:09.162Z"
   },
   {
    "duration": 16,
    "start_time": "2023-01-11T10:54:09.984Z"
   },
   {
    "duration": 447,
    "start_time": "2023-01-11T10:54:28.304Z"
   },
   {
    "duration": 107,
    "start_time": "2023-01-11T10:54:28.753Z"
   },
   {
    "duration": 18,
    "start_time": "2023-01-11T10:54:28.862Z"
   },
   {
    "duration": 516,
    "start_time": "2023-01-11T10:54:28.881Z"
   },
   {
    "duration": 188,
    "start_time": "2023-01-11T10:54:29.400Z"
   },
   {
    "duration": 22236,
    "start_time": "2023-01-11T10:54:29.589Z"
   },
   {
    "duration": 19,
    "start_time": "2023-01-11T10:54:51.826Z"
   },
   {
    "duration": 54,
    "start_time": "2023-01-11T10:54:51.848Z"
   },
   {
    "duration": 31,
    "start_time": "2023-01-11T10:54:51.904Z"
   },
   {
    "duration": 60,
    "start_time": "2023-01-11T10:54:51.937Z"
   },
   {
    "duration": 43,
    "start_time": "2023-01-11T10:54:52.000Z"
   },
   {
    "duration": 110,
    "start_time": "2023-01-11T10:54:52.045Z"
   },
   {
    "duration": 34,
    "start_time": "2023-01-11T10:54:52.158Z"
   },
   {
    "duration": 64,
    "start_time": "2023-01-11T10:54:52.196Z"
   },
   {
    "duration": 170,
    "start_time": "2023-01-11T10:54:52.262Z"
   },
   {
    "duration": 13,
    "start_time": "2023-01-11T10:54:52.434Z"
   },
   {
    "duration": 36,
    "start_time": "2023-01-11T10:54:52.450Z"
   },
   {
    "duration": 30,
    "start_time": "2023-01-11T10:54:52.488Z"
   },
   {
    "duration": 32,
    "start_time": "2023-01-11T10:54:52.521Z"
   },
   {
    "duration": 58,
    "start_time": "2023-01-11T10:54:52.555Z"
   },
   {
    "duration": 9,
    "start_time": "2023-01-11T10:54:52.615Z"
   },
   {
    "duration": 37,
    "start_time": "2023-01-11T10:54:52.626Z"
   },
   {
    "duration": 48,
    "start_time": "2023-01-11T10:54:52.665Z"
   },
   {
    "duration": 45,
    "start_time": "2023-01-11T10:54:52.715Z"
   },
   {
    "duration": 51,
    "start_time": "2023-01-11T10:54:52.762Z"
   },
   {
    "duration": 51,
    "start_time": "2023-01-11T10:54:52.815Z"
   },
   {
    "duration": 49,
    "start_time": "2023-01-11T10:54:52.868Z"
   },
   {
    "duration": 24,
    "start_time": "2023-01-11T10:54:52.919Z"
   },
   {
    "duration": 16,
    "start_time": "2023-01-11T10:55:08.770Z"
   },
   {
    "duration": 5,
    "start_time": "2023-01-11T10:55:16.375Z"
   },
   {
    "duration": 23,
    "start_time": "2023-01-11T10:55:16.583Z"
   },
   {
    "duration": 872,
    "start_time": "2023-01-11T10:56:02.576Z"
   },
   {
    "duration": 16,
    "start_time": "2023-01-11T10:57:38.274Z"
   },
   {
    "duration": 2221,
    "start_time": "2023-01-11T11:01:14.087Z"
   },
   {
    "duration": 30,
    "start_time": "2023-01-11T11:02:37.488Z"
   },
   {
    "duration": 24,
    "start_time": "2023-01-11T11:02:37.801Z"
   },
   {
    "duration": 1670,
    "start_time": "2023-01-11T11:02:56.439Z"
   },
   {
    "duration": 7,
    "start_time": "2023-01-11T11:03:14.355Z"
   },
   {
    "duration": 38,
    "start_time": "2023-01-11T11:03:24.240Z"
   },
   {
    "duration": 1790,
    "start_time": "2023-01-11T11:03:36.542Z"
   },
   {
    "duration": 10,
    "start_time": "2023-01-11T11:04:00.562Z"
   },
   {
    "duration": 64,
    "start_time": "2023-01-11T11:04:47.773Z"
   },
   {
    "duration": 5,
    "start_time": "2023-01-11T11:04:51.139Z"
   },
   {
    "duration": 27,
    "start_time": "2023-01-11T11:05:05.565Z"
   },
   {
    "duration": 21,
    "start_time": "2023-01-11T11:05:30.140Z"
   },
   {
    "duration": 1027,
    "start_time": "2023-01-11T11:05:42.141Z"
   },
   {
    "duration": 695,
    "start_time": "2023-01-11T11:06:15.241Z"
   },
   {
    "duration": 522,
    "start_time": "2023-01-11T11:06:38.022Z"
   },
   {
    "duration": 514,
    "start_time": "2023-01-11T11:06:42.148Z"
   },
   {
    "duration": 1057,
    "start_time": "2023-01-11T11:07:28.042Z"
   },
   {
    "duration": 24,
    "start_time": "2023-01-11T11:09:14.154Z"
   },
   {
    "duration": 848,
    "start_time": "2023-01-11T11:10:19.065Z"
   },
   {
    "duration": 19,
    "start_time": "2023-01-11T11:10:19.915Z"
   },
   {
    "duration": 10,
    "start_time": "2023-01-11T11:10:31.068Z"
   },
   {
    "duration": 13,
    "start_time": "2023-01-11T11:10:35.878Z"
   },
   {
    "duration": 19,
    "start_time": "2023-01-11T11:10:43.090Z"
   },
   {
    "duration": 4,
    "start_time": "2023-01-11T11:12:24.720Z"
   },
   {
    "duration": 120,
    "start_time": "2023-01-11T11:12:27.960Z"
   },
   {
    "duration": 14,
    "start_time": "2023-01-11T11:12:28.355Z"
   },
   {
    "duration": 128,
    "start_time": "2023-01-11T11:12:28.542Z"
   },
   {
    "duration": 144,
    "start_time": "2023-01-11T11:12:28.900Z"
   },
   {
    "duration": 20475,
    "start_time": "2023-01-11T11:12:29.072Z"
   },
   {
    "duration": 12,
    "start_time": "2023-01-11T11:12:49.549Z"
   },
   {
    "duration": 32,
    "start_time": "2023-01-11T11:12:49.563Z"
   },
   {
    "duration": 19,
    "start_time": "2023-01-11T11:12:49.598Z"
   },
   {
    "duration": 25,
    "start_time": "2023-01-11T11:12:49.618Z"
   },
   {
    "duration": 9,
    "start_time": "2023-01-11T11:12:49.646Z"
   },
   {
    "duration": 19,
    "start_time": "2023-01-11T11:12:49.657Z"
   },
   {
    "duration": 4,
    "start_time": "2023-01-11T11:12:49.678Z"
   },
   {
    "duration": 29,
    "start_time": "2023-01-11T11:12:49.684Z"
   },
   {
    "duration": 115,
    "start_time": "2023-01-11T11:12:49.717Z"
   },
   {
    "duration": 11,
    "start_time": "2023-01-11T11:12:49.834Z"
   },
   {
    "duration": 10,
    "start_time": "2023-01-11T11:12:49.847Z"
   },
   {
    "duration": 12,
    "start_time": "2023-01-11T11:12:49.859Z"
   },
   {
    "duration": 16,
    "start_time": "2023-01-11T11:12:49.873Z"
   },
   {
    "duration": 44,
    "start_time": "2023-01-11T11:12:49.890Z"
   },
   {
    "duration": 7,
    "start_time": "2023-01-11T11:12:49.935Z"
   },
   {
    "duration": 13,
    "start_time": "2023-01-11T11:12:49.944Z"
   },
   {
    "duration": 15,
    "start_time": "2023-01-11T11:12:49.959Z"
   },
   {
    "duration": 37,
    "start_time": "2023-01-11T11:12:49.976Z"
   },
   {
    "duration": 15,
    "start_time": "2023-01-11T11:12:50.016Z"
   },
   {
    "duration": 6,
    "start_time": "2023-01-11T11:12:50.033Z"
   },
   {
    "duration": 22,
    "start_time": "2023-01-11T11:12:50.041Z"
   },
   {
    "duration": 29,
    "start_time": "2023-01-11T11:12:50.064Z"
   },
   {
    "duration": 814,
    "start_time": "2023-01-11T11:12:50.095Z"
   },
   {
    "duration": 19,
    "start_time": "2023-01-11T11:12:50.911Z"
   },
   {
    "duration": 5,
    "start_time": "2023-01-11T11:13:14.199Z"
   },
   {
    "duration": 13,
    "start_time": "2023-01-11T11:13:29.500Z"
   },
   {
    "duration": 7,
    "start_time": "2023-01-11T11:16:23.121Z"
   },
   {
    "duration": 18,
    "start_time": "2023-01-11T11:18:10.819Z"
   },
   {
    "duration": 24,
    "start_time": "2023-01-11T11:18:12.686Z"
   },
   {
    "duration": 16,
    "start_time": "2023-01-11T11:18:13.774Z"
   },
   {
    "duration": 13,
    "start_time": "2023-01-11T11:18:35.597Z"
   },
   {
    "duration": 801,
    "start_time": "2023-01-11T11:18:39.260Z"
   },
   {
    "duration": 9,
    "start_time": "2023-01-11T11:18:40.063Z"
   },
   {
    "duration": 18,
    "start_time": "2023-01-11T11:22:27.445Z"
   },
   {
    "duration": 31,
    "start_time": "2023-01-11T11:22:27.970Z"
   },
   {
    "duration": 13,
    "start_time": "2023-01-11T11:22:36.486Z"
   },
   {
    "duration": 3,
    "start_time": "2023-01-11T11:22:42.182Z"
   },
   {
    "duration": 119,
    "start_time": "2023-01-11T11:22:42.187Z"
   },
   {
    "duration": 11,
    "start_time": "2023-01-11T11:22:42.308Z"
   },
   {
    "duration": 147,
    "start_time": "2023-01-11T11:22:42.321Z"
   },
   {
    "duration": 147,
    "start_time": "2023-01-11T11:22:42.470Z"
   },
   {
    "duration": 20419,
    "start_time": "2023-01-11T11:22:42.619Z"
   },
   {
    "duration": 14,
    "start_time": "2023-01-11T11:23:03.040Z"
   },
   {
    "duration": 36,
    "start_time": "2023-01-11T11:23:03.055Z"
   },
   {
    "duration": 28,
    "start_time": "2023-01-11T11:23:03.093Z"
   },
   {
    "duration": 13,
    "start_time": "2023-01-11T11:23:03.123Z"
   },
   {
    "duration": 25,
    "start_time": "2023-01-11T11:23:03.138Z"
   },
   {
    "duration": 24,
    "start_time": "2023-01-11T11:23:03.165Z"
   },
   {
    "duration": 7,
    "start_time": "2023-01-11T11:23:03.191Z"
   },
   {
    "duration": 15,
    "start_time": "2023-01-11T11:23:03.201Z"
   },
   {
    "duration": 303,
    "start_time": "2023-01-11T11:23:03.218Z"
   },
   {
    "duration": 11,
    "start_time": "2023-01-11T11:23:03.523Z"
   },
   {
    "duration": 6,
    "start_time": "2023-01-11T11:23:03.536Z"
   },
   {
    "duration": 13,
    "start_time": "2023-01-11T11:23:03.544Z"
   },
   {
    "duration": 12,
    "start_time": "2023-01-11T11:23:03.559Z"
   },
   {
    "duration": 57,
    "start_time": "2023-01-11T11:23:03.573Z"
   },
   {
    "duration": 7,
    "start_time": "2023-01-11T11:23:03.631Z"
   },
   {
    "duration": 14,
    "start_time": "2023-01-11T11:23:03.640Z"
   },
   {
    "duration": 13,
    "start_time": "2023-01-11T11:23:03.655Z"
   },
   {
    "duration": 18,
    "start_time": "2023-01-11T11:23:03.670Z"
   },
   {
    "duration": 36,
    "start_time": "2023-01-11T11:23:03.689Z"
   },
   {
    "duration": 5,
    "start_time": "2023-01-11T11:23:03.727Z"
   },
   {
    "duration": 16,
    "start_time": "2023-01-11T11:23:03.734Z"
   },
   {
    "duration": 19,
    "start_time": "2023-01-11T11:23:03.752Z"
   },
   {
    "duration": 51,
    "start_time": "2023-01-11T11:23:03.772Z"
   },
   {
    "duration": 0,
    "start_time": "2023-01-11T11:23:03.825Z"
   },
   {
    "duration": 0,
    "start_time": "2023-01-11T11:23:03.826Z"
   },
   {
    "duration": 997,
    "start_time": "2023-01-11T11:23:30.204Z"
   },
   {
    "duration": 16,
    "start_time": "2023-01-11T11:23:31.320Z"
   },
   {
    "duration": 7,
    "start_time": "2023-01-11T11:23:34.849Z"
   },
   {
    "duration": 7334,
    "start_time": "2023-01-11T11:24:13.562Z"
   },
   {
    "duration": 24,
    "start_time": "2023-01-11T11:24:20.898Z"
   },
   {
    "duration": 5,
    "start_time": "2023-01-11T11:24:20.924Z"
   },
   {
    "duration": 70892,
    "start_time": "2023-01-11T11:24:32.859Z"
   },
   {
    "duration": 79,
    "start_time": "2023-01-11T11:25:43.754Z"
   },
   {
    "duration": 209285,
    "start_time": "2023-01-11T11:26:42.084Z"
   },
   {
    "duration": 239,
    "start_time": "2023-01-11T11:30:19.006Z"
   },
   {
    "duration": 326,
    "start_time": "2023-01-11T13:36:54.522Z"
   },
   {
    "duration": 146,
    "start_time": "2023-01-11T13:38:09.904Z"
   },
   {
    "duration": 19,
    "start_time": "2023-01-11T13:38:57.037Z"
   },
   {
    "duration": 55,
    "start_time": "2023-01-11T13:41:25.519Z"
   },
   {
    "duration": 19,
    "start_time": "2023-01-11T13:42:08.991Z"
   },
   {
    "duration": 378,
    "start_time": "2023-01-11T13:42:33.479Z"
   },
   {
    "duration": 12,
    "start_time": "2023-01-11T13:44:17.769Z"
   },
   {
    "duration": 50,
    "start_time": "2023-01-11T13:49:26.650Z"
   },
   {
    "duration": 12,
    "start_time": "2023-01-11T13:51:01.638Z"
   },
   {
    "duration": 32,
    "start_time": "2023-01-11T13:51:07.769Z"
   },
   {
    "duration": 49,
    "start_time": "2023-01-11T13:52:39.298Z"
   },
   {
    "duration": 48,
    "start_time": "2023-01-11T13:52:41.305Z"
   },
   {
    "duration": 84365,
    "start_time": "2023-01-11T13:52:48.609Z"
   },
   {
    "duration": 85,
    "start_time": "2023-01-11T13:54:22.849Z"
   },
   {
    "duration": 23,
    "start_time": "2023-01-11T14:07:11.049Z"
   },
   {
    "duration": 26,
    "start_time": "2023-01-11T14:08:42.918Z"
   },
   {
    "duration": 9,
    "start_time": "2023-01-11T14:08:44.693Z"
   },
   {
    "duration": 83104,
    "start_time": "2023-01-11T14:08:45.472Z"
   },
   {
    "duration": 260,
    "start_time": "2023-01-11T14:11:21.065Z"
   },
   {
    "duration": 19,
    "start_time": "2023-01-11T14:11:47.916Z"
   },
   {
    "duration": 26,
    "start_time": "2023-01-11T14:12:02.110Z"
   },
   {
    "duration": 15,
    "start_time": "2023-01-11T14:13:02.093Z"
   },
   {
    "duration": 16,
    "start_time": "2023-01-11T14:13:09.254Z"
   },
   {
    "duration": 15,
    "start_time": "2023-01-11T14:13:24.105Z"
   },
   {
    "duration": 16,
    "start_time": "2023-01-11T14:16:06.418Z"
   },
   {
    "duration": 47,
    "start_time": "2023-01-11T14:16:10.862Z"
   },
   {
    "duration": 19,
    "start_time": "2023-01-11T14:16:10.912Z"
   },
   {
    "duration": 8,
    "start_time": "2023-01-11T14:16:12.641Z"
   },
   {
    "duration": 73618,
    "start_time": "2023-01-11T14:16:12.998Z"
   },
   {
    "duration": 274,
    "start_time": "2023-01-11T14:17:26.619Z"
   },
   {
    "duration": 4,
    "start_time": "2023-01-11T14:17:26.895Z"
   },
   {
    "duration": 333,
    "start_time": "2023-01-11T15:18:26.111Z"
   },
   {
    "duration": 76,
    "start_time": "2023-01-11T15:18:51.131Z"
   },
   {
    "duration": 70,
    "start_time": "2023-01-11T15:19:38.737Z"
   },
   {
    "duration": 210,
    "start_time": "2023-01-11T15:19:54.450Z"
   },
   {
    "duration": 6,
    "start_time": "2023-01-11T15:25:53.102Z"
   },
   {
    "duration": 6,
    "start_time": "2023-01-11T15:26:22.581Z"
   },
   {
    "duration": 4,
    "start_time": "2023-01-11T15:27:05.411Z"
   },
   {
    "duration": 56,
    "start_time": "2023-01-11T15:27:10.826Z"
   },
   {
    "duration": 5,
    "start_time": "2023-01-11T15:27:14.307Z"
   },
   {
    "duration": 5,
    "start_time": "2023-01-11T15:27:40.938Z"
   },
   {
    "duration": 7,
    "start_time": "2023-01-11T15:27:48.330Z"
   },
   {
    "duration": 4,
    "start_time": "2023-01-11T15:28:31.930Z"
   },
   {
    "duration": 15,
    "start_time": "2023-01-11T15:29:12.883Z"
   },
   {
    "duration": 3,
    "start_time": "2023-01-11T15:29:33.726Z"
   },
   {
    "duration": 4,
    "start_time": "2023-01-11T15:29:40.292Z"
   },
   {
    "duration": 10,
    "start_time": "2023-01-11T15:29:43.346Z"
   },
   {
    "duration": 1773,
    "start_time": "2023-01-11T15:29:51.373Z"
   },
   {
    "duration": 1650,
    "start_time": "2023-01-11T15:29:54.643Z"
   },
   {
    "duration": 4,
    "start_time": "2023-01-11T15:30:20.224Z"
   },
   {
    "duration": 12,
    "start_time": "2023-01-11T15:30:37.704Z"
   },
   {
    "duration": 1940,
    "start_time": "2023-01-11T15:30:43.397Z"
   },
   {
    "duration": 2858,
    "start_time": "2023-01-11T15:35:04.386Z"
   },
   {
    "duration": 15,
    "start_time": "2023-01-11T15:38:54.174Z"
   },
   {
    "duration": 3,
    "start_time": "2023-01-11T15:41:20.979Z"
   },
   {
    "duration": 2495,
    "start_time": "2023-01-11T15:42:48.940Z"
   },
   {
    "duration": 1791,
    "start_time": "2023-01-11T15:44:34.134Z"
   },
   {
    "duration": 2192,
    "start_time": "2023-01-11T15:44:48.884Z"
   },
   {
    "duration": 1234,
    "start_time": "2023-01-11T15:50:17.960Z"
   },
   {
    "duration": 115,
    "start_time": "2023-01-11T15:50:19.196Z"
   },
   {
    "duration": 24,
    "start_time": "2023-01-11T15:50:19.313Z"
   },
   {
    "duration": 414,
    "start_time": "2023-01-11T15:50:19.339Z"
   },
   {
    "duration": 160,
    "start_time": "2023-01-11T15:50:19.755Z"
   },
   {
    "duration": 20935,
    "start_time": "2023-01-11T15:50:19.917Z"
   },
   {
    "duration": 15,
    "start_time": "2023-01-11T15:50:40.854Z"
   },
   {
    "duration": 216,
    "start_time": "2023-01-11T15:50:40.871Z"
   },
   {
    "duration": 13,
    "start_time": "2023-01-11T15:50:41.089Z"
   },
   {
    "duration": 27,
    "start_time": "2023-01-11T15:50:41.103Z"
   },
   {
    "duration": 6,
    "start_time": "2023-01-11T15:50:41.132Z"
   },
   {
    "duration": 46,
    "start_time": "2023-01-11T15:50:41.140Z"
   },
   {
    "duration": 18,
    "start_time": "2023-01-11T15:50:41.188Z"
   },
   {
    "duration": 13,
    "start_time": "2023-01-11T15:50:41.208Z"
   },
   {
    "duration": 114,
    "start_time": "2023-01-11T15:50:41.223Z"
   },
   {
    "duration": 13,
    "start_time": "2023-01-11T15:50:41.339Z"
   },
   {
    "duration": 24,
    "start_time": "2023-01-11T15:50:41.353Z"
   },
   {
    "duration": 35,
    "start_time": "2023-01-11T15:50:41.379Z"
   },
   {
    "duration": 23,
    "start_time": "2023-01-11T15:50:41.416Z"
   },
   {
    "duration": 39,
    "start_time": "2023-01-11T15:50:41.440Z"
   },
   {
    "duration": 8,
    "start_time": "2023-01-11T15:50:41.481Z"
   },
   {
    "duration": 20,
    "start_time": "2023-01-11T15:50:41.493Z"
   },
   {
    "duration": 30,
    "start_time": "2023-01-11T15:50:41.515Z"
   },
   {
    "duration": 125,
    "start_time": "2023-01-11T15:50:41.547Z"
   },
   {
    "duration": 0,
    "start_time": "2023-01-11T15:50:41.673Z"
   },
   {
    "duration": 0,
    "start_time": "2023-01-11T15:50:41.675Z"
   },
   {
    "duration": 0,
    "start_time": "2023-01-11T15:50:41.676Z"
   },
   {
    "duration": 0,
    "start_time": "2023-01-11T15:50:41.677Z"
   },
   {
    "duration": 0,
    "start_time": "2023-01-11T15:50:41.678Z"
   },
   {
    "duration": 0,
    "start_time": "2023-01-11T15:50:41.680Z"
   },
   {
    "duration": 0,
    "start_time": "2023-01-11T15:50:41.681Z"
   },
   {
    "duration": 0,
    "start_time": "2023-01-11T15:50:41.682Z"
   },
   {
    "duration": 0,
    "start_time": "2023-01-11T15:50:41.683Z"
   },
   {
    "duration": 0,
    "start_time": "2023-01-11T15:50:41.685Z"
   },
   {
    "duration": 0,
    "start_time": "2023-01-11T15:50:41.686Z"
   },
   {
    "duration": 48,
    "start_time": "2023-01-11T15:51:32.850Z"
   },
   {
    "duration": 368,
    "start_time": "2023-01-11T15:51:38.218Z"
   },
   {
    "duration": 11,
    "start_time": "2023-01-11T15:51:39.165Z"
   },
   {
    "duration": 19,
    "start_time": "2023-01-11T15:51:39.496Z"
   },
   {
    "duration": 5,
    "start_time": "2023-01-11T15:51:39.848Z"
   },
   {
    "duration": 20,
    "start_time": "2023-01-11T15:51:40.109Z"
   },
   {
    "duration": 42,
    "start_time": "2023-01-11T15:51:40.768Z"
   },
   {
    "duration": 17,
    "start_time": "2023-01-11T15:51:41.009Z"
   },
   {
    "duration": 7,
    "start_time": "2023-01-11T15:51:41.708Z"
   },
   {
    "duration": 1100,
    "start_time": "2023-01-11T15:51:42.473Z"
   },
   {
    "duration": 866,
    "start_time": "2023-01-11T15:57:07.173Z"
   },
   {
    "duration": 2150,
    "start_time": "2023-01-11T15:57:13.660Z"
   },
   {
    "duration": 2430,
    "start_time": "2023-01-11T15:58:31.213Z"
   },
   {
    "duration": 17933,
    "start_time": "2023-01-11T15:58:41.724Z"
   },
   {
    "duration": 3174,
    "start_time": "2023-01-11T15:59:00.904Z"
   },
   {
    "duration": 69,
    "start_time": "2023-01-11T15:59:20.322Z"
   },
   {
    "duration": 31944,
    "start_time": "2023-01-11T15:59:43.748Z"
   },
   {
    "duration": 3064,
    "start_time": "2023-01-11T16:00:23.451Z"
   },
   {
    "duration": 29,
    "start_time": "2023-01-11T16:00:31.047Z"
   },
   {
    "duration": 30233,
    "start_time": "2023-01-11T16:02:49.454Z"
   },
   {
    "duration": 31539,
    "start_time": "2023-01-11T16:03:37.584Z"
   },
   {
    "duration": 64,
    "start_time": "2023-01-11T16:05:42.535Z"
   },
   {
    "duration": 39,
    "start_time": "2023-01-11T16:06:49.661Z"
   },
   {
    "duration": 33,
    "start_time": "2023-01-11T16:06:52.963Z"
   },
   {
    "duration": 465,
    "start_time": "2023-01-11T16:07:06.989Z"
   },
   {
    "duration": 417,
    "start_time": "2023-01-11T16:07:15.163Z"
   },
   {
    "duration": 29720,
    "start_time": "2023-01-11T16:07:22.867Z"
   },
   {
    "duration": 1006,
    "start_time": "2023-01-11T16:09:22.290Z"
   },
   {
    "duration": 29,
    "start_time": "2023-01-11T16:09:23.299Z"
   },
   {
    "duration": 995,
    "start_time": "2023-01-11T16:11:12.065Z"
   },
   {
    "duration": 4,
    "start_time": "2023-01-11T16:11:57.624Z"
   },
   {
    "duration": 407,
    "start_time": "2023-01-11T16:12:57.805Z"
   },
   {
    "duration": 3,
    "start_time": "2023-01-11T16:14:58.624Z"
   },
   {
    "duration": 34,
    "start_time": "2023-01-11T16:17:20.347Z"
   },
   {
    "duration": 19,
    "start_time": "2023-01-11T16:17:42.583Z"
   },
   {
    "duration": 34,
    "start_time": "2023-01-11T16:18:10.934Z"
   },
   {
    "duration": 19,
    "start_time": "2023-01-11T16:18:21.885Z"
   },
   {
    "duration": 54,
    "start_time": "2023-01-11T16:18:44.985Z"
   },
   {
    "duration": 1513,
    "start_time": "2023-01-11T16:19:02.048Z"
   },
   {
    "duration": 1582,
    "start_time": "2023-01-11T16:19:15.265Z"
   },
   {
    "duration": 376,
    "start_time": "2023-01-11T16:19:48.178Z"
   },
   {
    "duration": 1560,
    "start_time": "2023-01-11T16:19:53.536Z"
   },
   {
    "duration": 1563,
    "start_time": "2023-01-11T16:20:08.126Z"
   },
   {
    "duration": 1685,
    "start_time": "2023-01-11T16:20:16.116Z"
   },
   {
    "duration": 1570,
    "start_time": "2023-01-11T16:20:23.370Z"
   },
   {
    "duration": 1552,
    "start_time": "2023-01-11T16:20:31.432Z"
   },
   {
    "duration": 1634,
    "start_time": "2023-01-11T16:20:55.663Z"
   },
   {
    "duration": 1591,
    "start_time": "2023-01-11T16:21:25.694Z"
   },
   {
    "duration": 198,
    "start_time": "2023-01-11T16:22:01.774Z"
   },
   {
    "duration": 194,
    "start_time": "2023-01-11T16:22:28.457Z"
   },
   {
    "duration": 227,
    "start_time": "2023-01-11T16:22:36.826Z"
   },
   {
    "duration": 196,
    "start_time": "2023-01-11T16:23:08.665Z"
   },
   {
    "duration": 182,
    "start_time": "2023-01-11T16:24:53.564Z"
   },
   {
    "duration": 37,
    "start_time": "2023-01-11T16:25:47.671Z"
   },
   {
    "duration": 17,
    "start_time": "2023-01-11T16:26:02.748Z"
   },
   {
    "duration": 26,
    "start_time": "2023-01-11T16:26:05.674Z"
   },
   {
    "duration": 199,
    "start_time": "2023-01-11T16:26:07.598Z"
   },
   {
    "duration": 35807,
    "start_time": "2023-01-11T16:27:33.375Z"
   },
   {
    "duration": 53,
    "start_time": "2023-01-11T16:30:23.022Z"
   },
   {
    "duration": 686,
    "start_time": "2023-01-11T16:30:26.337Z"
   },
   {
    "duration": 37288,
    "start_time": "2023-01-11T16:30:42.786Z"
   },
   {
    "duration": 4,
    "start_time": "2023-01-11T16:39:47.772Z"
   },
   {
    "duration": 759,
    "start_time": "2023-01-11T16:40:17.580Z"
   },
   {
    "duration": 802,
    "start_time": "2023-01-11T16:40:35.808Z"
   },
   {
    "duration": 25,
    "start_time": "2023-01-11T16:40:42.424Z"
   },
   {
    "duration": 25,
    "start_time": "2023-01-11T16:41:20.417Z"
   },
   {
    "duration": 24,
    "start_time": "2023-01-11T16:41:42.291Z"
   },
   {
    "duration": 1200,
    "start_time": "2023-01-11T16:41:47.919Z"
   },
   {
    "duration": 113,
    "start_time": "2023-01-11T16:41:49.121Z"
   },
   {
    "duration": 22,
    "start_time": "2023-01-11T16:41:49.236Z"
   },
   {
    "duration": 428,
    "start_time": "2023-01-11T16:41:49.260Z"
   },
   {
    "duration": 154,
    "start_time": "2023-01-11T16:41:49.690Z"
   },
   {
    "duration": 21008,
    "start_time": "2023-01-11T16:41:49.846Z"
   },
   {
    "duration": 17,
    "start_time": "2023-01-11T16:42:10.856Z"
   },
   {
    "duration": 24,
    "start_time": "2023-01-11T16:42:10.912Z"
   },
   {
    "duration": 42,
    "start_time": "2023-01-11T16:42:10.938Z"
   },
   {
    "duration": 31,
    "start_time": "2023-01-11T16:42:10.981Z"
   },
   {
    "duration": 9,
    "start_time": "2023-01-11T16:42:11.014Z"
   },
   {
    "duration": 53,
    "start_time": "2023-01-11T16:42:11.025Z"
   },
   {
    "duration": 17,
    "start_time": "2023-01-11T16:42:11.080Z"
   },
   {
    "duration": 34,
    "start_time": "2023-01-11T16:42:11.100Z"
   },
   {
    "duration": 122,
    "start_time": "2023-01-11T16:42:11.136Z"
   },
   {
    "duration": 11,
    "start_time": "2023-01-11T16:42:11.259Z"
   },
   {
    "duration": 19,
    "start_time": "2023-01-11T16:42:11.272Z"
   },
   {
    "duration": 31,
    "start_time": "2023-01-11T16:42:11.293Z"
   },
   {
    "duration": 80,
    "start_time": "2023-01-11T16:42:11.326Z"
   },
   {
    "duration": 50,
    "start_time": "2023-01-11T16:42:11.408Z"
   },
   {
    "duration": 9,
    "start_time": "2023-01-11T16:42:11.460Z"
   },
   {
    "duration": 21,
    "start_time": "2023-01-11T16:42:11.471Z"
   },
   {
    "duration": 39,
    "start_time": "2023-01-11T16:42:11.494Z"
   },
   {
    "duration": 406,
    "start_time": "2023-01-11T16:42:11.535Z"
   },
   {
    "duration": 10,
    "start_time": "2023-01-11T16:42:11.942Z"
   },
   {
    "duration": 25,
    "start_time": "2023-01-11T16:42:11.953Z"
   },
   {
    "duration": 39,
    "start_time": "2023-01-11T16:42:11.980Z"
   },
   {
    "duration": 30,
    "start_time": "2023-01-11T16:42:12.020Z"
   },
   {
    "duration": 52,
    "start_time": "2023-01-11T16:42:12.052Z"
   },
   {
    "duration": 19,
    "start_time": "2023-01-11T16:42:12.105Z"
   },
   {
    "duration": 11,
    "start_time": "2023-01-11T16:42:12.126Z"
   },
   {
    "duration": 34850,
    "start_time": "2023-01-11T16:42:12.139Z"
   },
   {
    "duration": 1120,
    "start_time": "2023-01-11T16:42:46.991Z"
   },
   {
    "duration": 25,
    "start_time": "2023-01-11T16:42:48.113Z"
   },
   {
    "duration": 1652,
    "start_time": "2023-01-11T16:42:48.140Z"
   },
   {
    "duration": 29,
    "start_time": "2023-01-11T16:42:49.794Z"
   },
   {
    "duration": 21,
    "start_time": "2023-01-11T16:43:06.497Z"
   },
   {
    "duration": 6,
    "start_time": "2023-01-11T16:43:49.673Z"
   },
   {
    "duration": 15,
    "start_time": "2023-01-11T16:44:11.608Z"
   },
   {
    "duration": 21,
    "start_time": "2023-01-11T16:44:14.160Z"
   },
   {
    "duration": 14,
    "start_time": "2023-01-11T16:44:49.194Z"
   },
   {
    "duration": 21,
    "start_time": "2023-01-11T16:44:50.493Z"
   },
   {
    "duration": 67,
    "start_time": "2023-01-11T16:46:18.175Z"
   },
   {
    "duration": 110,
    "start_time": "2023-01-11T16:46:58.757Z"
   },
   {
    "duration": 64,
    "start_time": "2023-01-11T16:47:01.464Z"
   },
   {
    "duration": 1636,
    "start_time": "2023-01-11T16:47:32.764Z"
   },
   {
    "duration": 52,
    "start_time": "2023-01-11T16:48:41.844Z"
   },
   {
    "duration": 7,
    "start_time": "2023-01-11T16:48:50.191Z"
   },
   {
    "duration": 50,
    "start_time": "2023-01-11T16:48:58.091Z"
   },
   {
    "duration": 71,
    "start_time": "2023-01-11T16:49:12.938Z"
   },
   {
    "duration": 28,
    "start_time": "2023-01-11T16:49:16.839Z"
   },
   {
    "duration": 4,
    "start_time": "2023-01-11T16:51:40.633Z"
   },
   {
    "duration": 22,
    "start_time": "2023-01-11T16:51:48.548Z"
   },
   {
    "duration": 73,
    "start_time": "2023-01-11T16:55:07.602Z"
   },
   {
    "duration": 78,
    "start_time": "2023-01-11T16:55:38.338Z"
   },
   {
    "duration": 64,
    "start_time": "2023-01-11T16:55:53.689Z"
   },
   {
    "duration": 67,
    "start_time": "2023-01-11T16:56:20.342Z"
   },
   {
    "duration": 77,
    "start_time": "2023-01-11T16:56:43.243Z"
   },
   {
    "duration": 73,
    "start_time": "2023-01-11T16:57:40.722Z"
   },
   {
    "duration": 72,
    "start_time": "2023-01-11T16:57:45.317Z"
   },
   {
    "duration": 28,
    "start_time": "2023-01-11T16:58:56.380Z"
   },
   {
    "duration": 28,
    "start_time": "2023-01-11T16:59:53.018Z"
   },
   {
    "duration": 21,
    "start_time": "2023-01-11T17:00:23.634Z"
   },
   {
    "duration": 14,
    "start_time": "2023-01-11T17:00:59.853Z"
   },
   {
    "duration": 6472,
    "start_time": "2023-01-11T17:01:06.642Z"
   },
   {
    "duration": 6110,
    "start_time": "2023-01-11T17:01:45.213Z"
   },
   {
    "duration": 3525,
    "start_time": "2023-01-11T17:02:05.893Z"
   },
   {
    "duration": 9425,
    "start_time": "2023-01-11T17:02:40.931Z"
   },
   {
    "duration": 21354,
    "start_time": "2023-01-11T17:02:50.358Z"
   },
   {
    "duration": 1240,
    "start_time": "2023-01-11T17:04:08.890Z"
   },
   {
    "duration": 111,
    "start_time": "2023-01-11T17:04:10.132Z"
   },
   {
    "duration": 19,
    "start_time": "2023-01-11T17:04:10.244Z"
   },
   {
    "duration": 466,
    "start_time": "2023-01-11T17:04:10.266Z"
   },
   {
    "duration": 222,
    "start_time": "2023-01-11T17:04:10.734Z"
   },
   {
    "duration": 21677,
    "start_time": "2023-01-11T17:04:10.958Z"
   },
   {
    "duration": 14,
    "start_time": "2023-01-11T17:04:32.637Z"
   },
   {
    "duration": 20,
    "start_time": "2023-01-11T17:04:32.654Z"
   },
   {
    "duration": 25,
    "start_time": "2023-01-11T17:04:32.676Z"
   },
   {
    "duration": 14,
    "start_time": "2023-01-11T17:04:32.715Z"
   },
   {
    "duration": 7,
    "start_time": "2023-01-11T17:04:32.731Z"
   },
   {
    "duration": 48,
    "start_time": "2023-01-11T17:04:32.740Z"
   },
   {
    "duration": 9,
    "start_time": "2023-01-11T17:04:32.791Z"
   },
   {
    "duration": 18,
    "start_time": "2023-01-11T17:04:32.801Z"
   },
   {
    "duration": 111,
    "start_time": "2023-01-11T17:04:32.821Z"
   },
   {
    "duration": 13,
    "start_time": "2023-01-11T17:04:32.934Z"
   },
   {
    "duration": 16,
    "start_time": "2023-01-11T17:04:32.948Z"
   },
   {
    "duration": 24,
    "start_time": "2023-01-11T17:04:32.966Z"
   },
   {
    "duration": 23,
    "start_time": "2023-01-11T17:04:32.992Z"
   },
   {
    "duration": 29,
    "start_time": "2023-01-11T17:04:33.017Z"
   },
   {
    "duration": 8,
    "start_time": "2023-01-11T17:04:33.048Z"
   },
   {
    "duration": 19,
    "start_time": "2023-01-11T17:04:33.058Z"
   },
   {
    "duration": 33,
    "start_time": "2023-01-11T17:04:33.080Z"
   },
   {
    "duration": 389,
    "start_time": "2023-01-11T17:04:33.115Z"
   },
   {
    "duration": 19,
    "start_time": "2023-01-11T17:04:33.506Z"
   },
   {
    "duration": 15,
    "start_time": "2023-01-11T17:04:33.527Z"
   },
   {
    "duration": 9,
    "start_time": "2023-01-11T17:04:33.543Z"
   },
   {
    "duration": 18,
    "start_time": "2023-01-11T17:04:33.557Z"
   },
   {
    "duration": 56,
    "start_time": "2023-01-11T17:04:33.577Z"
   },
   {
    "duration": 18,
    "start_time": "2023-01-11T17:04:33.634Z"
   },
   {
    "duration": 8,
    "start_time": "2023-01-11T17:04:33.654Z"
   },
   {
    "duration": 30332,
    "start_time": "2023-01-11T17:04:33.664Z"
   },
   {
    "duration": 0,
    "start_time": "2023-01-11T17:05:03.998Z"
   },
   {
    "duration": 0,
    "start_time": "2023-01-11T17:05:04.002Z"
   },
   {
    "duration": 0,
    "start_time": "2023-01-11T17:05:04.003Z"
   },
   {
    "duration": 0,
    "start_time": "2023-01-11T17:05:04.006Z"
   },
   {
    "duration": 0,
    "start_time": "2023-01-11T17:05:04.007Z"
   },
   {
    "duration": 19,
    "start_time": "2023-01-11T17:05:05.332Z"
   },
   {
    "duration": 22,
    "start_time": "2023-01-11T17:05:09.470Z"
   },
   {
    "duration": 23,
    "start_time": "2023-01-11T17:05:28.268Z"
   },
   {
    "duration": 4,
    "start_time": "2023-01-11T17:05:40.841Z"
   },
   {
    "duration": 110,
    "start_time": "2023-01-11T17:05:41.206Z"
   },
   {
    "duration": 12,
    "start_time": "2023-01-11T17:05:41.915Z"
   },
   {
    "duration": 144,
    "start_time": "2023-01-11T17:05:42.089Z"
   },
   {
    "duration": 291,
    "start_time": "2023-01-11T17:05:42.394Z"
   },
   {
    "duration": 1195,
    "start_time": "2023-01-11T17:06:03.764Z"
   },
   {
    "duration": 111,
    "start_time": "2023-01-11T17:06:04.961Z"
   },
   {
    "duration": 19,
    "start_time": "2023-01-11T17:06:05.074Z"
   },
   {
    "duration": 405,
    "start_time": "2023-01-11T17:06:05.095Z"
   },
   {
    "duration": 173,
    "start_time": "2023-01-11T17:06:05.502Z"
   },
   {
    "duration": 21650,
    "start_time": "2023-01-11T17:06:05.677Z"
   },
   {
    "duration": 14,
    "start_time": "2023-01-11T17:06:27.329Z"
   },
   {
    "duration": 22,
    "start_time": "2023-01-11T17:06:27.345Z"
   },
   {
    "duration": 12,
    "start_time": "2023-01-11T17:06:27.369Z"
   },
   {
    "duration": 37,
    "start_time": "2023-01-11T17:06:27.383Z"
   },
   {
    "duration": 6,
    "start_time": "2023-01-11T17:06:27.422Z"
   },
   {
    "duration": 17,
    "start_time": "2023-01-11T17:06:27.430Z"
   },
   {
    "duration": 5,
    "start_time": "2023-01-11T17:06:27.450Z"
   },
   {
    "duration": 13,
    "start_time": "2023-01-11T17:06:27.457Z"
   },
   {
    "duration": 140,
    "start_time": "2023-01-11T17:06:27.472Z"
   },
   {
    "duration": 14,
    "start_time": "2023-01-11T17:06:27.614Z"
   },
   {
    "duration": 8,
    "start_time": "2023-01-11T17:06:27.630Z"
   },
   {
    "duration": 15,
    "start_time": "2023-01-11T17:06:27.640Z"
   },
   {
    "duration": 16,
    "start_time": "2023-01-11T17:06:27.657Z"
   },
   {
    "duration": 64,
    "start_time": "2023-01-11T17:06:27.674Z"
   },
   {
    "duration": 8,
    "start_time": "2023-01-11T17:06:27.740Z"
   },
   {
    "duration": 13,
    "start_time": "2023-01-11T17:06:27.750Z"
   },
   {
    "duration": 10,
    "start_time": "2023-01-11T17:06:27.765Z"
   },
   {
    "duration": 379,
    "start_time": "2023-01-11T17:06:27.777Z"
   },
   {
    "duration": 11,
    "start_time": "2023-01-11T17:06:28.157Z"
   },
   {
    "duration": 21,
    "start_time": "2023-01-11T17:06:28.169Z"
   },
   {
    "duration": 28,
    "start_time": "2023-01-11T17:06:28.191Z"
   },
   {
    "duration": 23,
    "start_time": "2023-01-11T17:06:28.222Z"
   },
   {
    "duration": 37,
    "start_time": "2023-01-11T17:06:28.246Z"
   },
   {
    "duration": 36,
    "start_time": "2023-01-11T17:06:28.285Z"
   },
   {
    "duration": 7,
    "start_time": "2023-01-11T17:06:28.323Z"
   },
   {
    "duration": 34901,
    "start_time": "2023-01-11T17:06:28.332Z"
   },
   {
    "duration": 1037,
    "start_time": "2023-01-11T17:07:03.235Z"
   },
   {
    "duration": 25,
    "start_time": "2023-01-11T17:07:04.274Z"
   },
   {
    "duration": 9449,
    "start_time": "2023-01-11T17:07:04.301Z"
   },
   {
    "duration": 157,
    "start_time": "2023-01-11T17:07:13.752Z"
   },
   {
    "duration": 0,
    "start_time": "2023-01-11T17:07:13.911Z"
   },
   {
    "duration": 24,
    "start_time": "2023-01-11T17:07:26.469Z"
   },
   {
    "duration": 18783,
    "start_time": "2023-01-11T17:07:31.838Z"
   },
   {
    "duration": 1164,
    "start_time": "2023-01-11T17:07:55.461Z"
   },
   {
    "duration": 29,
    "start_time": "2023-01-11T17:08:19.451Z"
   },
   {
    "duration": 39,
    "start_time": "2023-01-11T17:08:43.351Z"
   },
   {
    "duration": 29,
    "start_time": "2023-01-11T17:08:57.009Z"
   },
   {
    "duration": 20,
    "start_time": "2023-01-11T17:08:59.297Z"
   },
   {
    "duration": 24,
    "start_time": "2023-01-11T17:09:27.851Z"
   },
   {
    "duration": 20,
    "start_time": "2023-01-11T17:10:11.608Z"
   },
   {
    "duration": 176,
    "start_time": "2023-01-11T17:10:27.360Z"
   },
   {
    "duration": 42,
    "start_time": "2023-01-11T17:11:17.014Z"
   },
   {
    "duration": 13,
    "start_time": "2023-01-11T17:13:37.551Z"
   },
   {
    "duration": 14,
    "start_time": "2023-01-11T17:13:44.955Z"
   },
   {
    "duration": 19,
    "start_time": "2023-01-11T17:13:57.891Z"
   },
   {
    "duration": 13,
    "start_time": "2023-01-11T17:14:09.220Z"
   },
   {
    "duration": 23,
    "start_time": "2023-01-11T17:14:10.513Z"
   },
   {
    "duration": 25027,
    "start_time": "2023-01-11T17:14:16.186Z"
   },
   {
    "duration": 21,
    "start_time": "2023-01-11T17:16:42.151Z"
   },
   {
    "duration": 21,
    "start_time": "2023-01-11T17:16:50.785Z"
   },
   {
    "duration": 27,
    "start_time": "2023-01-11T17:17:11.305Z"
   },
   {
    "duration": 25,
    "start_time": "2023-01-11T17:17:17.024Z"
   },
   {
    "duration": 24,
    "start_time": "2023-01-11T17:17:32.336Z"
   },
   {
    "duration": 22,
    "start_time": "2023-01-11T17:17:42.381Z"
   },
   {
    "duration": 6,
    "start_time": "2023-01-11T17:17:48.136Z"
   },
   {
    "duration": 9,
    "start_time": "2023-01-11T17:18:03.987Z"
   },
   {
    "duration": 9,
    "start_time": "2023-01-11T17:18:07.610Z"
   },
   {
    "duration": 27277,
    "start_time": "2023-01-11T17:18:12.436Z"
   },
   {
    "duration": 99,
    "start_time": "2023-01-11T17:18:39.715Z"
   },
   {
    "duration": 10,
    "start_time": "2023-01-11T17:18:53.360Z"
   },
   {
    "duration": 3236,
    "start_time": "2023-01-11T17:21:17.187Z"
   },
   {
    "duration": 1136,
    "start_time": "2023-01-11T17:21:36.395Z"
   },
   {
    "duration": 951,
    "start_time": "2023-01-11T17:21:43.960Z"
   },
   {
    "duration": 4,
    "start_time": "2023-01-11T17:23:32.972Z"
   },
   {
    "duration": 17,
    "start_time": "2023-01-11T17:23:59.953Z"
   },
   {
    "duration": 13,
    "start_time": "2023-01-11T17:24:18.546Z"
   },
   {
    "duration": 14,
    "start_time": "2023-01-11T17:25:05.113Z"
   },
   {
    "duration": 43,
    "start_time": "2023-01-11T17:27:42.468Z"
   },
   {
    "duration": 59,
    "start_time": "2023-01-11T17:32:14.220Z"
   },
   {
    "duration": 5,
    "start_time": "2023-01-11T17:33:06.244Z"
   },
   {
    "duration": 118,
    "start_time": "2023-01-11T17:33:06.251Z"
   },
   {
    "duration": 11,
    "start_time": "2023-01-11T17:33:06.371Z"
   },
   {
    "duration": 149,
    "start_time": "2023-01-11T17:33:06.383Z"
   },
   {
    "duration": 155,
    "start_time": "2023-01-11T17:33:06.534Z"
   },
   {
    "duration": 0,
    "start_time": "2023-01-11T17:34:51.642Z"
   },
   {
    "duration": 0,
    "start_time": "2023-01-11T17:34:51.643Z"
   },
   {
    "duration": 0,
    "start_time": "2023-01-11T17:34:51.645Z"
   },
   {
    "duration": 0,
    "start_time": "2023-01-11T17:34:51.647Z"
   },
   {
    "duration": 0,
    "start_time": "2023-01-11T17:34:51.648Z"
   },
   {
    "duration": 0,
    "start_time": "2023-01-11T17:34:51.649Z"
   },
   {
    "duration": 0,
    "start_time": "2023-01-11T17:34:51.651Z"
   },
   {
    "duration": 0,
    "start_time": "2023-01-11T17:34:51.652Z"
   },
   {
    "duration": 0,
    "start_time": "2023-01-11T17:34:51.653Z"
   },
   {
    "duration": 0,
    "start_time": "2023-01-11T17:34:51.654Z"
   },
   {
    "duration": 0,
    "start_time": "2023-01-11T17:34:51.656Z"
   },
   {
    "duration": 0,
    "start_time": "2023-01-11T17:34:51.657Z"
   },
   {
    "duration": 0,
    "start_time": "2023-01-11T17:34:51.658Z"
   },
   {
    "duration": 0,
    "start_time": "2023-01-11T17:34:51.659Z"
   },
   {
    "duration": 0,
    "start_time": "2023-01-11T17:34:51.660Z"
   },
   {
    "duration": 0,
    "start_time": "2023-01-11T17:34:51.661Z"
   },
   {
    "duration": 0,
    "start_time": "2023-01-11T17:34:51.663Z"
   },
   {
    "duration": 0,
    "start_time": "2023-01-11T17:34:51.664Z"
   },
   {
    "duration": 0,
    "start_time": "2023-01-11T17:34:51.665Z"
   },
   {
    "duration": 0,
    "start_time": "2023-01-11T17:34:51.665Z"
   },
   {
    "duration": 0,
    "start_time": "2023-01-11T17:34:51.667Z"
   },
   {
    "duration": 0,
    "start_time": "2023-01-11T17:34:51.667Z"
   },
   {
    "duration": 0,
    "start_time": "2023-01-11T17:34:51.668Z"
   },
   {
    "duration": 1,
    "start_time": "2023-01-11T17:34:51.669Z"
   },
   {
    "duration": 0,
    "start_time": "2023-01-11T17:34:51.670Z"
   },
   {
    "duration": 0,
    "start_time": "2023-01-11T17:34:51.713Z"
   },
   {
    "duration": 0,
    "start_time": "2023-01-11T17:34:51.715Z"
   },
   {
    "duration": 0,
    "start_time": "2023-01-11T17:34:51.716Z"
   },
   {
    "duration": 0,
    "start_time": "2023-01-11T17:34:51.717Z"
   },
   {
    "duration": 0,
    "start_time": "2023-01-11T17:34:51.719Z"
   },
   {
    "duration": 0,
    "start_time": "2023-01-11T17:34:51.720Z"
   },
   {
    "duration": 0,
    "start_time": "2023-01-11T17:34:51.721Z"
   },
   {
    "duration": 0,
    "start_time": "2023-01-11T17:34:51.722Z"
   },
   {
    "duration": 0,
    "start_time": "2023-01-11T17:34:51.722Z"
   },
   {
    "duration": 0,
    "start_time": "2023-01-11T17:34:51.723Z"
   },
   {
    "duration": 0,
    "start_time": "2023-01-11T17:34:51.724Z"
   },
   {
    "duration": 0,
    "start_time": "2023-01-11T17:34:51.724Z"
   },
   {
    "duration": 0,
    "start_time": "2023-01-11T17:34:51.725Z"
   },
   {
    "duration": 0,
    "start_time": "2023-01-11T17:34:51.726Z"
   },
   {
    "duration": 0,
    "start_time": "2023-01-11T17:34:51.730Z"
   },
   {
    "duration": 5,
    "start_time": "2023-01-11T17:35:12.444Z"
   },
   {
    "duration": 132,
    "start_time": "2023-01-11T17:35:12.451Z"
   },
   {
    "duration": 12,
    "start_time": "2023-01-11T17:35:12.585Z"
   },
   {
    "duration": 176,
    "start_time": "2023-01-11T17:35:12.599Z"
   },
   {
    "duration": 166,
    "start_time": "2023-01-11T17:35:12.777Z"
   },
   {
    "duration": 23457,
    "start_time": "2023-01-11T17:35:12.945Z"
   },
   {
    "duration": 20,
    "start_time": "2023-01-11T17:35:36.404Z"
   },
   {
    "duration": 47,
    "start_time": "2023-01-11T17:35:36.427Z"
   },
   {
    "duration": 23,
    "start_time": "2023-01-11T17:35:36.476Z"
   },
   {
    "duration": 46,
    "start_time": "2023-01-11T17:35:36.501Z"
   },
   {
    "duration": 15,
    "start_time": "2023-01-11T17:35:36.549Z"
   },
   {
    "duration": 43,
    "start_time": "2023-01-11T17:35:36.566Z"
   },
   {
    "duration": 41,
    "start_time": "2023-01-11T17:35:36.611Z"
   },
   {
    "duration": 28,
    "start_time": "2023-01-11T17:35:36.657Z"
   },
   {
    "duration": 154,
    "start_time": "2023-01-11T17:35:36.687Z"
   },
   {
    "duration": 12,
    "start_time": "2023-01-11T17:35:36.843Z"
   },
   {
    "duration": 17,
    "start_time": "2023-01-11T17:35:36.856Z"
   },
   {
    "duration": 29,
    "start_time": "2023-01-11T17:35:36.874Z"
   },
   {
    "duration": 49,
    "start_time": "2023-01-11T17:35:36.904Z"
   },
   {
    "duration": 45,
    "start_time": "2023-01-11T17:35:36.955Z"
   },
   {
    "duration": 19,
    "start_time": "2023-01-11T17:35:37.002Z"
   },
   {
    "duration": 44,
    "start_time": "2023-01-11T17:35:37.024Z"
   },
   {
    "duration": 24,
    "start_time": "2023-01-11T17:35:37.070Z"
   },
   {
    "duration": 415,
    "start_time": "2023-01-11T17:35:37.095Z"
   },
   {
    "duration": 15,
    "start_time": "2023-01-11T17:35:37.514Z"
   },
   {
    "duration": 23,
    "start_time": "2023-01-11T17:35:37.533Z"
   },
   {
    "duration": 7,
    "start_time": "2023-01-11T17:35:37.558Z"
   },
   {
    "duration": 21,
    "start_time": "2023-01-11T17:35:37.567Z"
   },
   {
    "duration": 58,
    "start_time": "2023-01-11T17:35:37.590Z"
   },
   {
    "duration": 15,
    "start_time": "2023-01-11T17:35:37.650Z"
   },
   {
    "duration": 6,
    "start_time": "2023-01-11T17:35:37.667Z"
   },
   {
    "duration": 39414,
    "start_time": "2023-01-11T17:35:37.675Z"
   },
   {
    "duration": 1120,
    "start_time": "2023-01-11T17:36:17.113Z"
   },
   {
    "duration": 27,
    "start_time": "2023-01-11T17:36:18.235Z"
   },
   {
    "duration": 9720,
    "start_time": "2023-01-11T17:36:18.264Z"
   },
   {
    "duration": 26,
    "start_time": "2023-01-11T17:36:27.986Z"
   },
   {
    "duration": 26512,
    "start_time": "2023-01-11T17:36:28.015Z"
   },
   {
    "duration": 1727,
    "start_time": "2023-01-11T17:36:54.533Z"
   },
   {
    "duration": 13,
    "start_time": "2023-01-11T17:36:56.262Z"
   },
   {
    "duration": 155,
    "start_time": "2023-01-11T17:36:56.277Z"
   },
   {
    "duration": 11,
    "start_time": "2023-01-11T17:37:26.388Z"
   },
   {
    "duration": 22,
    "start_time": "2023-01-11T17:37:39.901Z"
   },
   {
    "duration": 16,
    "start_time": "2023-01-11T17:37:47.616Z"
   },
   {
    "duration": 15,
    "start_time": "2023-01-11T17:38:00.543Z"
   },
   {
    "duration": 15,
    "start_time": "2023-01-11T17:38:11.332Z"
   },
   {
    "duration": 24,
    "start_time": "2023-01-11T17:38:43.924Z"
   },
   {
    "duration": 68,
    "start_time": "2023-01-11T17:38:54.526Z"
   },
   {
    "duration": 21,
    "start_time": "2023-01-11T17:39:45.866Z"
   },
   {
    "duration": 12,
    "start_time": "2023-01-11T17:43:13.475Z"
   },
   {
    "duration": 11,
    "start_time": "2023-01-11T17:44:01.157Z"
   },
   {
    "duration": 20,
    "start_time": "2023-01-11T17:44:13.798Z"
   },
   {
    "duration": 10,
    "start_time": "2023-01-11T17:44:22.879Z"
   },
   {
    "duration": 4,
    "start_time": "2023-01-11T17:44:38.290Z"
   },
   {
    "duration": 10,
    "start_time": "2023-01-11T17:44:43.348Z"
   },
   {
    "duration": 10,
    "start_time": "2023-01-11T17:45:06.866Z"
   },
   {
    "duration": 10,
    "start_time": "2023-01-11T17:51:15.676Z"
   },
   {
    "duration": 4,
    "start_time": "2023-01-11T17:51:27.778Z"
   },
   {
    "duration": 17,
    "start_time": "2023-01-11T17:51:31.611Z"
   },
   {
    "duration": 2195,
    "start_time": "2023-01-11T17:51:47.145Z"
   },
   {
    "duration": 76,
    "start_time": "2023-01-11T17:51:49.345Z"
   },
   {
    "duration": 801,
    "start_time": "2023-01-11T17:51:49.429Z"
   },
   {
    "duration": 679,
    "start_time": "2023-01-11T17:52:14.157Z"
   },
   {
    "duration": 480,
    "start_time": "2023-01-11T17:52:21.545Z"
   },
   {
    "duration": 5,
    "start_time": "2023-01-11T17:56:24.845Z"
   },
   {
    "duration": 198,
    "start_time": "2023-01-11T17:56:24.852Z"
   },
   {
    "duration": 11,
    "start_time": "2023-01-11T17:56:25.052Z"
   },
   {
    "duration": 385,
    "start_time": "2023-01-11T17:56:25.066Z"
   },
   {
    "duration": 379,
    "start_time": "2023-01-11T17:56:25.454Z"
   },
   {
    "duration": 51412,
    "start_time": "2023-01-11T17:56:25.835Z"
   },
   {
    "duration": 76,
    "start_time": "2023-01-11T17:57:17.249Z"
   },
   {
    "duration": 38,
    "start_time": "2023-01-11T17:57:17.327Z"
   },
   {
    "duration": 21,
    "start_time": "2023-01-11T17:57:17.411Z"
   },
   {
    "duration": 23,
    "start_time": "2023-01-11T17:57:17.434Z"
   },
   {
    "duration": 61,
    "start_time": "2023-01-11T17:57:17.459Z"
   },
   {
    "duration": 17,
    "start_time": "2023-01-11T17:57:17.522Z"
   },
   {
    "duration": 7,
    "start_time": "2023-01-11T17:57:17.545Z"
   },
   {
    "duration": 102,
    "start_time": "2023-01-11T17:57:17.555Z"
   },
   {
    "duration": 284,
    "start_time": "2023-01-11T17:57:17.659Z"
   },
   {
    "duration": 16,
    "start_time": "2023-01-11T17:57:17.945Z"
   },
   {
    "duration": 8,
    "start_time": "2023-01-11T17:57:18.018Z"
   },
   {
    "duration": 38,
    "start_time": "2023-01-11T17:57:18.027Z"
   },
   {
    "duration": 70,
    "start_time": "2023-01-11T17:57:18.066Z"
   },
   {
    "duration": 89,
    "start_time": "2023-01-11T17:57:18.138Z"
   },
   {
    "duration": 8,
    "start_time": "2023-01-11T17:57:18.230Z"
   },
   {
    "duration": 80,
    "start_time": "2023-01-11T17:57:18.241Z"
   },
   {
    "duration": 9,
    "start_time": "2023-01-11T17:57:18.323Z"
   },
   {
    "duration": 28,
    "start_time": "2023-01-11T17:57:18.334Z"
   },
   {
    "duration": 897,
    "start_time": "2023-01-11T17:57:18.364Z"
   },
   {
    "duration": 16,
    "start_time": "2023-01-11T17:57:19.319Z"
   },
   {
    "duration": 30,
    "start_time": "2023-01-11T17:57:19.337Z"
   },
   {
    "duration": 10,
    "start_time": "2023-01-11T17:57:19.413Z"
   },
   {
    "duration": 35,
    "start_time": "2023-01-11T17:57:19.425Z"
   },
   {
    "duration": 86,
    "start_time": "2023-01-11T17:57:19.462Z"
   },
   {
    "duration": 77,
    "start_time": "2023-01-11T17:57:19.551Z"
   },
   {
    "duration": 13,
    "start_time": "2023-01-11T17:57:19.630Z"
   },
   {
    "duration": 100677,
    "start_time": "2023-01-11T17:57:19.645Z"
   },
   {
    "duration": 2124,
    "start_time": "2023-01-11T17:59:00.328Z"
   },
   {
    "duration": 93,
    "start_time": "2023-01-11T17:59:02.454Z"
   },
   {
    "duration": 22310,
    "start_time": "2023-01-11T17:59:02.549Z"
   },
   {
    "duration": 28,
    "start_time": "2023-01-11T17:59:24.915Z"
   },
   {
    "duration": 40679,
    "start_time": "2023-01-11T17:59:24.945Z"
   },
   {
    "duration": 2447,
    "start_time": "2023-01-11T18:00:05.626Z"
   },
   {
    "duration": 48,
    "start_time": "2023-01-11T18:00:08.075Z"
   },
   {
    "duration": 623,
    "start_time": "2023-01-11T18:00:08.127Z"
   },
   {
    "duration": 2215,
    "start_time": "2023-01-11T18:00:32.734Z"
   },
   {
    "duration": 45,
    "start_time": "2023-01-12T15:59:53.239Z"
   },
   {
    "duration": 6,
    "start_time": "2023-01-12T15:59:57.977Z"
   },
   {
    "duration": 1992,
    "start_time": "2023-01-12T16:00:01.481Z"
   },
   {
    "duration": 467,
    "start_time": "2023-01-12T16:00:03.475Z"
   },
   {
    "duration": 16,
    "start_time": "2023-01-12T16:00:03.944Z"
   },
   {
    "duration": 161,
    "start_time": "2023-01-12T16:00:03.962Z"
   },
   {
    "duration": 150,
    "start_time": "2023-01-12T16:00:04.125Z"
   },
   {
    "duration": 21167,
    "start_time": "2023-01-12T16:00:04.277Z"
   },
   {
    "duration": 14,
    "start_time": "2023-01-12T16:00:25.445Z"
   },
   {
    "duration": 19,
    "start_time": "2023-01-12T16:00:25.461Z"
   },
   {
    "duration": 34,
    "start_time": "2023-01-12T16:00:25.482Z"
   },
   {
    "duration": 14,
    "start_time": "2023-01-12T16:00:25.520Z"
   },
   {
    "duration": 20,
    "start_time": "2023-01-12T16:00:25.535Z"
   },
   {
    "duration": 16,
    "start_time": "2023-01-12T16:00:25.556Z"
   },
   {
    "duration": 5,
    "start_time": "2023-01-12T16:00:25.574Z"
   },
   {
    "duration": 20,
    "start_time": "2023-01-12T16:00:25.583Z"
   },
   {
    "duration": 123,
    "start_time": "2023-01-12T16:00:25.604Z"
   },
   {
    "duration": 13,
    "start_time": "2023-01-12T16:00:25.730Z"
   },
   {
    "duration": 18,
    "start_time": "2023-01-12T16:00:25.745Z"
   },
   {
    "duration": 11,
    "start_time": "2023-01-12T16:00:25.764Z"
   },
   {
    "duration": 13,
    "start_time": "2023-01-12T16:00:25.777Z"
   },
   {
    "duration": 41,
    "start_time": "2023-01-12T16:00:25.791Z"
   },
   {
    "duration": 11,
    "start_time": "2023-01-12T16:00:25.833Z"
   },
   {
    "duration": 20,
    "start_time": "2023-01-12T16:00:25.846Z"
   },
   {
    "duration": 14,
    "start_time": "2023-01-12T16:00:25.867Z"
   },
   {
    "duration": 10,
    "start_time": "2023-01-12T16:00:25.882Z"
   },
   {
    "duration": 394,
    "start_time": "2023-01-12T16:00:25.893Z"
   },
   {
    "duration": 9,
    "start_time": "2023-01-12T16:00:26.288Z"
   },
   {
    "duration": 33,
    "start_time": "2023-01-12T16:00:26.299Z"
   },
   {
    "duration": 10,
    "start_time": "2023-01-12T16:00:26.333Z"
   },
   {
    "duration": 15,
    "start_time": "2023-01-12T16:00:26.345Z"
   },
   {
    "duration": 39,
    "start_time": "2023-01-12T16:00:26.362Z"
   },
   {
    "duration": 26,
    "start_time": "2023-01-12T16:00:26.403Z"
   },
   {
    "duration": 12,
    "start_time": "2023-01-12T16:00:26.431Z"
   },
   {
    "duration": 8,
    "start_time": "2023-01-12T16:00:26.445Z"
   },
   {
    "duration": 38551,
    "start_time": "2023-01-12T16:00:26.455Z"
   },
   {
    "duration": 1240,
    "start_time": "2023-01-12T16:01:05.007Z"
   },
   {
    "duration": 25,
    "start_time": "2023-01-12T16:01:06.248Z"
   },
   {
    "duration": 96,
    "start_time": "2023-01-12T16:01:06.275Z"
   },
   {
    "duration": 0,
    "start_time": "2023-01-12T16:01:06.374Z"
   },
   {
    "duration": 0,
    "start_time": "2023-01-12T16:01:06.375Z"
   },
   {
    "duration": 0,
    "start_time": "2023-01-12T16:01:06.377Z"
   },
   {
    "duration": 0,
    "start_time": "2023-01-12T16:01:06.378Z"
   },
   {
    "duration": 0,
    "start_time": "2023-01-12T16:01:06.379Z"
   },
   {
    "duration": 0,
    "start_time": "2023-01-12T16:01:06.380Z"
   },
   {
    "duration": 9613,
    "start_time": "2023-01-12T16:01:15.988Z"
   },
   {
    "duration": 28,
    "start_time": "2023-01-12T16:01:25.603Z"
   },
   {
    "duration": 30307,
    "start_time": "2023-01-12T16:01:25.633Z"
   },
   {
    "duration": 1406,
    "start_time": "2023-01-12T16:01:55.945Z"
   },
   {
    "duration": 12,
    "start_time": "2023-01-12T16:01:57.352Z"
   },
   {
    "duration": 338,
    "start_time": "2023-01-12T16:01:57.365Z"
   },
   {
    "duration": 10,
    "start_time": "2023-01-12T16:05:06.304Z"
   },
   {
    "duration": 12,
    "start_time": "2023-01-12T16:05:23.535Z"
   },
   {
    "duration": 10,
    "start_time": "2023-01-12T16:05:33.763Z"
   },
   {
    "duration": 51,
    "start_time": "2023-01-12T16:05:55.258Z"
   },
   {
    "duration": 63,
    "start_time": "2023-01-12T16:05:59.291Z"
   },
   {
    "duration": 51,
    "start_time": "2023-01-12T16:06:31.743Z"
   },
   {
    "duration": 55,
    "start_time": "2023-01-12T16:06:39.942Z"
   },
   {
    "duration": 9,
    "start_time": "2023-01-12T16:07:07.566Z"
   },
   {
    "duration": 10,
    "start_time": "2023-01-12T16:07:14.481Z"
   },
   {
    "duration": 10,
    "start_time": "2023-01-12T16:07:34.703Z"
   },
   {
    "duration": 10,
    "start_time": "2023-01-12T16:07:38.032Z"
   },
   {
    "duration": 10,
    "start_time": "2023-01-12T16:07:43.549Z"
   },
   {
    "duration": 24,
    "start_time": "2023-01-12T16:07:52.140Z"
   },
   {
    "duration": 5,
    "start_time": "2023-01-12T16:07:55.624Z"
   },
   {
    "duration": 11,
    "start_time": "2023-01-12T16:08:38.134Z"
   },
   {
    "duration": 4,
    "start_time": "2023-01-12T16:08:41.360Z"
   },
   {
    "duration": 10,
    "start_time": "2023-01-12T16:11:07.238Z"
   },
   {
    "duration": 79,
    "start_time": "2023-01-12T16:13:05.687Z"
   },
   {
    "duration": 80,
    "start_time": "2023-01-12T16:13:16.396Z"
   },
   {
    "duration": 1346,
    "start_time": "2023-01-12T16:14:17.276Z"
   },
   {
    "duration": 202,
    "start_time": "2023-01-12T16:14:18.624Z"
   },
   {
    "duration": 13,
    "start_time": "2023-01-12T16:14:18.829Z"
   },
   {
    "duration": 135,
    "start_time": "2023-01-12T16:14:18.844Z"
   },
   {
    "duration": 158,
    "start_time": "2023-01-12T16:14:18.982Z"
   },
   {
    "duration": 20695,
    "start_time": "2023-01-12T16:14:19.142Z"
   },
   {
    "duration": 14,
    "start_time": "2023-01-12T16:14:39.839Z"
   },
   {
    "duration": 22,
    "start_time": "2023-01-12T16:14:39.855Z"
   },
   {
    "duration": 13,
    "start_time": "2023-01-12T16:14:39.878Z"
   },
   {
    "duration": 27,
    "start_time": "2023-01-12T16:14:39.893Z"
   },
   {
    "duration": 8,
    "start_time": "2023-01-12T16:14:39.924Z"
   },
   {
    "duration": 13,
    "start_time": "2023-01-12T16:14:39.936Z"
   },
   {
    "duration": 6,
    "start_time": "2023-01-12T16:14:39.950Z"
   },
   {
    "duration": 37,
    "start_time": "2023-01-12T16:14:39.957Z"
   },
   {
    "duration": 102,
    "start_time": "2023-01-12T16:14:39.995Z"
   },
   {
    "duration": 11,
    "start_time": "2023-01-12T16:14:40.099Z"
   },
   {
    "duration": 4,
    "start_time": "2023-01-12T16:14:40.117Z"
   },
   {
    "duration": 15,
    "start_time": "2023-01-12T16:14:40.122Z"
   },
   {
    "duration": 20,
    "start_time": "2023-01-12T16:14:40.138Z"
   },
   {
    "duration": 41,
    "start_time": "2023-01-12T16:14:40.160Z"
   },
   {
    "duration": 28,
    "start_time": "2023-01-12T16:14:40.203Z"
   },
   {
    "duration": 13,
    "start_time": "2023-01-12T16:14:40.233Z"
   },
   {
    "duration": 13,
    "start_time": "2023-01-12T16:14:40.247Z"
   },
   {
    "duration": 11,
    "start_time": "2023-01-12T16:14:40.262Z"
   },
   {
    "duration": 393,
    "start_time": "2023-01-12T16:14:40.274Z"
   },
   {
    "duration": 8,
    "start_time": "2023-01-12T16:14:40.669Z"
   },
   {
    "duration": 17,
    "start_time": "2023-01-12T16:14:40.679Z"
   },
   {
    "duration": 5,
    "start_time": "2023-01-12T16:14:40.697Z"
   },
   {
    "duration": 16,
    "start_time": "2023-01-12T16:14:40.717Z"
   },
   {
    "duration": 41,
    "start_time": "2023-01-12T16:14:40.735Z"
   },
   {
    "duration": 17,
    "start_time": "2023-01-12T16:14:40.778Z"
   },
   {
    "duration": 31,
    "start_time": "2023-01-12T16:14:40.796Z"
   },
   {
    "duration": 11,
    "start_time": "2023-01-12T16:14:40.831Z"
   },
   {
    "duration": 794,
    "start_time": "2023-01-12T16:14:40.843Z"
   },
   {
    "duration": 0,
    "start_time": "2023-01-12T16:14:41.640Z"
   },
   {
    "duration": 0,
    "start_time": "2023-01-12T16:14:41.641Z"
   },
   {
    "duration": 0,
    "start_time": "2023-01-12T16:14:41.643Z"
   },
   {
    "duration": 0,
    "start_time": "2023-01-12T16:14:41.645Z"
   },
   {
    "duration": 0,
    "start_time": "2023-01-12T16:14:41.646Z"
   },
   {
    "duration": 0,
    "start_time": "2023-01-12T16:14:41.648Z"
   },
   {
    "duration": 0,
    "start_time": "2023-01-12T16:14:41.650Z"
   },
   {
    "duration": 0,
    "start_time": "2023-01-12T16:14:41.651Z"
   },
   {
    "duration": 0,
    "start_time": "2023-01-12T16:14:41.653Z"
   },
   {
    "duration": 999,
    "start_time": "2023-01-12T16:15:03.216Z"
   },
   {
    "duration": 632,
    "start_time": "2023-01-12T16:15:07.662Z"
   },
   {
    "duration": 808,
    "start_time": "2023-01-12T16:15:30.439Z"
   },
   {
    "duration": 34539,
    "start_time": "2023-01-12T16:15:53.374Z"
   },
   {
    "duration": 11,
    "start_time": "2023-01-12T16:23:40.293Z"
   },
   {
    "duration": 12,
    "start_time": "2023-01-12T16:26:06.048Z"
   },
   {
    "duration": 16,
    "start_time": "2023-01-12T16:26:12.004Z"
   },
   {
    "duration": 29,
    "start_time": "2023-01-12T16:26:21.557Z"
   },
   {
    "duration": 9949,
    "start_time": "2023-01-12T16:26:39.741Z"
   },
   {
    "duration": 26,
    "start_time": "2023-01-12T16:27:06.601Z"
   },
   {
    "duration": 29500,
    "start_time": "2023-01-12T16:27:09.444Z"
   },
   {
    "duration": 1135,
    "start_time": "2023-01-12T16:30:54.256Z"
   },
   {
    "duration": 3,
    "start_time": "2023-01-12T16:37:00.115Z"
   },
   {
    "duration": 19,
    "start_time": "2023-01-12T16:39:48.687Z"
   },
   {
    "duration": 11,
    "start_time": "2023-01-12T16:40:30.992Z"
   },
   {
    "duration": 4,
    "start_time": "2023-01-12T16:41:06.186Z"
   },
   {
    "duration": 777,
    "start_time": "2023-01-12T16:41:13.703Z"
   },
   {
    "duration": 703,
    "start_time": "2023-01-12T16:41:52.967Z"
   },
   {
    "duration": 809,
    "start_time": "2023-01-12T16:42:22.995Z"
   },
   {
    "duration": 17,
    "start_time": "2023-01-12T16:47:52.383Z"
   },
   {
    "duration": 19,
    "start_time": "2023-01-12T16:49:24.112Z"
   },
   {
    "duration": 5,
    "start_time": "2023-01-12T16:50:50.246Z"
   },
   {
    "duration": 18,
    "start_time": "2023-01-12T16:51:15.390Z"
   },
   {
    "duration": 18,
    "start_time": "2023-01-12T16:51:47.595Z"
   },
   {
    "duration": 52,
    "start_time": "2023-01-12T16:52:23.120Z"
   },
   {
    "duration": 810,
    "start_time": "2023-01-12T16:52:26.408Z"
   },
   {
    "duration": 18,
    "start_time": "2023-01-12T16:52:43.083Z"
   },
   {
    "duration": 5,
    "start_time": "2023-01-12T16:52:43.634Z"
   },
   {
    "duration": 5,
    "start_time": "2023-01-12T16:52:51.318Z"
   },
   {
    "duration": 8,
    "start_time": "2023-01-12T16:54:54.211Z"
   },
   {
    "duration": 13,
    "start_time": "2023-01-12T16:55:09.722Z"
   },
   {
    "duration": 7,
    "start_time": "2023-01-12T16:55:24.516Z"
   },
   {
    "duration": 14,
    "start_time": "2023-01-12T16:56:39.395Z"
   },
   {
    "duration": 17,
    "start_time": "2023-01-12T16:56:44.359Z"
   },
   {
    "duration": 24,
    "start_time": "2023-01-12T16:57:25.075Z"
   },
   {
    "duration": 12,
    "start_time": "2023-01-12T16:57:29.673Z"
   },
   {
    "duration": 3,
    "start_time": "2023-01-12T17:00:36.136Z"
   },
   {
    "duration": 10,
    "start_time": "2023-01-12T17:04:22.618Z"
   },
   {
    "duration": 6,
    "start_time": "2023-01-12T17:05:43.361Z"
   },
   {
    "duration": 12,
    "start_time": "2023-01-12T17:06:30.802Z"
   },
   {
    "duration": 5,
    "start_time": "2023-01-12T17:07:06.275Z"
   },
   {
    "duration": 6,
    "start_time": "2023-01-12T17:07:12.217Z"
   },
   {
    "duration": 4,
    "start_time": "2023-01-12T17:08:19.796Z"
   },
   {
    "duration": 14,
    "start_time": "2023-01-12T17:08:21.798Z"
   },
   {
    "duration": 23,
    "start_time": "2023-01-12T17:10:09.073Z"
   },
   {
    "duration": 6,
    "start_time": "2023-01-12T17:11:26.740Z"
   },
   {
    "duration": 32,
    "start_time": "2023-01-12T17:11:32.752Z"
   },
   {
    "duration": 6,
    "start_time": "2023-01-12T17:13:28.129Z"
   },
   {
    "duration": 22,
    "start_time": "2023-01-12T17:13:36.836Z"
   },
   {
    "duration": 49,
    "start_time": "2023-01-12T17:14:01.259Z"
   },
   {
    "duration": 33,
    "start_time": "2023-01-12T17:15:10.602Z"
   },
   {
    "duration": 3,
    "start_time": "2023-01-12T17:15:29.862Z"
   },
   {
    "duration": 5,
    "start_time": "2023-01-12T17:15:34.881Z"
   },
   {
    "duration": 22,
    "start_time": "2023-01-12T17:16:12.795Z"
   },
   {
    "duration": 1479,
    "start_time": "2023-01-12T17:16:18.006Z"
   },
   {
    "duration": 107,
    "start_time": "2023-01-12T17:16:19.487Z"
   },
   {
    "duration": 17,
    "start_time": "2023-01-12T17:16:19.596Z"
   },
   {
    "duration": 151,
    "start_time": "2023-01-12T17:16:19.615Z"
   },
   {
    "duration": 139,
    "start_time": "2023-01-12T17:16:19.768Z"
   },
   {
    "duration": 19645,
    "start_time": "2023-01-12T17:16:19.915Z"
   },
   {
    "duration": 12,
    "start_time": "2023-01-12T17:16:39.562Z"
   },
   {
    "duration": 18,
    "start_time": "2023-01-12T17:16:39.575Z"
   },
   {
    "duration": 29,
    "start_time": "2023-01-12T17:16:39.595Z"
   },
   {
    "duration": 11,
    "start_time": "2023-01-12T17:16:39.626Z"
   },
   {
    "duration": 5,
    "start_time": "2023-01-12T17:16:39.639Z"
   },
   {
    "duration": 15,
    "start_time": "2023-01-12T17:16:39.646Z"
   },
   {
    "duration": 5,
    "start_time": "2023-01-12T17:16:39.663Z"
   },
   {
    "duration": 8,
    "start_time": "2023-01-12T17:16:39.672Z"
   },
   {
    "duration": 133,
    "start_time": "2023-01-12T17:16:39.682Z"
   },
   {
    "duration": 11,
    "start_time": "2023-01-12T17:16:39.816Z"
   },
   {
    "duration": 15,
    "start_time": "2023-01-12T17:16:39.828Z"
   },
   {
    "duration": 13,
    "start_time": "2023-01-12T17:16:39.845Z"
   },
   {
    "duration": 13,
    "start_time": "2023-01-12T17:16:39.860Z"
   },
   {
    "duration": 41,
    "start_time": "2023-01-12T17:16:39.875Z"
   },
   {
    "duration": 7,
    "start_time": "2023-01-12T17:16:39.918Z"
   },
   {
    "duration": 11,
    "start_time": "2023-01-12T17:16:39.927Z"
   },
   {
    "duration": 8,
    "start_time": "2023-01-12T17:16:39.940Z"
   },
   {
    "duration": 10,
    "start_time": "2023-01-12T17:16:39.949Z"
   },
   {
    "duration": 371,
    "start_time": "2023-01-12T17:16:39.961Z"
   },
   {
    "duration": 11,
    "start_time": "2023-01-12T17:16:40.334Z"
   },
   {
    "duration": 18,
    "start_time": "2023-01-12T17:16:40.348Z"
   },
   {
    "duration": 7,
    "start_time": "2023-01-12T17:16:40.368Z"
   },
   {
    "duration": 15,
    "start_time": "2023-01-12T17:16:40.376Z"
   },
   {
    "duration": 47,
    "start_time": "2023-01-12T17:16:40.393Z"
   },
   {
    "duration": 15,
    "start_time": "2023-01-12T17:16:40.441Z"
   },
   {
    "duration": 9,
    "start_time": "2023-01-12T17:16:40.457Z"
   },
   {
    "duration": 6,
    "start_time": "2023-01-12T17:16:40.467Z"
   },
   {
    "duration": 31844,
    "start_time": "2023-01-12T17:16:40.474Z"
   },
   {
    "duration": 40,
    "start_time": "2023-01-12T17:17:12.320Z"
   },
   {
    "duration": 9002,
    "start_time": "2023-01-12T17:17:12.362Z"
   },
   {
    "duration": 18,
    "start_time": "2023-01-12T17:17:21.366Z"
   },
   {
    "duration": 5,
    "start_time": "2023-01-12T17:17:21.385Z"
   },
   {
    "duration": 14,
    "start_time": "2023-01-12T17:17:21.391Z"
   },
   {
    "duration": 8,
    "start_time": "2023-01-12T17:17:21.415Z"
   },
   {
    "duration": 120,
    "start_time": "2023-01-12T17:17:21.427Z"
   },
   {
    "duration": 0,
    "start_time": "2023-01-12T17:17:21.549Z"
   },
   {
    "duration": 0,
    "start_time": "2023-01-12T17:17:21.550Z"
   },
   {
    "duration": 0,
    "start_time": "2023-01-12T17:17:21.552Z"
   },
   {
    "duration": 0,
    "start_time": "2023-01-12T17:17:21.553Z"
   },
   {
    "duration": 0,
    "start_time": "2023-01-12T17:17:21.554Z"
   },
   {
    "duration": 0,
    "start_time": "2023-01-12T17:17:21.555Z"
   },
   {
    "duration": 10,
    "start_time": "2023-01-12T17:17:41.410Z"
   },
   {
    "duration": 10,
    "start_time": "2023-01-12T17:17:54.982Z"
   },
   {
    "duration": 7,
    "start_time": "2023-01-12T17:18:59.804Z"
   },
   {
    "duration": 11,
    "start_time": "2023-01-12T17:19:06.386Z"
   },
   {
    "duration": 5,
    "start_time": "2023-01-12T17:19:15.407Z"
   },
   {
    "duration": 13,
    "start_time": "2023-01-12T17:19:24.309Z"
   },
   {
    "duration": 14,
    "start_time": "2023-01-12T17:19:41.165Z"
   },
   {
    "duration": 26,
    "start_time": "2023-01-12T17:20:04.841Z"
   },
   {
    "duration": 98,
    "start_time": "2023-01-12T17:20:18.563Z"
   },
   {
    "duration": 38,
    "start_time": "2023-01-12T17:21:16.543Z"
   },
   {
    "duration": 92,
    "start_time": "2023-01-12T17:22:03.334Z"
   },
   {
    "duration": 5,
    "start_time": "2023-01-12T17:23:05.163Z"
   },
   {
    "duration": 44,
    "start_time": "2023-01-12T17:23:08.668Z"
   },
   {
    "duration": 23172,
    "start_time": "2023-01-12T17:23:36.852Z"
   },
   {
    "duration": 950,
    "start_time": "2023-01-12T17:24:04.980Z"
   },
   {
    "duration": 13,
    "start_time": "2023-01-12T17:24:14.367Z"
   },
   {
    "duration": 301,
    "start_time": "2023-01-12T17:24:14.744Z"
   },
   {
    "duration": 23535,
    "start_time": "2023-01-12T17:32:31.993Z"
   },
   {
    "duration": 4,
    "start_time": "2023-01-12T17:33:15.579Z"
   },
   {
    "duration": 5,
    "start_time": "2023-01-12T17:33:23.713Z"
   },
   {
    "duration": 2484,
    "start_time": "2023-01-13T13:01:07.033Z"
   },
   {
    "duration": 107,
    "start_time": "2023-01-13T13:01:10.753Z"
   },
   {
    "duration": 16,
    "start_time": "2023-01-13T13:01:12.296Z"
   },
   {
    "duration": 151,
    "start_time": "2023-01-13T13:01:12.439Z"
   },
   {
    "duration": 142,
    "start_time": "2023-01-13T13:01:12.890Z"
   },
   {
    "duration": 21091,
    "start_time": "2023-01-13T13:01:13.039Z"
   },
   {
    "duration": 13,
    "start_time": "2023-01-13T13:01:34.132Z"
   },
   {
    "duration": 37,
    "start_time": "2023-01-13T13:01:34.147Z"
   },
   {
    "duration": 13,
    "start_time": "2023-01-13T13:01:34.187Z"
   },
   {
    "duration": 12,
    "start_time": "2023-01-13T13:01:34.203Z"
   },
   {
    "duration": 6,
    "start_time": "2023-01-13T13:01:34.218Z"
   },
   {
    "duration": 13,
    "start_time": "2023-01-13T13:01:34.226Z"
   },
   {
    "duration": 38,
    "start_time": "2023-01-13T13:01:34.241Z"
   },
   {
    "duration": 12,
    "start_time": "2023-01-13T13:01:34.281Z"
   },
   {
    "duration": 113,
    "start_time": "2023-01-13T13:01:34.295Z"
   },
   {
    "duration": 13,
    "start_time": "2023-01-13T13:01:34.409Z"
   },
   {
    "duration": 8,
    "start_time": "2023-01-13T13:01:34.424Z"
   },
   {
    "duration": 17,
    "start_time": "2023-01-13T13:01:34.433Z"
   },
   {
    "duration": 29,
    "start_time": "2023-01-13T13:01:34.452Z"
   },
   {
    "duration": 31,
    "start_time": "2023-01-13T13:01:41.550Z"
   },
   {
    "duration": 7,
    "start_time": "2023-01-13T13:01:42.261Z"
   },
   {
    "duration": 12,
    "start_time": "2023-01-13T13:01:42.593Z"
   },
   {
    "duration": 9,
    "start_time": "2023-01-13T13:01:42.812Z"
   },
   {
    "duration": 4,
    "start_time": "2023-01-13T13:01:45.582Z"
   },
   {
    "duration": 400,
    "start_time": "2023-01-13T13:01:46.094Z"
   },
   {
    "duration": 10,
    "start_time": "2023-01-13T13:01:46.496Z"
   },
   {
    "duration": 33,
    "start_time": "2023-01-13T13:01:46.508Z"
   },
   {
    "duration": 5,
    "start_time": "2023-01-13T13:01:46.618Z"
   },
   {
    "duration": 21,
    "start_time": "2023-01-13T13:01:47.691Z"
   },
   {
    "duration": 43,
    "start_time": "2023-01-13T13:01:48.021Z"
   },
   {
    "duration": 19,
    "start_time": "2023-01-13T13:01:48.206Z"
   },
   {
    "duration": 11,
    "start_time": "2023-01-13T13:01:48.371Z"
   },
   {
    "duration": 7,
    "start_time": "2023-01-13T13:01:49.469Z"
   },
   {
    "duration": 34832,
    "start_time": "2023-01-13T13:01:50.863Z"
   },
   {
    "duration": 1566,
    "start_time": "2023-01-13T14:34:25.726Z"
   },
   {
    "duration": 574,
    "start_time": "2023-01-13T14:34:27.294Z"
   },
   {
    "duration": 13,
    "start_time": "2023-01-13T14:34:27.870Z"
   },
   {
    "duration": 150,
    "start_time": "2023-01-13T14:34:27.885Z"
   },
   {
    "duration": 158,
    "start_time": "2023-01-13T14:34:28.037Z"
   },
   {
    "duration": 19624,
    "start_time": "2023-01-13T14:34:28.197Z"
   },
   {
    "duration": 11,
    "start_time": "2023-01-13T14:34:47.823Z"
   },
   {
    "duration": 39,
    "start_time": "2023-01-13T14:34:47.836Z"
   },
   {
    "duration": 22,
    "start_time": "2023-01-13T14:34:47.876Z"
   },
   {
    "duration": 36,
    "start_time": "2023-01-13T14:34:47.899Z"
   },
   {
    "duration": 39,
    "start_time": "2023-01-13T14:34:47.936Z"
   },
   {
    "duration": 35,
    "start_time": "2023-01-13T14:34:47.977Z"
   },
   {
    "duration": 11,
    "start_time": "2023-01-13T14:34:48.014Z"
   },
   {
    "duration": 21,
    "start_time": "2023-01-13T14:34:48.028Z"
   },
   {
    "duration": 109,
    "start_time": "2023-01-13T14:34:48.050Z"
   },
   {
    "duration": 14,
    "start_time": "2023-01-13T14:34:48.161Z"
   },
   {
    "duration": 29,
    "start_time": "2023-01-13T14:34:48.177Z"
   },
   {
    "duration": 38,
    "start_time": "2023-01-13T14:34:48.208Z"
   },
   {
    "duration": 24,
    "start_time": "2023-01-13T14:34:48.248Z"
   },
   {
    "duration": 44,
    "start_time": "2023-01-13T14:34:48.274Z"
   },
   {
    "duration": 6,
    "start_time": "2023-01-13T14:34:48.320Z"
   },
   {
    "duration": 37,
    "start_time": "2023-01-13T14:34:48.328Z"
   },
   {
    "duration": 12,
    "start_time": "2023-01-13T14:34:48.367Z"
   },
   {
    "duration": 20,
    "start_time": "2023-01-13T14:34:48.381Z"
   },
   {
    "duration": 384,
    "start_time": "2023-01-13T14:34:48.403Z"
   },
   {
    "duration": 17,
    "start_time": "2023-01-13T14:34:48.789Z"
   },
   {
    "duration": 24,
    "start_time": "2023-01-13T14:34:48.808Z"
   },
   {
    "duration": 23,
    "start_time": "2023-01-13T14:34:48.834Z"
   },
   {
    "duration": 41,
    "start_time": "2023-01-13T14:34:48.859Z"
   },
   {
    "duration": 46,
    "start_time": "2023-01-13T14:34:48.902Z"
   },
   {
    "duration": 19,
    "start_time": "2023-01-13T14:34:48.950Z"
   },
   {
    "duration": 15,
    "start_time": "2023-01-13T14:34:48.971Z"
   },
   {
    "duration": 16,
    "start_time": "2023-01-13T14:34:48.988Z"
   },
   {
    "duration": 35006,
    "start_time": "2023-01-13T14:34:49.006Z"
   },
   {
    "duration": 91,
    "start_time": "2023-01-13T14:35:24.014Z"
   },
   {
    "duration": 9027,
    "start_time": "2023-01-13T14:35:24.107Z"
   },
   {
    "duration": 19,
    "start_time": "2023-01-13T14:35:33.135Z"
   },
   {
    "duration": 89,
    "start_time": "2023-01-13T14:35:33.165Z"
   },
   {
    "duration": 50,
    "start_time": "2023-01-13T14:35:33.256Z"
   },
   {
    "duration": 51,
    "start_time": "2023-01-13T14:35:33.308Z"
   },
   {
    "duration": 115,
    "start_time": "2023-01-13T14:35:33.363Z"
   },
   {
    "duration": 24133,
    "start_time": "2023-01-13T14:35:33.479Z"
   },
   {
    "duration": 1337,
    "start_time": "2023-01-13T14:35:57.615Z"
   },
   {
    "duration": 12,
    "start_time": "2023-01-13T14:35:58.953Z"
   },
   {
    "duration": 332,
    "start_time": "2023-01-13T14:35:58.966Z"
   },
   {
    "duration": 63416,
    "start_time": "2023-01-13T14:36:01.957Z"
   },
   {
    "duration": 30465,
    "start_time": "2023-01-13T14:37:12.546Z"
   },
   {
    "duration": 29826,
    "start_time": "2023-01-13T14:37:49.985Z"
   },
   {
    "duration": 23922,
    "start_time": "2023-01-13T14:38:22.288Z"
   },
   {
    "duration": 42999,
    "start_time": "2023-01-13T14:38:52.106Z"
   },
   {
    "duration": 1265,
    "start_time": "2023-01-13T14:39:35.107Z"
   },
   {
    "duration": 1118,
    "start_time": "2023-01-13T14:39:44.662Z"
   },
   {
    "duration": 1122,
    "start_time": "2023-01-13T14:39:50.859Z"
   },
   {
    "duration": 53,
    "start_time": "2023-01-14T10:47:32.722Z"
   },
   {
    "duration": 1654,
    "start_time": "2023-01-14T10:47:36.127Z"
   },
   {
    "duration": 430,
    "start_time": "2023-01-14T10:47:37.783Z"
   },
   {
    "duration": 19,
    "start_time": "2023-01-14T10:47:38.214Z"
   },
   {
    "duration": 155,
    "start_time": "2023-01-14T10:47:38.237Z"
   },
   {
    "duration": 180,
    "start_time": "2023-01-14T10:47:38.394Z"
   },
   {
    "duration": 21310,
    "start_time": "2023-01-14T10:47:38.576Z"
   },
   {
    "duration": 13,
    "start_time": "2023-01-14T10:47:59.888Z"
   },
   {
    "duration": 38,
    "start_time": "2023-01-14T10:47:59.903Z"
   },
   {
    "duration": 23,
    "start_time": "2023-01-14T10:47:59.943Z"
   },
   {
    "duration": 29,
    "start_time": "2023-01-14T10:47:59.968Z"
   },
   {
    "duration": 8,
    "start_time": "2023-01-14T10:47:59.999Z"
   },
   {
    "duration": 37,
    "start_time": "2023-01-14T10:48:00.009Z"
   },
   {
    "duration": 16,
    "start_time": "2023-01-14T10:48:00.048Z"
   },
   {
    "duration": 22,
    "start_time": "2023-01-14T10:48:00.067Z"
   },
   {
    "duration": 111,
    "start_time": "2023-01-14T10:48:00.091Z"
   },
   {
    "duration": 14,
    "start_time": "2023-01-14T10:48:00.203Z"
   },
   {
    "duration": 28,
    "start_time": "2023-01-14T10:48:00.226Z"
   },
   {
    "duration": 32,
    "start_time": "2023-01-14T10:48:00.256Z"
   },
   {
    "duration": 17,
    "start_time": "2023-01-14T10:48:00.290Z"
   },
   {
    "duration": 53,
    "start_time": "2023-01-14T10:48:00.309Z"
   },
   {
    "duration": 8,
    "start_time": "2023-01-14T10:48:00.364Z"
   },
   {
    "duration": 26,
    "start_time": "2023-01-14T10:48:00.373Z"
   },
   {
    "duration": 43,
    "start_time": "2023-01-14T10:48:00.401Z"
   },
   {
    "duration": 37,
    "start_time": "2023-01-14T10:48:00.446Z"
   },
   {
    "duration": 407,
    "start_time": "2023-01-14T10:48:00.485Z"
   },
   {
    "duration": 9,
    "start_time": "2023-01-14T10:48:00.893Z"
   },
   {
    "duration": 45,
    "start_time": "2023-01-14T10:48:00.903Z"
   },
   {
    "duration": 9,
    "start_time": "2023-01-14T10:48:00.949Z"
   },
   {
    "duration": 48,
    "start_time": "2023-01-14T10:48:00.960Z"
   },
   {
    "duration": 69,
    "start_time": "2023-01-14T10:48:01.011Z"
   },
   {
    "duration": 17,
    "start_time": "2023-01-14T10:48:01.082Z"
   },
   {
    "duration": 32,
    "start_time": "2023-01-14T10:48:01.101Z"
   },
   {
    "duration": 22,
    "start_time": "2023-01-14T10:48:01.135Z"
   },
   {
    "duration": 40186,
    "start_time": "2023-01-14T10:48:01.159Z"
   },
   {
    "duration": 31,
    "start_time": "2023-01-14T10:48:41.347Z"
   },
   {
    "duration": 9659,
    "start_time": "2023-01-14T10:48:41.380Z"
   },
   {
    "duration": 27,
    "start_time": "2023-01-14T10:48:51.042Z"
   },
   {
    "duration": 5,
    "start_time": "2023-01-14T10:48:51.071Z"
   },
   {
    "duration": 16,
    "start_time": "2023-01-14T10:48:51.078Z"
   },
   {
    "duration": 7,
    "start_time": "2023-01-14T10:48:51.095Z"
   },
   {
    "duration": 53,
    "start_time": "2023-01-14T10:48:51.124Z"
   },
   {
    "duration": 45758,
    "start_time": "2023-01-14T10:48:51.178Z"
   },
   {
    "duration": 1371,
    "start_time": "2023-01-14T10:49:36.937Z"
   },
   {
    "duration": 20,
    "start_time": "2023-01-14T10:49:38.309Z"
   },
   {
    "duration": 319,
    "start_time": "2023-01-14T10:49:38.335Z"
   },
   {
    "duration": 5,
    "start_time": "2023-01-14T10:49:38.655Z"
   },
   {
    "duration": 110,
    "start_time": "2023-01-14T10:50:00.558Z"
   },
   {
    "duration": 11,
    "start_time": "2023-01-14T10:50:30.540Z"
   },
   {
    "duration": 10,
    "start_time": "2023-01-14T10:51:33.010Z"
   },
   {
    "duration": 13,
    "start_time": "2023-01-14T10:51:47.422Z"
   },
   {
    "duration": 9,
    "start_time": "2023-01-14T10:51:53.749Z"
   },
   {
    "duration": 27,
    "start_time": "2023-01-14T10:51:58.318Z"
   },
   {
    "duration": 15,
    "start_time": "2023-01-14T10:52:02.922Z"
   },
   {
    "duration": 27,
    "start_time": "2023-01-14T10:52:08.159Z"
   },
   {
    "duration": 28,
    "start_time": "2023-01-14T10:52:17.014Z"
   },
   {
    "duration": 16,
    "start_time": "2023-01-14T10:53:55.946Z"
   },
   {
    "duration": 9,
    "start_time": "2023-01-14T10:54:04.739Z"
   },
   {
    "duration": 10,
    "start_time": "2023-01-14T10:54:10.344Z"
   },
   {
    "duration": 10,
    "start_time": "2023-01-14T10:54:17.439Z"
   },
   {
    "duration": 14,
    "start_time": "2023-01-14T10:54:21.613Z"
   },
   {
    "duration": 4,
    "start_time": "2023-01-14T10:54:34.780Z"
   },
   {
    "duration": 27,
    "start_time": "2023-01-14T10:55:04.255Z"
   }
  ],
  "kernelspec": {
   "display_name": "Python 3 (ipykernel)",
   "language": "python",
   "name": "python3"
  },
  "language_info": {
   "codemirror_mode": {
    "name": "ipython",
    "version": 3
   },
   "file_extension": ".py",
   "mimetype": "text/x-python",
   "name": "python",
   "nbconvert_exporter": "python",
   "pygments_lexer": "ipython3",
   "version": "3.9.5"
  },
  "toc": {
   "base_numbering": 1,
   "nav_menu": {},
   "number_sections": true,
   "sideBar": true,
   "skip_h1_title": true,
   "title_cell": "Table of Contents",
   "title_sidebar": "Contents",
   "toc_cell": false,
   "toc_position": {},
   "toc_section_display": true,
   "toc_window_display": false
  }
 },
 "nbformat": 4,
 "nbformat_minor": 5
}
