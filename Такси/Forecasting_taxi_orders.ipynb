{
 "cells": [
  {
   "cell_type": "markdown",
   "metadata": {},
   "source": [
    "#  Прогнозирование заказов такси"
   ]
  },
  {
   "cell_type": "markdown",
   "metadata": {},
   "source": [
    "Компания «Чётенькое такси» собрала исторические данные о заказах такси в аэропортах. Чтобы привлекать больше водителей в период пиковой нагрузки, нужно спрогнозировать количество заказов такси на следующий час. Постройте модель для такого предсказания.\n",
    "\n",
    "Значение метрики *RMSE* на тестовой выборке должно быть не больше 48.\n",
    "\n",
    "Вам нужно:\n",
    "\n",
    "1. Загрузить данные и выполнить их ресемплирование по одному часу.\n",
    "2. Проанализировать данные.\n",
    "3. Обучить разные модели с различными гиперпараметрами. Сделать тестовую выборку размером 10% от исходных данных.\n",
    "4. Проверить данные на тестовой выборке и сделать выводы.\n",
    "\n",
    "\n",
    "Данные лежат в файле `taxi.csv`. Количество заказов находится в столбце `num_orders` (от англ. *number of orders*, «число заказов»)."
   ]
  },
  {
   "cell_type": "markdown",
   "metadata": {},
   "source": [
    "## Подготовка"
   ]
  },
  {
   "cell_type": "code",
   "execution_count": 1,
   "metadata": {},
   "outputs": [],
   "source": [
    "from sklearn.metrics import mean_squared_error\n",
    "import pandas as pd\n",
    "import numpy as np\n",
    "from sklearn.model_selection import train_test_split\n",
    "from sklearn.linear_model import LinearRegression\n",
    "from sklearn.ensemble import RandomForestRegressor\n",
    "from statsmodels.tsa.seasonal import seasonal_decompose\n",
    "import matplotlib.pyplot as plt\n",
    "from sklearn.model_selection import cross_val_score\n",
    "from sklearn.model_selection import TimeSeriesSplit"
   ]
  },
  {
   "cell_type": "code",
   "execution_count": 2,
   "metadata": {},
   "outputs": [
    {
     "data": {
      "text/html": [
       "<div>\n",
       "<style scoped>\n",
       "    .dataframe tbody tr th:only-of-type {\n",
       "        vertical-align: middle;\n",
       "    }\n",
       "\n",
       "    .dataframe tbody tr th {\n",
       "        vertical-align: top;\n",
       "    }\n",
       "\n",
       "    .dataframe thead th {\n",
       "        text-align: right;\n",
       "    }\n",
       "</style>\n",
       "<table border=\"1\" class=\"dataframe\">\n",
       "  <thead>\n",
       "    <tr style=\"text-align: right;\">\n",
       "      <th></th>\n",
       "      <th>num_orders</th>\n",
       "    </tr>\n",
       "    <tr>\n",
       "      <th>datetime</th>\n",
       "      <th></th>\n",
       "    </tr>\n",
       "  </thead>\n",
       "  <tbody>\n",
       "    <tr>\n",
       "      <th>2018-03-01 00:00:00</th>\n",
       "      <td>9</td>\n",
       "    </tr>\n",
       "    <tr>\n",
       "      <th>2018-03-01 00:10:00</th>\n",
       "      <td>14</td>\n",
       "    </tr>\n",
       "    <tr>\n",
       "      <th>2018-03-01 00:20:00</th>\n",
       "      <td>28</td>\n",
       "    </tr>\n",
       "    <tr>\n",
       "      <th>2018-03-01 00:30:00</th>\n",
       "      <td>20</td>\n",
       "    </tr>\n",
       "    <tr>\n",
       "      <th>2018-03-01 00:40:00</th>\n",
       "      <td>32</td>\n",
       "    </tr>\n",
       "    <tr>\n",
       "      <th>...</th>\n",
       "      <td>...</td>\n",
       "    </tr>\n",
       "    <tr>\n",
       "      <th>2018-08-31 23:10:00</th>\n",
       "      <td>32</td>\n",
       "    </tr>\n",
       "    <tr>\n",
       "      <th>2018-08-31 23:20:00</th>\n",
       "      <td>24</td>\n",
       "    </tr>\n",
       "    <tr>\n",
       "      <th>2018-08-31 23:30:00</th>\n",
       "      <td>27</td>\n",
       "    </tr>\n",
       "    <tr>\n",
       "      <th>2018-08-31 23:40:00</th>\n",
       "      <td>39</td>\n",
       "    </tr>\n",
       "    <tr>\n",
       "      <th>2018-08-31 23:50:00</th>\n",
       "      <td>53</td>\n",
       "    </tr>\n",
       "  </tbody>\n",
       "</table>\n",
       "<p>26496 rows × 1 columns</p>\n",
       "</div>"
      ],
      "text/plain": [
       "                     num_orders\n",
       "datetime                       \n",
       "2018-03-01 00:00:00           9\n",
       "2018-03-01 00:10:00          14\n",
       "2018-03-01 00:20:00          28\n",
       "2018-03-01 00:30:00          20\n",
       "2018-03-01 00:40:00          32\n",
       "...                         ...\n",
       "2018-08-31 23:10:00          32\n",
       "2018-08-31 23:20:00          24\n",
       "2018-08-31 23:30:00          27\n",
       "2018-08-31 23:40:00          39\n",
       "2018-08-31 23:50:00          53\n",
       "\n",
       "[26496 rows x 1 columns]"
      ]
     },
     "execution_count": 2,
     "metadata": {},
     "output_type": "execute_result"
    }
   ],
   "source": [
    "data = pd.read_csv('//datasets/taxi.csv', index_col=[0], parse_dates=[0])\n",
    "data"
   ]
  },
  {
   "cell_type": "code",
   "execution_count": 3,
   "metadata": {},
   "outputs": [
    {
     "data": {
      "text/html": [
       "<div>\n",
       "<style scoped>\n",
       "    .dataframe tbody tr th:only-of-type {\n",
       "        vertical-align: middle;\n",
       "    }\n",
       "\n",
       "    .dataframe tbody tr th {\n",
       "        vertical-align: top;\n",
       "    }\n",
       "\n",
       "    .dataframe thead th {\n",
       "        text-align: right;\n",
       "    }\n",
       "</style>\n",
       "<table border=\"1\" class=\"dataframe\">\n",
       "  <thead>\n",
       "    <tr style=\"text-align: right;\">\n",
       "      <th></th>\n",
       "      <th>num_orders</th>\n",
       "    </tr>\n",
       "    <tr>\n",
       "      <th>datetime</th>\n",
       "      <th></th>\n",
       "    </tr>\n",
       "  </thead>\n",
       "  <tbody>\n",
       "    <tr>\n",
       "      <th>2018-03-01 00:00:00</th>\n",
       "      <td>124</td>\n",
       "    </tr>\n",
       "    <tr>\n",
       "      <th>2018-03-01 01:00:00</th>\n",
       "      <td>85</td>\n",
       "    </tr>\n",
       "    <tr>\n",
       "      <th>2018-03-01 02:00:00</th>\n",
       "      <td>71</td>\n",
       "    </tr>\n",
       "    <tr>\n",
       "      <th>2018-03-01 03:00:00</th>\n",
       "      <td>66</td>\n",
       "    </tr>\n",
       "    <tr>\n",
       "      <th>2018-03-01 04:00:00</th>\n",
       "      <td>43</td>\n",
       "    </tr>\n",
       "    <tr>\n",
       "      <th>...</th>\n",
       "      <td>...</td>\n",
       "    </tr>\n",
       "    <tr>\n",
       "      <th>2018-08-31 19:00:00</th>\n",
       "      <td>136</td>\n",
       "    </tr>\n",
       "    <tr>\n",
       "      <th>2018-08-31 20:00:00</th>\n",
       "      <td>154</td>\n",
       "    </tr>\n",
       "    <tr>\n",
       "      <th>2018-08-31 21:00:00</th>\n",
       "      <td>159</td>\n",
       "    </tr>\n",
       "    <tr>\n",
       "      <th>2018-08-31 22:00:00</th>\n",
       "      <td>223</td>\n",
       "    </tr>\n",
       "    <tr>\n",
       "      <th>2018-08-31 23:00:00</th>\n",
       "      <td>205</td>\n",
       "    </tr>\n",
       "  </tbody>\n",
       "</table>\n",
       "<p>4416 rows × 1 columns</p>\n",
       "</div>"
      ],
      "text/plain": [
       "                     num_orders\n",
       "datetime                       \n",
       "2018-03-01 00:00:00         124\n",
       "2018-03-01 01:00:00          85\n",
       "2018-03-01 02:00:00          71\n",
       "2018-03-01 03:00:00          66\n",
       "2018-03-01 04:00:00          43\n",
       "...                         ...\n",
       "2018-08-31 19:00:00         136\n",
       "2018-08-31 20:00:00         154\n",
       "2018-08-31 21:00:00         159\n",
       "2018-08-31 22:00:00         223\n",
       "2018-08-31 23:00:00         205\n",
       "\n",
       "[4416 rows x 1 columns]"
      ]
     },
     "execution_count": 3,
     "metadata": {},
     "output_type": "execute_result"
    }
   ],
   "source": [
    "data.sort_index(inplace=True)\n",
    "data = data.resample('1H').sum()\n",
    "data"
   ]
  },
  {
   "cell_type": "code",
   "execution_count": 4,
   "metadata": {},
   "outputs": [
    {
     "data": {
      "image/png": "[encoded data removed]",
      "text/plain": [
       "<Figure size 720x720 with 3 Axes>"
      ]
     },
     "metadata": {
      "needs_background": "light"
     },
     "output_type": "display_data"
    }
   ],
   "source": [
    "\n",
    "data_1 = data['2018-03-01':'2018-03-08']\n",
    "\n",
    "decomposed = seasonal_decompose(data_1) \n",
    "\n",
    "plt.figure(figsize=(10, 10))\n",
    "plt.subplot(311)\n",
    "\n",
    "decomposed.trend.plot(ax=plt.gca())\n",
    "plt.title('Trend')\n",
    "plt.subplot(312)\n",
    "decomposed.seasonal.plot(ax=plt.gca()) \n",
    "plt.title('Seasonality')\n",
    "plt.subplot(313)\n",
    "decomposed.resid.plot(ax=plt.gca()) \n",
    "plt.title('Residuals')\n",
    "plt.tight_layout()"
   ]
  },
  {
   "cell_type": "markdown",
   "metadata": {},
   "source": [
    "Из графиков можно сделать вывод, что вечером и ночью заказов в разы больше, чем утром и днем."
   ]
  },
  {
   "cell_type": "markdown",
   "metadata": {},
   "source": [
    "## Анализ"
   ]
  },
  {
   "cell_type": "code",
   "execution_count": 5,
   "metadata": {},
   "outputs": [],
   "source": [
    "def make_features(data, max_lag, rolling_mean_size):\n",
    "    data['year'] = data.index.year\n",
    "    data['month'] = data.index.month\n",
    "    data['day'] = data.index.day\n",
    "    data['dayofweek'] = data.index.dayofweek\n",
    "    \n",
    "    for lag in range(1, max_lag + 1):\n",
    "        data['lag_{}'.format(lag)] = data['num_orders'].shift(lag)\n",
    "\n",
    "    data['rolling_mean'] = data['num_orders'].shift().rolling(rolling_mean_size).mean()"
   ]
  },
  {
   "cell_type": "code",
   "execution_count": 6,
   "metadata": {},
   "outputs": [
    {
     "data": {
      "text/html": [
       "<div>\n",
       "<style scoped>\n",
       "    .dataframe tbody tr th:only-of-type {\n",
       "        vertical-align: middle;\n",
       "    }\n",
       "\n",
       "    .dataframe tbody tr th {\n",
       "        vertical-align: top;\n",
       "    }\n",
       "\n",
       "    .dataframe thead th {\n",
       "        text-align: right;\n",
       "    }\n",
       "</style>\n",
       "<table border=\"1\" class=\"dataframe\">\n",
       "  <thead>\n",
       "    <tr style=\"text-align: right;\">\n",
       "      <th></th>\n",
       "      <th>num_orders</th>\n",
       "      <th>year</th>\n",
       "      <th>month</th>\n",
       "      <th>day</th>\n",
       "      <th>dayofweek</th>\n",
       "      <th>lag_1</th>\n",
       "      <th>lag_2</th>\n",
       "      <th>lag_3</th>\n",
       "      <th>lag_4</th>\n",
       "      <th>lag_5</th>\n",
       "      <th>...</th>\n",
       "      <th>lag_22</th>\n",
       "      <th>lag_23</th>\n",
       "      <th>lag_24</th>\n",
       "      <th>lag_25</th>\n",
       "      <th>lag_26</th>\n",
       "      <th>lag_27</th>\n",
       "      <th>lag_28</th>\n",
       "      <th>lag_29</th>\n",
       "      <th>lag_30</th>\n",
       "      <th>rolling_mean</th>\n",
       "    </tr>\n",
       "    <tr>\n",
       "      <th>datetime</th>\n",
       "      <th></th>\n",
       "      <th></th>\n",
       "      <th></th>\n",
       "      <th></th>\n",
       "      <th></th>\n",
       "      <th></th>\n",
       "      <th></th>\n",
       "      <th></th>\n",
       "      <th></th>\n",
       "      <th></th>\n",
       "      <th></th>\n",
       "      <th></th>\n",
       "      <th></th>\n",
       "      <th></th>\n",
       "      <th></th>\n",
       "      <th></th>\n",
       "      <th></th>\n",
       "      <th></th>\n",
       "      <th></th>\n",
       "      <th></th>\n",
       "      <th></th>\n",
       "    </tr>\n",
       "  </thead>\n",
       "  <tbody>\n",
       "    <tr>\n",
       "      <th>2018-03-01 00:00:00</th>\n",
       "      <td>124</td>\n",
       "      <td>2018</td>\n",
       "      <td>3</td>\n",
       "      <td>1</td>\n",
       "      <td>3</td>\n",
       "      <td>NaN</td>\n",
       "      <td>NaN</td>\n",
       "      <td>NaN</td>\n",
       "      <td>NaN</td>\n",
       "      <td>NaN</td>\n",
       "      <td>...</td>\n",
       "      <td>NaN</td>\n",
       "      <td>NaN</td>\n",
       "      <td>NaN</td>\n",
       "      <td>NaN</td>\n",
       "      <td>NaN</td>\n",
       "      <td>NaN</td>\n",
       "      <td>NaN</td>\n",
       "      <td>NaN</td>\n",
       "      <td>NaN</td>\n",
       "      <td>NaN</td>\n",
       "    </tr>\n",
       "    <tr>\n",
       "      <th>2018-03-01 01:00:00</th>\n",
       "      <td>85</td>\n",
       "      <td>2018</td>\n",
       "      <td>3</td>\n",
       "      <td>1</td>\n",
       "      <td>3</td>\n",
       "      <td>124.0</td>\n",
       "      <td>NaN</td>\n",
       "      <td>NaN</td>\n",
       "      <td>NaN</td>\n",
       "      <td>NaN</td>\n",
       "      <td>...</td>\n",
       "      <td>NaN</td>\n",
       "      <td>NaN</td>\n",
       "      <td>NaN</td>\n",
       "      <td>NaN</td>\n",
       "      <td>NaN</td>\n",
       "      <td>NaN</td>\n",
       "      <td>NaN</td>\n",
       "      <td>NaN</td>\n",
       "      <td>NaN</td>\n",
       "      <td>NaN</td>\n",
       "    </tr>\n",
       "    <tr>\n",
       "      <th>2018-03-01 02:00:00</th>\n",
       "      <td>71</td>\n",
       "      <td>2018</td>\n",
       "      <td>3</td>\n",
       "      <td>1</td>\n",
       "      <td>3</td>\n",
       "      <td>85.0</td>\n",
       "      <td>124.0</td>\n",
       "      <td>NaN</td>\n",
       "      <td>NaN</td>\n",
       "      <td>NaN</td>\n",
       "      <td>...</td>\n",
       "      <td>NaN</td>\n",
       "      <td>NaN</td>\n",
       "      <td>NaN</td>\n",
       "      <td>NaN</td>\n",
       "      <td>NaN</td>\n",
       "      <td>NaN</td>\n",
       "      <td>NaN</td>\n",
       "      <td>NaN</td>\n",
       "      <td>NaN</td>\n",
       "      <td>NaN</td>\n",
       "    </tr>\n",
       "    <tr>\n",
       "      <th>2018-03-01 03:00:00</th>\n",
       "      <td>66</td>\n",
       "      <td>2018</td>\n",
       "      <td>3</td>\n",
       "      <td>1</td>\n",
       "      <td>3</td>\n",
       "      <td>71.0</td>\n",
       "      <td>85.0</td>\n",
       "      <td>124.0</td>\n",
       "      <td>NaN</td>\n",
       "      <td>NaN</td>\n",
       "      <td>...</td>\n",
       "      <td>NaN</td>\n",
       "      <td>NaN</td>\n",
       "      <td>NaN</td>\n",
       "      <td>NaN</td>\n",
       "      <td>NaN</td>\n",
       "      <td>NaN</td>\n",
       "      <td>NaN</td>\n",
       "      <td>NaN</td>\n",
       "      <td>NaN</td>\n",
       "      <td>NaN</td>\n",
       "    </tr>\n",
       "    <tr>\n",
       "      <th>2018-03-01 04:00:00</th>\n",
       "      <td>43</td>\n",
       "      <td>2018</td>\n",
       "      <td>3</td>\n",
       "      <td>1</td>\n",
       "      <td>3</td>\n",
       "      <td>66.0</td>\n",
       "      <td>71.0</td>\n",
       "      <td>85.0</td>\n",
       "      <td>124.0</td>\n",
       "      <td>NaN</td>\n",
       "      <td>...</td>\n",
       "      <td>NaN</td>\n",
       "      <td>NaN</td>\n",
       "      <td>NaN</td>\n",
       "      <td>NaN</td>\n",
       "      <td>NaN</td>\n",
       "      <td>NaN</td>\n",
       "      <td>NaN</td>\n",
       "      <td>NaN</td>\n",
       "      <td>NaN</td>\n",
       "      <td>NaN</td>\n",
       "    </tr>\n",
       "    <tr>\n",
       "      <th>...</th>\n",
       "      <td>...</td>\n",
       "      <td>...</td>\n",
       "      <td>...</td>\n",
       "      <td>...</td>\n",
       "      <td>...</td>\n",
       "      <td>...</td>\n",
       "      <td>...</td>\n",
       "      <td>...</td>\n",
       "      <td>...</td>\n",
       "      <td>...</td>\n",
       "      <td>...</td>\n",
       "      <td>...</td>\n",
       "      <td>...</td>\n",
       "      <td>...</td>\n",
       "      <td>...</td>\n",
       "      <td>...</td>\n",
       "      <td>...</td>\n",
       "      <td>...</td>\n",
       "      <td>...</td>\n",
       "      <td>...</td>\n",
       "      <td>...</td>\n",
       "    </tr>\n",
       "    <tr>\n",
       "      <th>2018-08-31 19:00:00</th>\n",
       "      <td>136</td>\n",
       "      <td>2018</td>\n",
       "      <td>8</td>\n",
       "      <td>31</td>\n",
       "      <td>4</td>\n",
       "      <td>207.0</td>\n",
       "      <td>217.0</td>\n",
       "      <td>197.0</td>\n",
       "      <td>116.0</td>\n",
       "      <td>133.0</td>\n",
       "      <td>...</td>\n",
       "      <td>198.0</td>\n",
       "      <td>142.0</td>\n",
       "      <td>72.0</td>\n",
       "      <td>177.0</td>\n",
       "      <td>342.0</td>\n",
       "      <td>254.0</td>\n",
       "      <td>156.0</td>\n",
       "      <td>91.0</td>\n",
       "      <td>154.0</td>\n",
       "      <td>164.150</td>\n",
       "    </tr>\n",
       "    <tr>\n",
       "      <th>2018-08-31 20:00:00</th>\n",
       "      <td>154</td>\n",
       "      <td>2018</td>\n",
       "      <td>8</td>\n",
       "      <td>31</td>\n",
       "      <td>4</td>\n",
       "      <td>136.0</td>\n",
       "      <td>207.0</td>\n",
       "      <td>217.0</td>\n",
       "      <td>197.0</td>\n",
       "      <td>116.0</td>\n",
       "      <td>...</td>\n",
       "      <td>158.0</td>\n",
       "      <td>198.0</td>\n",
       "      <td>142.0</td>\n",
       "      <td>72.0</td>\n",
       "      <td>177.0</td>\n",
       "      <td>342.0</td>\n",
       "      <td>254.0</td>\n",
       "      <td>156.0</td>\n",
       "      <td>91.0</td>\n",
       "      <td>162.725</td>\n",
       "    </tr>\n",
       "    <tr>\n",
       "      <th>2018-08-31 21:00:00</th>\n",
       "      <td>159</td>\n",
       "      <td>2018</td>\n",
       "      <td>8</td>\n",
       "      <td>31</td>\n",
       "      <td>4</td>\n",
       "      <td>154.0</td>\n",
       "      <td>136.0</td>\n",
       "      <td>207.0</td>\n",
       "      <td>217.0</td>\n",
       "      <td>197.0</td>\n",
       "      <td>...</td>\n",
       "      <td>246.0</td>\n",
       "      <td>158.0</td>\n",
       "      <td>198.0</td>\n",
       "      <td>142.0</td>\n",
       "      <td>72.0</td>\n",
       "      <td>177.0</td>\n",
       "      <td>342.0</td>\n",
       "      <td>254.0</td>\n",
       "      <td>156.0</td>\n",
       "      <td>161.925</td>\n",
       "    </tr>\n",
       "    <tr>\n",
       "      <th>2018-08-31 22:00:00</th>\n",
       "      <td>223</td>\n",
       "      <td>2018</td>\n",
       "      <td>8</td>\n",
       "      <td>31</td>\n",
       "      <td>4</td>\n",
       "      <td>159.0</td>\n",
       "      <td>154.0</td>\n",
       "      <td>136.0</td>\n",
       "      <td>207.0</td>\n",
       "      <td>217.0</td>\n",
       "      <td>...</td>\n",
       "      <td>276.0</td>\n",
       "      <td>246.0</td>\n",
       "      <td>158.0</td>\n",
       "      <td>198.0</td>\n",
       "      <td>142.0</td>\n",
       "      <td>72.0</td>\n",
       "      <td>177.0</td>\n",
       "      <td>342.0</td>\n",
       "      <td>254.0</td>\n",
       "      <td>164.500</td>\n",
       "    </tr>\n",
       "    <tr>\n",
       "      <th>2018-08-31 23:00:00</th>\n",
       "      <td>205</td>\n",
       "      <td>2018</td>\n",
       "      <td>8</td>\n",
       "      <td>31</td>\n",
       "      <td>4</td>\n",
       "      <td>223.0</td>\n",
       "      <td>159.0</td>\n",
       "      <td>154.0</td>\n",
       "      <td>136.0</td>\n",
       "      <td>207.0</td>\n",
       "      <td>...</td>\n",
       "      <td>194.0</td>\n",
       "      <td>276.0</td>\n",
       "      <td>246.0</td>\n",
       "      <td>158.0</td>\n",
       "      <td>198.0</td>\n",
       "      <td>142.0</td>\n",
       "      <td>72.0</td>\n",
       "      <td>177.0</td>\n",
       "      <td>342.0</td>\n",
       "      <td>169.750</td>\n",
       "    </tr>\n",
       "  </tbody>\n",
       "</table>\n",
       "<p>4416 rows × 36 columns</p>\n",
       "</div>"
      ],
      "text/plain": [
       "                     num_orders  year  month  day  dayofweek  lag_1  lag_2  \\\n",
       "datetime                                                                     \n",
       "2018-03-01 00:00:00         124  2018      3    1          3    NaN    NaN   \n",
       "2018-03-01 01:00:00          85  2018      3    1          3  124.0    NaN   \n",
       "2018-03-01 02:00:00          71  2018      3    1          3   85.0  124.0   \n",
       "2018-03-01 03:00:00          66  2018      3    1          3   71.0   85.0   \n",
       "2018-03-01 04:00:00          43  2018      3    1          3   66.0   71.0   \n",
       "...                         ...   ...    ...  ...        ...    ...    ...   \n",
       "2018-08-31 19:00:00         136  2018      8   31          4  207.0  217.0   \n",
       "2018-08-31 20:00:00         154  2018      8   31          4  136.0  207.0   \n",
       "2018-08-31 21:00:00         159  2018      8   31          4  154.0  136.0   \n",
       "2018-08-31 22:00:00         223  2018      8   31          4  159.0  154.0   \n",
       "2018-08-31 23:00:00         205  2018      8   31          4  223.0  159.0   \n",
       "\n",
       "                     lag_3  lag_4  lag_5  ...  lag_22  lag_23  lag_24  lag_25  \\\n",
       "datetime                                  ...                                   \n",
       "2018-03-01 00:00:00    NaN    NaN    NaN  ...     NaN     NaN     NaN     NaN   \n",
       "2018-03-01 01:00:00    NaN    NaN    NaN  ...     NaN     NaN     NaN     NaN   \n",
       "2018-03-01 02:00:00    NaN    NaN    NaN  ...     NaN     NaN     NaN     NaN   \n",
       "2018-03-01 03:00:00  124.0    NaN    NaN  ...     NaN     NaN     NaN     NaN   \n",
       "2018-03-01 04:00:00   85.0  124.0    NaN  ...     NaN     NaN     NaN     NaN   \n",
       "...                    ...    ...    ...  ...     ...     ...     ...     ...   \n",
       "2018-08-31 19:00:00  197.0  116.0  133.0  ...   198.0   142.0    72.0   177.0   \n",
       "2018-08-31 20:00:00  217.0  197.0  116.0  ...   158.0   198.0   142.0    72.0   \n",
       "2018-08-31 21:00:00  207.0  217.0  197.0  ...   246.0   158.0   198.0   142.0   \n",
       "2018-08-31 22:00:00  136.0  207.0  217.0  ...   276.0   246.0   158.0   198.0   \n",
       "2018-08-31 23:00:00  154.0  136.0  207.0  ...   194.0   276.0   246.0   158.0   \n",
       "\n",
       "                     lag_26  lag_27  lag_28  lag_29  lag_30  rolling_mean  \n",
       "datetime                                                                   \n",
       "2018-03-01 00:00:00     NaN     NaN     NaN     NaN     NaN           NaN  \n",
       "2018-03-01 01:00:00     NaN     NaN     NaN     NaN     NaN           NaN  \n",
       "2018-03-01 02:00:00     NaN     NaN     NaN     NaN     NaN           NaN  \n",
       "2018-03-01 03:00:00     NaN     NaN     NaN     NaN     NaN           NaN  \n",
       "2018-03-01 04:00:00     NaN     NaN     NaN     NaN     NaN           NaN  \n",
       "...                     ...     ...     ...     ...     ...           ...  \n",
       "2018-08-31 19:00:00   342.0   254.0   156.0    91.0   154.0       164.150  \n",
       "2018-08-31 20:00:00   177.0   342.0   254.0   156.0    91.0       162.725  \n",
       "2018-08-31 21:00:00    72.0   177.0   342.0   254.0   156.0       161.925  \n",
       "2018-08-31 22:00:00   142.0    72.0   177.0   342.0   254.0       164.500  \n",
       "2018-08-31 23:00:00   198.0   142.0    72.0   177.0   342.0       169.750  \n",
       "\n",
       "[4416 rows x 36 columns]"
      ]
     },
     "execution_count": 6,
     "metadata": {},
     "output_type": "execute_result"
    }
   ],
   "source": [
    "make_features(data, 30,40)\n",
    "data"
   ]
  },
  {
   "cell_type": "markdown",
   "metadata": {},
   "source": [
    "## Обучение"
   ]
  },
  {
   "cell_type": "code",
   "execution_count": 7,
   "metadata": {},
   "outputs": [],
   "source": [
    "train, test = train_test_split(data, shuffle=False, test_size=0.1)\n",
    "train = train.dropna()\n",
    "features_train = train.drop(['num_orders'], axis=1)\n",
    "target_train = train['num_orders']\n",
    "features_test = test.drop(['num_orders'], axis=1)\n",
    "target_test = test['num_orders']"
   ]
  },
  {
   "cell_type": "code",
   "execution_count": 8,
   "metadata": {},
   "outputs": [
    {
     "name": "stdout",
     "output_type": "stream",
     "text": [
      "RMSE обучающей выборки: 25.162063268252812\n"
     ]
    }
   ],
   "source": [
    "#LinearRegression\n",
    "model = LinearRegression()\n",
    "model.fit(features_train,target_train)\n",
    "train_pred = model.predict(features_train)\n",
    "print(\"RMSE обучающей выборки:\", mean_squared_error(target_train,train_pred)**0.5)\n"
   ]
  },
  {
   "cell_type": "code",
   "execution_count": 9,
   "metadata": {},
   "outputs": [
    {
     "name": "stdout",
     "output_type": "stream",
     "text": [
      "RMSE обучающей выборки: 14.446462398054189\n"
     ]
    }
   ],
   "source": [
    "#RandomForestRegressor\n",
    "model = RandomForestRegressor(n_estimators=50,max_depth=10,random_state=12345)\n",
    "model.fit(features_train,target_train)\n",
    "train_pred = model.predict(features_train)\n",
    "print(\"RMSE обучающей выборки:\", mean_squared_error(target_train,train_pred)**0.5)"
   ]
  },
  {
   "cell_type": "code",
   "execution_count": 18,
   "metadata": {},
   "outputs": [
    {
     "name": "stdout",
     "output_type": "stream",
     "text": [
      "12 -25.975709503775494\n"
     ]
    }
   ],
   "source": [
    "best_depth_light = 0\n",
    "best_result_light = -1000000000000000000000000000\n",
    "\n",
    "for depth in range(1, 20, 1):\n",
    "    model = RandomForestRegressor(n_estimators=50,max_depth=depth,random_state=12345)\n",
    "    cv = TimeSeriesSplit(n_splits=3, test_size=2)\n",
    "\n",
    "    \n",
    "    scores = cross_val_score(model,features_train, target_train, cv=cv,scoring= 'neg_root_mean_squared_error')\n",
    "    if scores.mean() > best_result_light:\n",
    "        best_depth_light = depth\n",
    "        \n",
    "        best_result_light = scores.mean()\n",
    "            \n",
    "print(best_depth_light,best_result_light)"
   ]
  },
  {
   "cell_type": "markdown",
   "metadata": {},
   "source": [
    "## Тестирование"
   ]
  },
  {
   "cell_type": "code",
   "execution_count": 11,
   "metadata": {},
   "outputs": [
    {
     "name": "stdout",
     "output_type": "stream",
     "text": [
      "CPU times: user 32.8 ms, sys: 32.3 ms, total: 65 ms\n",
      "Wall time: 22.4 ms\n"
     ]
    },
    {
     "data": {
      "text/plain": [
       "LinearRegression()"
      ]
     },
     "execution_count": 11,
     "metadata": {},
     "output_type": "execute_result"
    }
   ],
   "source": [
    "%%time\n",
    "model = LinearRegression()\n",
    "model.fit(features_train,target_train)"
   ]
  },
  {
   "cell_type": "code",
   "execution_count": 12,
   "metadata": {},
   "outputs": [
    {
     "name": "stdout",
     "output_type": "stream",
     "text": [
      "CPU times: user 17.9 ms, sys: 35.6 ms, total: 53.6 ms\n",
      "Wall time: 90.3 ms\n"
     ]
    }
   ],
   "source": [
    "%%time\n",
    "test_pred = model.predict(features_test)"
   ]
  },
  {
   "cell_type": "code",
   "execution_count": 13,
   "metadata": {},
   "outputs": [
    {
     "name": "stdout",
     "output_type": "stream",
     "text": [
      "RMSEтестовой выборки:  48.754970308060244\n"
     ]
    }
   ],
   "source": [
    "\n",
    "print(\"RMSEтестовой выборки: \",mean_squared_error(target_test,test_pred)**0.5)"
   ]
  },
  {
   "cell_type": "code",
   "execution_count": 19,
   "metadata": {},
   "outputs": [
    {
     "name": "stdout",
     "output_type": "stream",
     "text": [
      "CPU times: user 2.49 s, sys: 11.8 ms, total: 2.5 s\n",
      "Wall time: 2.52 s\n"
     ]
    },
    {
     "data": {
      "text/plain": [
       "RandomForestRegressor(max_depth=12, n_estimators=50, random_state=12345)"
      ]
     },
     "execution_count": 19,
     "metadata": {},
     "output_type": "execute_result"
    }
   ],
   "source": [
    "%%time\n",
    "model = RandomForestRegressor(n_estimators=50,max_depth=12,random_state=12345)\n",
    "model.fit(features_train,target_train)"
   ]
  },
  {
   "cell_type": "code",
   "execution_count": 20,
   "metadata": {},
   "outputs": [
    {
     "name": "stdout",
     "output_type": "stream",
     "text": [
      "CPU times: user 11.7 ms, sys: 0 ns, total: 11.7 ms\n",
      "Wall time: 10.1 ms\n"
     ]
    }
   ],
   "source": [
    "%%time\n",
    "test_pred = model.predict(features_test)"
   ]
  },
  {
   "cell_type": "code",
   "execution_count": 22,
   "metadata": {},
   "outputs": [
    {
     "name": "stdout",
     "output_type": "stream",
     "text": [
      "RMSEтестовой выборки:  44.27575849281387\n"
     ]
    }
   ],
   "source": [
    "\n",
    "print(\"RMSEтестовой выборки: \",mean_squared_error(target_test,test_pred)**0.5)"
   ]
  },
  {
   "cell_type": "code",
   "execution_count": 23,
   "metadata": {},
   "outputs": [
    {
     "data": {
      "text/html": [
       "<div>\n",
       "<style scoped>\n",
       "    .dataframe tbody tr th:only-of-type {\n",
       "        vertical-align: middle;\n",
       "    }\n",
       "\n",
       "    .dataframe tbody tr th {\n",
       "        vertical-align: top;\n",
       "    }\n",
       "\n",
       "    .dataframe thead th {\n",
       "        text-align: right;\n",
       "    }\n",
       "</style>\n",
       "<table border=\"1\" class=\"dataframe\">\n",
       "  <thead>\n",
       "    <tr style=\"text-align: right;\">\n",
       "      <th></th>\n",
       "      <th>models</th>\n",
       "      <th>fit_time</th>\n",
       "      <th>pred_time</th>\n",
       "      <th>metrics</th>\n",
       "    </tr>\n",
       "  </thead>\n",
       "  <tbody>\n",
       "    <tr>\n",
       "      <th>0</th>\n",
       "      <td>LinearRegression</td>\n",
       "      <td>22.1 ms</td>\n",
       "      <td>99.7 ms</td>\n",
       "      <td>48.75</td>\n",
       "    </tr>\n",
       "    <tr>\n",
       "      <th>1</th>\n",
       "      <td>RandomForestRegressor</td>\n",
       "      <td>2.52 s</td>\n",
       "      <td>10.1 ms</td>\n",
       "      <td>44.27</td>\n",
       "    </tr>\n",
       "  </tbody>\n",
       "</table>\n",
       "</div>"
      ],
      "text/plain": [
       "                  models fit_time pred_time  metrics\n",
       "0       LinearRegression  22.1 ms   99.7 ms    48.75\n",
       "1  RandomForestRegressor   2.52 s   10.1 ms    44.27"
      ]
     },
     "execution_count": 23,
     "metadata": {},
     "output_type": "execute_result"
    }
   ],
   "source": [
    "results = pd.DataFrame({'models' : ['LinearRegression', 'RandomForestRegressor'],\n",
    "                        'fit_time' : ['22.1 ms', '2.52 s'],\n",
    "                        'pred_time' : ['99.7 ms', '10.1 ms'],\n",
    "                        'metrics' : [48.75, 44.27]})\n",
    "results"
   ]
  },
  {
   "cell_type": "markdown",
   "metadata": {},
   "source": [
    "Модель RandomForest показала лучший результат RMSE, хотя время обучения заняло больше времени, чем LinearRegression, но важна точность в иследовании, поэтому лучшей моделью выбираем RandomForest"
   ]
  }
 ],
 "metadata": {
  "ExecuteTimeLog": [
   {
    "duration": 1069,
    "start_time": "2022-11-06T23:05:16.113Z"
   },
   {
    "duration": 208,
    "start_time": "2022-11-06T23:05:17.184Z"
   },
   {
    "duration": 28,
    "start_time": "2022-11-06T23:05:17.393Z"
   },
   {
    "duration": 144,
    "start_time": "2022-11-06T23:05:25.673Z"
   },
   {
    "duration": 23,
    "start_time": "2022-11-06T23:05:31.623Z"
   },
   {
    "duration": 19,
    "start_time": "2022-11-06T23:05:36.905Z"
   },
   {
    "duration": 2,
    "start_time": "2022-11-06T23:24:38.129Z"
   },
   {
    "duration": 140,
    "start_time": "2022-11-06T23:24:38.133Z"
   },
   {
    "duration": 26,
    "start_time": "2022-11-06T23:24:38.274Z"
   },
   {
    "duration": 3,
    "start_time": "2022-11-06T23:24:38.302Z"
   },
   {
    "duration": 85,
    "start_time": "2022-11-06T23:24:38.307Z"
   },
   {
    "duration": 983,
    "start_time": "2022-11-07T00:14:26.455Z"
   },
   {
    "duration": 107,
    "start_time": "2022-11-07T00:14:27.440Z"
   },
   {
    "duration": 12,
    "start_time": "2022-11-07T00:14:27.549Z"
   },
   {
    "duration": 3,
    "start_time": "2022-11-07T00:14:27.563Z"
   },
   {
    "duration": 822,
    "start_time": "2022-11-07T00:14:27.568Z"
   },
   {
    "duration": 0,
    "start_time": "2022-11-07T00:14:28.391Z"
   },
   {
    "duration": 0,
    "start_time": "2022-11-07T00:14:28.392Z"
   },
   {
    "duration": 4,
    "start_time": "2022-11-07T00:15:36.465Z"
   },
   {
    "duration": 63,
    "start_time": "2022-11-07T00:15:36.470Z"
   },
   {
    "duration": 11,
    "start_time": "2022-11-07T00:15:36.535Z"
   },
   {
    "duration": 4,
    "start_time": "2022-11-07T00:15:36.547Z"
   },
   {
    "duration": 22,
    "start_time": "2022-11-07T00:15:36.553Z"
   },
   {
    "duration": 8,
    "start_time": "2022-11-07T00:15:36.577Z"
   },
   {
    "duration": 11,
    "start_time": "2022-11-07T00:15:36.587Z"
   },
   {
    "duration": 12,
    "start_time": "2022-11-07T00:15:53.522Z"
   },
   {
    "duration": 15,
    "start_time": "2022-11-07T00:17:35.641Z"
   },
   {
    "duration": 17,
    "start_time": "2022-11-07T00:18:14.505Z"
   },
   {
    "duration": 48,
    "start_time": "2022-11-07T00:19:02.674Z"
   },
   {
    "duration": 13,
    "start_time": "2022-11-07T00:19:06.011Z"
   },
   {
    "duration": 101,
    "start_time": "2022-11-07T00:19:06.423Z"
   },
   {
    "duration": 254,
    "start_time": "2022-11-07T00:19:13.949Z"
   },
   {
    "duration": 42,
    "start_time": "2022-11-07T00:19:19.312Z"
   },
   {
    "duration": 777,
    "start_time": "2022-11-07T00:19:19.648Z"
   },
   {
    "duration": 4892,
    "start_time": "2022-11-07T00:19:29.250Z"
   },
   {
    "duration": 242,
    "start_time": "2022-11-07T00:19:34.145Z"
   },
   {
    "duration": 38,
    "start_time": "2022-11-07T00:19:34.388Z"
   },
   {
    "duration": 120,
    "start_time": "2022-11-07T00:19:46.488Z"
   },
   {
    "duration": 30,
    "start_time": "2022-11-07T00:19:47.453Z"
   },
   {
    "duration": 785,
    "start_time": "2022-11-07T00:19:55.469Z"
   },
   {
    "duration": 29,
    "start_time": "2022-11-07T00:19:58.348Z"
   },
   {
    "duration": 119,
    "start_time": "2022-11-07T00:20:00.077Z"
   },
   {
    "duration": 31,
    "start_time": "2022-11-07T00:20:02.133Z"
   },
   {
    "duration": 9,
    "start_time": "2022-11-07T00:21:07.632Z"
   },
   {
    "duration": 104,
    "start_time": "2022-11-07T00:21:11.985Z"
   },
   {
    "duration": 118,
    "start_time": "2022-11-07T00:21:14.335Z"
   },
   {
    "duration": 10,
    "start_time": "2022-11-07T00:21:14.745Z"
   },
   {
    "duration": 9,
    "start_time": "2022-11-07T00:21:20.851Z"
   },
   {
    "duration": 9,
    "start_time": "2022-11-07T00:21:26.287Z"
   },
   {
    "duration": 33,
    "start_time": "2022-11-07T00:21:36.818Z"
   },
   {
    "duration": 974,
    "start_time": "2022-11-07T00:21:43.545Z"
   },
   {
    "duration": 55,
    "start_time": "2022-11-07T00:21:44.521Z"
   },
   {
    "duration": 12,
    "start_time": "2022-11-07T00:21:44.578Z"
   },
   {
    "duration": 32,
    "start_time": "2022-11-07T00:21:44.592Z"
   },
   {
    "duration": 284,
    "start_time": "2022-11-07T00:21:44.625Z"
   },
   {
    "duration": 48,
    "start_time": "2022-11-07T00:21:44.911Z"
   },
   {
    "duration": 764,
    "start_time": "2022-11-07T00:21:44.961Z"
   },
   {
    "duration": 4859,
    "start_time": "2022-11-07T00:22:35.534Z"
   },
   {
    "duration": 973,
    "start_time": "2022-11-07T00:22:42.844Z"
   },
   {
    "duration": 55,
    "start_time": "2022-11-07T00:22:43.819Z"
   },
   {
    "duration": 12,
    "start_time": "2022-11-07T00:22:43.876Z"
   },
   {
    "duration": 4,
    "start_time": "2022-11-07T00:22:43.890Z"
   },
   {
    "duration": 5158,
    "start_time": "2022-11-07T00:22:43.896Z"
   },
   {
    "duration": 250,
    "start_time": "2022-11-07T00:22:49.056Z"
   },
   {
    "duration": 49,
    "start_time": "2022-11-07T00:22:49.308Z"
   },
   {
    "duration": 114,
    "start_time": "2022-11-07T00:23:01.396Z"
   },
   {
    "duration": 632,
    "start_time": "2022-11-07T00:23:17.216Z"
   },
   {
    "duration": 130,
    "start_time": "2022-11-07T00:23:17.850Z"
   },
   {
    "duration": 29,
    "start_time": "2022-11-07T00:23:18.325Z"
   },
   {
    "duration": 29,
    "start_time": "2022-11-07T00:23:21.677Z"
   },
   {
    "duration": 216,
    "start_time": "2022-11-07T00:23:39.709Z"
   },
   {
    "duration": 120,
    "start_time": "2022-11-07T00:23:50.936Z"
   },
   {
    "duration": 29,
    "start_time": "2022-11-07T00:23:51.405Z"
   },
   {
    "duration": 232,
    "start_time": "2022-11-07T00:23:59.989Z"
   },
   {
    "duration": 124,
    "start_time": "2022-11-07T00:24:13.641Z"
   },
   {
    "duration": 30,
    "start_time": "2022-11-07T00:24:14.125Z"
   },
   {
    "duration": 972,
    "start_time": "2022-11-07T00:24:21.031Z"
   },
   {
    "duration": 56,
    "start_time": "2022-11-07T00:24:22.005Z"
   },
   {
    "duration": 12,
    "start_time": "2022-11-07T00:24:22.062Z"
   },
   {
    "duration": 12,
    "start_time": "2022-11-07T00:24:22.076Z"
   },
   {
    "duration": 779,
    "start_time": "2022-11-07T00:24:22.089Z"
   },
   {
    "duration": 98,
    "start_time": "2022-11-07T00:24:22.869Z"
   },
   {
    "duration": 3160,
    "start_time": "2022-11-07T00:24:22.969Z"
   },
   {
    "duration": 4473,
    "start_time": "2022-11-07T00:24:50.147Z"
   },
   {
    "duration": 220,
    "start_time": "2022-11-07T00:24:55.249Z"
   },
   {
    "duration": 109,
    "start_time": "2022-11-07T00:24:56.062Z"
   },
   {
    "duration": 1027,
    "start_time": "2022-11-07T00:25:05.685Z"
   },
   {
    "duration": 56,
    "start_time": "2022-11-07T00:25:06.714Z"
   },
   {
    "duration": 13,
    "start_time": "2022-11-07T00:25:06.771Z"
   },
   {
    "duration": 4,
    "start_time": "2022-11-07T00:25:06.785Z"
   },
   {
    "duration": 3222,
    "start_time": "2022-11-07T00:25:06.790Z"
   },
   {
    "duration": 198,
    "start_time": "2022-11-07T00:25:10.014Z"
   },
   {
    "duration": 4116,
    "start_time": "2022-11-07T00:25:10.214Z"
   },
   {
    "duration": 17291,
    "start_time": "2022-11-07T00:27:48.158Z"
   },
   {
    "duration": 19603,
    "start_time": "2022-11-07T00:28:12.165Z"
   },
   {
    "duration": 97808,
    "start_time": "2022-11-07T00:28:43.190Z"
   },
   {
    "duration": 194187,
    "start_time": "2022-11-07T00:32:31.267Z"
   },
   {
    "duration": 4473,
    "start_time": "2022-11-07T00:35:45.455Z"
   },
   {
    "duration": 92,
    "start_time": "2022-11-07T00:40:12.830Z"
   },
   {
    "duration": 43,
    "start_time": "2022-11-07T00:43:08.390Z"
   },
   {
    "duration": 945,
    "start_time": "2022-11-07T00:43:12.772Z"
   },
   {
    "duration": 56,
    "start_time": "2022-11-07T00:43:13.719Z"
   },
   {
    "duration": 13,
    "start_time": "2022-11-07T00:43:13.776Z"
   },
   {
    "duration": 3,
    "start_time": "2022-11-07T00:43:13.791Z"
   },
   {
    "duration": 3196,
    "start_time": "2022-11-07T00:43:13.796Z"
   },
   {
    "duration": 200,
    "start_time": "2022-11-07T00:43:16.994Z"
   },
   {
    "duration": 4435,
    "start_time": "2022-11-07T00:43:17.196Z"
   },
   {
    "duration": 39384,
    "start_time": "2022-11-07T00:43:21.633Z"
   },
   {
    "duration": 0,
    "start_time": "2022-11-07T00:44:01.018Z"
   },
   {
    "duration": 4192,
    "start_time": "2022-11-07T00:44:06.848Z"
   },
   {
    "duration": 4346,
    "start_time": "2022-11-07T00:44:21.280Z"
   },
   {
    "duration": 5064,
    "start_time": "2022-11-07T00:44:40.662Z"
   },
   {
    "duration": 194259,
    "start_time": "2022-11-07T00:45:01.441Z"
   },
   {
    "duration": 29,
    "start_time": "2022-11-07T00:48:37.845Z"
   },
   {
    "duration": 939,
    "start_time": "2022-11-07T00:48:45.075Z"
   },
   {
    "duration": 62,
    "start_time": "2022-11-07T00:48:46.016Z"
   },
   {
    "duration": 15,
    "start_time": "2022-11-07T00:48:46.080Z"
   },
   {
    "duration": 4,
    "start_time": "2022-11-07T00:48:46.096Z"
   },
   {
    "duration": 26,
    "start_time": "2022-11-07T00:48:46.101Z"
   },
   {
    "duration": 9,
    "start_time": "2022-11-07T00:48:46.129Z"
   },
   {
    "duration": 17,
    "start_time": "2022-11-07T00:48:46.140Z"
   },
   {
    "duration": 102,
    "start_time": "2022-11-07T00:48:46.230Z"
   },
   {
    "duration": 2825,
    "start_time": "2022-11-07T00:48:46.334Z"
   },
   {
    "duration": 13558,
    "start_time": "2022-11-07T00:48:59.655Z"
   },
   {
    "duration": 945,
    "start_time": "2022-11-07T00:49:35.977Z"
   },
   {
    "duration": 55,
    "start_time": "2022-11-07T00:49:36.924Z"
   },
   {
    "duration": 13,
    "start_time": "2022-11-07T00:49:36.980Z"
   },
   {
    "duration": 4,
    "start_time": "2022-11-07T00:49:36.994Z"
   },
   {
    "duration": 5053,
    "start_time": "2022-11-07T00:49:36.999Z"
   },
   {
    "duration": 250,
    "start_time": "2022-11-07T00:49:42.053Z"
   },
   {
    "duration": 119,
    "start_time": "2022-11-07T00:49:42.304Z"
   },
   {
    "duration": 0,
    "start_time": "2022-11-07T00:49:42.425Z"
   },
   {
    "duration": 0,
    "start_time": "2022-11-07T00:49:42.426Z"
   },
   {
    "duration": 1007,
    "start_time": "2022-11-07T00:49:49.793Z"
   },
   {
    "duration": 58,
    "start_time": "2022-11-07T00:49:50.802Z"
   },
   {
    "duration": 13,
    "start_time": "2022-11-07T00:49:50.861Z"
   },
   {
    "duration": 3,
    "start_time": "2022-11-07T00:49:50.876Z"
   },
   {
    "duration": 5007,
    "start_time": "2022-11-07T00:49:50.881Z"
   },
   {
    "duration": 250,
    "start_time": "2022-11-07T00:49:55.889Z"
   },
   {
    "duration": 117,
    "start_time": "2022-11-07T00:49:56.140Z"
   },
   {
    "duration": 0,
    "start_time": "2022-11-07T00:49:56.259Z"
   },
   {
    "duration": 0,
    "start_time": "2022-11-07T00:49:56.260Z"
   },
   {
    "duration": 952,
    "start_time": "2022-11-07T00:50:15.970Z"
   },
   {
    "duration": 56,
    "start_time": "2022-11-07T00:50:16.924Z"
   },
   {
    "duration": 13,
    "start_time": "2022-11-07T00:50:16.982Z"
   },
   {
    "duration": 3,
    "start_time": "2022-11-07T00:50:16.996Z"
   },
   {
    "duration": 5130,
    "start_time": "2022-11-07T00:50:17.001Z"
   },
   {
    "duration": 251,
    "start_time": "2022-11-07T00:50:22.132Z"
   },
   {
    "duration": 117,
    "start_time": "2022-11-07T00:50:22.384Z"
   },
   {
    "duration": 0,
    "start_time": "2022-11-07T00:50:22.503Z"
   },
   {
    "duration": 0,
    "start_time": "2022-11-07T00:50:22.504Z"
   },
   {
    "duration": 1019,
    "start_time": "2022-11-07T00:50:54.418Z"
   },
   {
    "duration": 55,
    "start_time": "2022-11-07T00:50:55.439Z"
   },
   {
    "duration": 13,
    "start_time": "2022-11-07T00:50:55.496Z"
   },
   {
    "duration": 4,
    "start_time": "2022-11-07T00:50:55.510Z"
   },
   {
    "duration": 3202,
    "start_time": "2022-11-07T00:50:55.515Z"
   },
   {
    "duration": 213,
    "start_time": "2022-11-07T00:50:58.719Z"
   },
   {
    "duration": 4588,
    "start_time": "2022-11-07T00:50:58.934Z"
   },
   {
    "duration": 4501,
    "start_time": "2022-11-07T00:51:03.524Z"
   },
   {
    "duration": 939,
    "start_time": "2022-11-07T00:51:23.075Z"
   },
   {
    "duration": 55,
    "start_time": "2022-11-07T00:51:24.016Z"
   },
   {
    "duration": 12,
    "start_time": "2022-11-07T00:51:24.072Z"
   },
   {
    "duration": 3,
    "start_time": "2022-11-07T00:51:24.086Z"
   },
   {
    "duration": 3229,
    "start_time": "2022-11-07T00:51:24.090Z"
   },
   {
    "duration": 202,
    "start_time": "2022-11-07T00:51:27.322Z"
   },
   {
    "duration": 4302,
    "start_time": "2022-11-07T00:51:27.526Z"
   },
   {
    "duration": 4796,
    "start_time": "2022-11-07T00:51:31.830Z"
   },
   {
    "duration": 1001,
    "start_time": "2022-11-07T00:58:05.708Z"
   },
   {
    "duration": 56,
    "start_time": "2022-11-07T00:58:06.711Z"
   },
   {
    "duration": 13,
    "start_time": "2022-11-07T00:58:06.768Z"
   },
   {
    "duration": 3,
    "start_time": "2022-11-07T00:58:06.783Z"
   },
   {
    "duration": 53,
    "start_time": "2022-11-07T00:58:06.788Z"
   },
   {
    "duration": 12,
    "start_time": "2022-11-07T00:58:06.844Z"
   },
   {
    "duration": 68,
    "start_time": "2022-11-07T00:58:06.858Z"
   },
   {
    "duration": 103,
    "start_time": "2022-11-07T00:58:06.929Z"
   },
   {
    "duration": 57328,
    "start_time": "2022-11-07T00:58:07.034Z"
   },
   {
    "duration": 66,
    "start_time": "2022-11-07T01:06:37.758Z"
   },
   {
    "duration": 3,
    "start_time": "2022-11-07T01:08:28.987Z"
   },
   {
    "duration": 55,
    "start_time": "2022-11-07T01:08:28.992Z"
   },
   {
    "duration": 12,
    "start_time": "2022-11-07T01:08:29.048Z"
   },
   {
    "duration": 5,
    "start_time": "2022-11-07T01:08:29.061Z"
   },
   {
    "duration": 64,
    "start_time": "2022-11-07T01:08:29.068Z"
   },
   {
    "duration": 10,
    "start_time": "2022-11-07T01:08:29.133Z"
   },
   {
    "duration": 78,
    "start_time": "2022-11-07T01:08:29.145Z"
   },
   {
    "duration": 11724,
    "start_time": "2022-11-07T01:08:29.225Z"
   },
   {
    "duration": 271,
    "start_time": "2022-11-07T01:08:40.951Z"
   },
   {
    "duration": 2127,
    "start_time": "2022-11-07T01:08:41.225Z"
   },
   {
    "duration": 4,
    "start_time": "2022-11-07T01:12:11.350Z"
   },
   {
    "duration": 152,
    "start_time": "2022-11-07T01:12:15.671Z"
   },
   {
    "duration": 157,
    "start_time": "2022-11-07T01:14:05.367Z"
   },
   {
    "duration": 2051,
    "start_time": "2022-11-07T01:14:07.524Z"
   },
   {
    "duration": 31,
    "start_time": "2022-11-07T01:15:12.590Z"
   },
   {
    "duration": 7,
    "start_time": "2022-11-07T01:17:11.290Z"
   },
   {
    "duration": 134,
    "start_time": "2022-11-07T01:17:11.577Z"
   },
   {
    "duration": 4,
    "start_time": "2022-11-07T01:17:23.557Z"
   },
   {
    "duration": 2042,
    "start_time": "2022-11-07T01:18:29.725Z"
   },
   {
    "duration": 11,
    "start_time": "2022-11-07T01:18:31.769Z"
   },
   {
    "duration": 6,
    "start_time": "2022-11-07T01:18:31.782Z"
   },
   {
    "duration": 5,
    "start_time": "2022-11-07T01:18:55.725Z"
   },
   {
    "duration": 1038,
    "start_time": "2022-11-07T01:19:00.498Z"
   },
   {
    "duration": 57,
    "start_time": "2022-11-07T01:19:01.537Z"
   },
   {
    "duration": 13,
    "start_time": "2022-11-07T01:19:01.596Z"
   },
   {
    "duration": 36,
    "start_time": "2022-11-07T01:19:01.611Z"
   },
   {
    "duration": 70,
    "start_time": "2022-11-07T01:19:01.649Z"
   },
   {
    "duration": 12,
    "start_time": "2022-11-07T01:19:01.720Z"
   },
   {
    "duration": 95,
    "start_time": "2022-11-07T01:19:01.734Z"
   },
   {
    "duration": 2165,
    "start_time": "2022-11-07T01:19:01.831Z"
   },
   {
    "duration": 30,
    "start_time": "2022-11-07T01:19:03.998Z"
   },
   {
    "duration": 193,
    "start_time": "2022-11-07T01:19:04.031Z"
   },
   {
    "duration": 98,
    "start_time": "2022-11-07T01:19:04.226Z"
   },
   {
    "duration": 2024,
    "start_time": "2022-11-07T01:19:04.325Z"
   },
   {
    "duration": 15,
    "start_time": "2022-11-07T01:19:06.351Z"
   },
   {
    "duration": 4,
    "start_time": "2022-11-07T01:19:06.369Z"
   },
   {
    "duration": 114,
    "start_time": "2022-11-07T01:19:06.375Z"
   },
   {
    "duration": 9,
    "start_time": "2022-11-07T01:20:40.595Z"
   },
   {
    "duration": 984,
    "start_time": "2022-11-07T22:12:23.993Z"
   },
   {
    "duration": 151,
    "start_time": "2022-11-07T22:12:24.979Z"
   },
   {
    "duration": 13,
    "start_time": "2022-11-07T22:12:25.131Z"
   },
   {
    "duration": 8,
    "start_time": "2022-11-07T22:12:25.147Z"
   },
   {
    "duration": 90,
    "start_time": "2022-11-07T22:12:25.157Z"
   },
   {
    "duration": 13,
    "start_time": "2022-11-07T22:12:25.250Z"
   },
   {
    "duration": 185,
    "start_time": "2022-11-07T22:12:25.265Z"
   },
   {
    "duration": 2140,
    "start_time": "2022-11-07T22:12:25.452Z"
   },
   {
    "duration": 55,
    "start_time": "2022-11-07T22:12:27.593Z"
   },
   {
    "duration": 101,
    "start_time": "2022-11-07T22:12:27.650Z"
   },
   {
    "duration": 102,
    "start_time": "2022-11-07T22:12:27.753Z"
   },
   {
    "duration": 2111,
    "start_time": "2022-11-07T22:12:27.857Z"
   },
   {
    "duration": 11,
    "start_time": "2022-11-07T22:12:29.969Z"
   },
   {
    "duration": 3,
    "start_time": "2022-11-07T22:12:29.982Z"
   },
   {
    "duration": 10,
    "start_time": "2022-11-07T22:12:29.987Z"
   },
   {
    "duration": 382,
    "start_time": "2022-11-07T22:20:03.163Z"
   },
   {
    "duration": 194,
    "start_time": "2022-11-07T22:20:26.307Z"
   },
   {
    "duration": 1189,
    "start_time": "2022-11-07T22:20:56.259Z"
   },
   {
    "duration": 55,
    "start_time": "2022-11-07T22:20:57.449Z"
   },
   {
    "duration": 11,
    "start_time": "2022-11-07T22:20:57.505Z"
   },
   {
    "duration": 645,
    "start_time": "2022-11-07T22:20:57.518Z"
   },
   {
    "duration": 4,
    "start_time": "2022-11-07T22:20:58.167Z"
   },
   {
    "duration": 120,
    "start_time": "2022-11-07T22:20:58.172Z"
   },
   {
    "duration": 9,
    "start_time": "2022-11-07T22:20:58.293Z"
   },
   {
    "duration": 246,
    "start_time": "2022-11-07T22:20:58.304Z"
   },
   {
    "duration": 2200,
    "start_time": "2022-11-07T22:20:58.552Z"
   },
   {
    "duration": 11,
    "start_time": "2022-11-07T22:21:00.754Z"
   },
   {
    "duration": 189,
    "start_time": "2022-11-07T22:21:00.768Z"
   },
   {
    "duration": 87,
    "start_time": "2022-11-07T22:21:00.964Z"
   },
   {
    "duration": 2163,
    "start_time": "2022-11-07T22:21:01.053Z"
   },
   {
    "duration": 13,
    "start_time": "2022-11-07T22:21:03.219Z"
   },
   {
    "duration": 16,
    "start_time": "2022-11-07T22:21:03.233Z"
   },
   {
    "duration": 39,
    "start_time": "2022-11-07T22:21:03.250Z"
   },
   {
    "duration": 1155,
    "start_time": "2022-11-07T22:22:37.399Z"
   },
   {
    "duration": 53,
    "start_time": "2022-11-07T22:22:38.556Z"
   },
   {
    "duration": 14,
    "start_time": "2022-11-07T22:22:38.610Z"
   },
   {
    "duration": 620,
    "start_time": "2022-11-07T22:22:38.626Z"
   },
   {
    "duration": 5,
    "start_time": "2022-11-07T22:22:39.249Z"
   },
   {
    "duration": 60,
    "start_time": "2022-11-07T22:22:39.256Z"
   },
   {
    "duration": 11,
    "start_time": "2022-11-07T22:22:39.317Z"
   },
   {
    "duration": 125,
    "start_time": "2022-11-07T22:22:39.330Z"
   },
   {
    "duration": 2241,
    "start_time": "2022-11-07T22:22:39.457Z"
   },
   {
    "duration": 52,
    "start_time": "2022-11-07T22:22:41.700Z"
   },
   {
    "duration": 202,
    "start_time": "2022-11-07T22:22:41.754Z"
   },
   {
    "duration": 102,
    "start_time": "2022-11-07T22:22:41.960Z"
   },
   {
    "duration": 2105,
    "start_time": "2022-11-07T22:22:42.064Z"
   },
   {
    "duration": 13,
    "start_time": "2022-11-07T22:22:44.172Z"
   },
   {
    "duration": 4,
    "start_time": "2022-11-07T22:22:44.187Z"
   },
   {
    "duration": 13,
    "start_time": "2022-11-07T22:22:44.193Z"
   },
   {
    "duration": 153,
    "start_time": "2022-11-07T22:22:55.258Z"
   },
   {
    "duration": 1232,
    "start_time": "2022-11-07T22:23:03.071Z"
   },
   {
    "duration": 53,
    "start_time": "2022-11-07T22:23:04.305Z"
   },
   {
    "duration": 17,
    "start_time": "2022-11-07T22:23:04.572Z"
   },
   {
    "duration": 655,
    "start_time": "2022-11-07T22:23:06.394Z"
   },
   {
    "duration": 837,
    "start_time": "2022-11-07T22:23:14.544Z"
   },
   {
    "duration": 851,
    "start_time": "2022-11-07T22:23:20.684Z"
   },
   {
    "duration": 1145,
    "start_time": "2022-11-07T22:30:31.091Z"
   },
   {
    "duration": 1270,
    "start_time": "2022-11-07T22:30:54.476Z"
   },
   {
    "duration": 1772,
    "start_time": "2022-11-07T22:30:59.965Z"
   },
   {
    "duration": 978,
    "start_time": "2022-11-07T22:31:11.227Z"
   },
   {
    "duration": 623,
    "start_time": "2022-11-07T22:31:33.390Z"
   },
   {
    "duration": 473,
    "start_time": "2022-11-07T22:32:33.793Z"
   },
   {
    "duration": 476,
    "start_time": "2022-11-07T22:32:57.762Z"
   },
   {
    "duration": 49,
    "start_time": "2022-11-07T22:48:48.303Z"
   },
   {
    "duration": 10,
    "start_time": "2022-11-07T23:28:43.145Z"
   },
   {
    "duration": 3,
    "start_time": "2022-11-07T23:39:38.836Z"
   },
   {
    "duration": 108,
    "start_time": "2022-11-07T23:40:20.769Z"
   },
   {
    "duration": 1320,
    "start_time": "2022-11-07T23:40:45.274Z"
   },
   {
    "duration": 53,
    "start_time": "2022-11-07T23:40:46.596Z"
   },
   {
    "duration": 21,
    "start_time": "2022-11-07T23:40:46.651Z"
   },
   {
    "duration": 564,
    "start_time": "2022-11-07T23:40:46.674Z"
   },
   {
    "duration": 4,
    "start_time": "2022-11-07T23:40:47.240Z"
   },
   {
    "duration": 68,
    "start_time": "2022-11-07T23:40:47.245Z"
   },
   {
    "duration": 9,
    "start_time": "2022-11-07T23:40:47.315Z"
   },
   {
    "duration": 242,
    "start_time": "2022-11-07T23:40:47.326Z"
   },
   {
    "duration": 2373,
    "start_time": "2022-11-07T23:40:47.570Z"
   },
   {
    "duration": 15798,
    "start_time": "2022-11-07T23:40:49.945Z"
   },
   {
    "duration": 110,
    "start_time": "2022-11-07T23:41:05.744Z"
   },
   {
    "duration": 108,
    "start_time": "2022-11-07T23:41:05.857Z"
   },
   {
    "duration": 89,
    "start_time": "2022-11-07T23:41:05.969Z"
   },
   {
    "duration": 2332,
    "start_time": "2022-11-07T23:41:06.064Z"
   },
   {
    "duration": 12,
    "start_time": "2022-11-07T23:41:08.398Z"
   },
   {
    "duration": 4,
    "start_time": "2022-11-07T23:41:08.411Z"
   },
   {
    "duration": 13,
    "start_time": "2022-11-07T23:41:08.417Z"
   },
   {
    "duration": 111434,
    "start_time": "2022-11-07T23:41:26.260Z"
   },
   {
    "duration": 2524,
    "start_time": "2022-11-07T23:44:36.242Z"
   },
   {
    "duration": 14,
    "start_time": "2022-11-07T23:44:38.767Z"
   },
   {
    "duration": 4,
    "start_time": "2022-11-07T23:44:38.782Z"
   },
   {
    "duration": 5,
    "start_time": "2022-11-07T23:45:01.260Z"
   },
   {
    "duration": 8,
    "start_time": "2022-11-07T23:45:11.810Z"
   }
  ],
  "kernelspec": {
   "display_name": "Python 3 (ipykernel)",
   "language": "python",
   "name": "python3"
  },
  "language_info": {
   "codemirror_mode": {
    "name": "ipython",
    "version": 3
   },
   "file_extension": ".py",
   "mimetype": "text/x-python",
   "name": "python",
   "nbconvert_exporter": "python",
   "pygments_lexer": "ipython3",
   "version": "3.9.5"
  },
  "toc": {
   "base_numbering": 1,
   "nav_menu": {},
   "number_sections": true,
   "sideBar": true,
   "skip_h1_title": true,
   "title_cell": "Содержание",
   "title_sidebar": "Contents",
   "toc_cell": true,
   "toc_position": {
    "height": "calc(100% - 180px)",
    "left": "10px",
    "top": "150px",
    "width": "408.889px"
   },
   "toc_section_display": true,
   "toc_window_display": false
  }
 },
 "nbformat": 4,
 "nbformat_minor": 2
}
